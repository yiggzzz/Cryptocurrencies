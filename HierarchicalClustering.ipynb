{
 "cells": [
  {
   "cell_type": "code",
   "execution_count": 15,
   "id": "780e6172-2dbd-4791-b9ad-e09a7d5b662f",
   "metadata": {},
   "outputs": [],
   "source": [
    "import pandas as pd\n",
    "from sklearn.preprocessing import StandardScaler\n",
    "from sklearn.decomposition import PCA\n",
    "from sklearn.cluster import KMeans\n",
    "from sklearn.cluster import AgglomerativeClustering\n",
    "import hvplot.pandas\n",
    "import plotly.figure_factory as ff"
   ]
  },
  {
   "cell_type": "code",
   "execution_count": 16,
   "id": "99cf6eec-40be-41c3-a5b2-bdf4516ffd4a",
   "metadata": {},
   "outputs": [
    {
     "data": {
      "text/html": [
       "<div>\n",
       "<style scoped>\n",
       "    .dataframe tbody tr th:only-of-type {\n",
       "        vertical-align: middle;\n",
       "    }\n",
       "\n",
       "    .dataframe tbody tr th {\n",
       "        vertical-align: top;\n",
       "    }\n",
       "\n",
       "    .dataframe thead th {\n",
       "        text-align: right;\n",
       "    }\n",
       "</style>\n",
       "<table border=\"1\" class=\"dataframe\">\n",
       "  <thead>\n",
       "    <tr style=\"text-align: right;\">\n",
       "      <th></th>\n",
       "      <th>sepal_length</th>\n",
       "      <th>sepal_width</th>\n",
       "      <th>petal_length</th>\n",
       "      <th>petal_width</th>\n",
       "    </tr>\n",
       "  </thead>\n",
       "  <tbody>\n",
       "    <tr>\n",
       "      <th>0</th>\n",
       "      <td>5.1</td>\n",
       "      <td>3.5</td>\n",
       "      <td>1.4</td>\n",
       "      <td>0.2</td>\n",
       "    </tr>\n",
       "    <tr>\n",
       "      <th>1</th>\n",
       "      <td>4.9</td>\n",
       "      <td>3.0</td>\n",
       "      <td>1.4</td>\n",
       "      <td>0.2</td>\n",
       "    </tr>\n",
       "    <tr>\n",
       "      <th>2</th>\n",
       "      <td>4.7</td>\n",
       "      <td>3.2</td>\n",
       "      <td>1.3</td>\n",
       "      <td>0.2</td>\n",
       "    </tr>\n",
       "    <tr>\n",
       "      <th>3</th>\n",
       "      <td>4.6</td>\n",
       "      <td>3.1</td>\n",
       "      <td>1.5</td>\n",
       "      <td>0.2</td>\n",
       "    </tr>\n",
       "    <tr>\n",
       "      <th>4</th>\n",
       "      <td>5.0</td>\n",
       "      <td>3.6</td>\n",
       "      <td>1.4</td>\n",
       "      <td>0.2</td>\n",
       "    </tr>\n",
       "  </tbody>\n",
       "</table>\n",
       "</div>"
      ],
      "text/plain": [
       "   sepal_length  sepal_width  petal_length  petal_width\n",
       "0           5.1          3.5           1.4          0.2\n",
       "1           4.9          3.0           1.4          0.2\n",
       "2           4.7          3.2           1.3          0.2\n",
       "3           4.6          3.1           1.5          0.2\n",
       "4           5.0          3.6           1.4          0.2"
      ]
     },
     "execution_count": 16,
     "metadata": {},
     "output_type": "execute_result"
    }
   ],
   "source": [
    "file_path = \"Resources/new_iris_data.csv\"\n",
    "df_iris = pd.read_csv(file_path)\n",
    "df_iris.head()"
   ]
  },
  {
   "cell_type": "code",
   "execution_count": 17,
   "id": "f76c851b-11d5-46d4-826c-c03e8a7ebe80",
   "metadata": {},
   "outputs": [
    {
     "name": "stdout",
     "output_type": "stream",
     "text": [
      "[[-0.90068117  1.03205722 -1.3412724  -1.31297673]\n",
      " [-1.14301691 -0.1249576  -1.3412724  -1.31297673]\n",
      " [-1.38535265  0.33784833 -1.39813811 -1.31297673]\n",
      " [-1.50652052  0.10644536 -1.2844067  -1.31297673]\n",
      " [-1.02184904  1.26346019 -1.3412724  -1.31297673]]\n"
     ]
    }
   ],
   "source": [
    "iris_scaled = StandardScaler().fit_transform(df_iris)\n",
    "print(iris_scaled[0:5])"
   ]
  },
  {
   "cell_type": "code",
   "execution_count": 18,
   "id": "170a907d-f591-410d-ae0e-c7d0d136f8be",
   "metadata": {},
   "outputs": [],
   "source": [
    "# Initialize PCA model\n",
    "pca = PCA(n_components=2)"
   ]
  },
  {
   "cell_type": "code",
   "execution_count": 19,
   "id": "f87158d0-4fed-4139-a926-d06887a9cee0",
   "metadata": {},
   "outputs": [],
   "source": [
    "# Get two principal components for the iris data.\n",
    "iris_pca = pca.fit_transform(iris_scaled)"
   ]
  },
  {
   "cell_type": "code",
   "execution_count": 20,
   "id": "fd12bc25-ed6c-40cf-b5be-a84150318074",
   "metadata": {},
   "outputs": [
    {
     "data": {
      "text/html": [
       "<div>\n",
       "<style scoped>\n",
       "    .dataframe tbody tr th:only-of-type {\n",
       "        vertical-align: middle;\n",
       "    }\n",
       "\n",
       "    .dataframe tbody tr th {\n",
       "        vertical-align: top;\n",
       "    }\n",
       "\n",
       "    .dataframe thead th {\n",
       "        text-align: right;\n",
       "    }\n",
       "</style>\n",
       "<table border=\"1\" class=\"dataframe\">\n",
       "  <thead>\n",
       "    <tr style=\"text-align: right;\">\n",
       "      <th></th>\n",
       "      <th>principal component 1</th>\n",
       "      <th>principal component 2</th>\n",
       "    </tr>\n",
       "  </thead>\n",
       "  <tbody>\n",
       "    <tr>\n",
       "      <th>0</th>\n",
       "      <td>-2.264542</td>\n",
       "      <td>0.505704</td>\n",
       "    </tr>\n",
       "    <tr>\n",
       "      <th>1</th>\n",
       "      <td>-2.086426</td>\n",
       "      <td>-0.655405</td>\n",
       "    </tr>\n",
       "    <tr>\n",
       "      <th>2</th>\n",
       "      <td>-2.367950</td>\n",
       "      <td>-0.318477</td>\n",
       "    </tr>\n",
       "    <tr>\n",
       "      <th>3</th>\n",
       "      <td>-2.304197</td>\n",
       "      <td>-0.575368</td>\n",
       "    </tr>\n",
       "    <tr>\n",
       "      <th>4</th>\n",
       "      <td>-2.388777</td>\n",
       "      <td>0.674767</td>\n",
       "    </tr>\n",
       "  </tbody>\n",
       "</table>\n",
       "</div>"
      ],
      "text/plain": [
       "   principal component 1  principal component 2\n",
       "0              -2.264542               0.505704\n",
       "1              -2.086426              -0.655405\n",
       "2              -2.367950              -0.318477\n",
       "3              -2.304197              -0.575368\n",
       "4              -2.388777               0.674767"
      ]
     },
     "execution_count": 20,
     "metadata": {},
     "output_type": "execute_result"
    }
   ],
   "source": [
    "# Transform PCA data to a DataFrame\n",
    "df_iris_pca = pd.DataFrame(\n",
    "    data=iris_pca, columns=[\"principal component 1\", \"principal component 2\"]\n",
    ")\n",
    "df_iris_pca.head()"
   ]
  },
  {
   "cell_type": "code",
   "execution_count": 21,
   "id": "ad278f4f-0215-49fd-a86a-58f2fd32186e",
   "metadata": {},
   "outputs": [
    {
     "data": {
      "text/plain": [
       "array([0.72770452, 0.23030523])"
      ]
     },
     "execution_count": 21,
     "metadata": {},
     "output_type": "execute_result"
    }
   ],
   "source": [
    "pca.explained_variance_ratio_"
   ]
  },
  {
   "cell_type": "code",
   "execution_count": 22,
   "id": "b5335d98-5ee4-419a-8066-8b41ad7be8d1",
   "metadata": {},
   "outputs": [
    {
     "name": "stderr",
     "output_type": "stream",
     "text": [
      "C:\\Users\\yvari\\anaconda3\\envs\\PythonData\\envs\\mlenv\\lib\\site-packages\\sklearn\\cluster\\_kmeans.py:1040: UserWarning:\n",
      "\n",
      "KMeans is known to have a memory leak on Windows with MKL, when there are less chunks than available threads. You can avoid it by setting the environment variable OMP_NUM_THREADS=1.\n",
      "\n"
     ]
    },
    {
     "data": {},
     "metadata": {},
     "output_type": "display_data"
    },
    {
     "data": {
      "application/vnd.holoviews_exec.v0+json": "",
      "text/html": [
       "<div id='1428'>\n",
       "\n",
       "\n",
       "\n",
       "\n",
       "\n",
       "  <div class=\"bk-root\" id=\"47ea1844-a466-4609-a7ab-c3fa8593c123\" data-root-id=\"1428\"></div>\n",
       "</div>\n",
       "<script type=\"application/javascript\">(function(root) {\n",
       "  function embed_document(root) {\n",
       "    var docs_json = {\"5c5e5787-9fd2-44ed-9318-80f9cd6d12e1\":{\"defs\":[{\"extends\":null,\"module\":null,\"name\":\"ReactiveHTML1\",\"overrides\":[],\"properties\":[]},{\"extends\":null,\"module\":null,\"name\":\"FlexBox1\",\"overrides\":[],\"properties\":[{\"default\":\"flex-start\",\"kind\":null,\"name\":\"align_content\"},{\"default\":\"flex-start\",\"kind\":null,\"name\":\"align_items\"},{\"default\":\"row\",\"kind\":null,\"name\":\"flex_direction\"},{\"default\":\"wrap\",\"kind\":null,\"name\":\"flex_wrap\"},{\"default\":\"flex-start\",\"kind\":null,\"name\":\"justify_content\"}]},{\"extends\":null,\"module\":null,\"name\":\"GridStack1\",\"overrides\":[],\"properties\":[{\"default\":\"warn\",\"kind\":null,\"name\":\"mode\"},{\"default\":null,\"kind\":null,\"name\":\"ncols\"},{\"default\":null,\"kind\":null,\"name\":\"nrows\"},{\"default\":true,\"kind\":null,\"name\":\"allow_resize\"},{\"default\":true,\"kind\":null,\"name\":\"allow_drag\"},{\"default\":[],\"kind\":null,\"name\":\"state\"}]},{\"extends\":null,\"module\":null,\"name\":\"click1\",\"overrides\":[],\"properties\":[{\"default\":\"\",\"kind\":null,\"name\":\"terminal_output\"},{\"default\":\"\",\"kind\":null,\"name\":\"debug_name\"},{\"default\":0,\"kind\":null,\"name\":\"clears\"}]},{\"extends\":null,\"module\":null,\"name\":\"TemplateActions1\",\"overrides\":[],\"properties\":[{\"default\":0,\"kind\":null,\"name\":\"open_modal\"},{\"default\":0,\"kind\":null,\"name\":\"close_modal\"}]},{\"extends\":null,\"module\":null,\"name\":\"MaterialTemplateActions1\",\"overrides\":[],\"properties\":[{\"default\":0,\"kind\":null,\"name\":\"open_modal\"},{\"default\":0,\"kind\":null,\"name\":\"close_modal\"}]}],\"roots\":{\"references\":[{\"attributes\":{\"line_color\":\"#30a2da\",\"line_width\":2,\"x\":{\"field\":\"k\"},\"y\":{\"field\":\"inertia\"}},\"id\":\"1466\",\"type\":\"Line\"},{\"attributes\":{\"line_alpha\":0.1,\"line_color\":\"#30a2da\",\"line_width\":2,\"x\":{\"field\":\"k\"},\"y\":{\"field\":\"inertia\"}},\"id\":\"1467\",\"type\":\"Line\"},{\"attributes\":{},\"id\":\"1487\",\"type\":\"UnionRenderers\"},{\"attributes\":{\"coordinates\":null,\"data_source\":{\"id\":\"1463\"},\"glyph\":{\"id\":\"1466\"},\"group\":null,\"hover_glyph\":null,\"muted_glyph\":{\"id\":\"1468\"},\"nonselection_glyph\":{\"id\":\"1467\"},\"selection_glyph\":{\"id\":\"1471\"},\"view\":{\"id\":\"1470\"}},\"id\":\"1469\",\"type\":\"GlyphRenderer\"},{\"attributes\":{\"source\":{\"id\":\"1463\"}},\"id\":\"1470\",\"type\":\"CDSView\"},{\"attributes\":{\"callback\":null,\"renderers\":[{\"id\":\"1469\"}],\"tags\":[\"hv_created\"],\"tooltips\":[[\"k\",\"@{k}\"],[\"inertia\",\"@{inertia}\"]]},\"id\":\"1432\",\"type\":\"HoverTool\"},{\"attributes\":{},\"id\":\"1447\",\"type\":\"BasicTicker\"},{\"attributes\":{},\"id\":\"1450\",\"type\":\"SaveTool\"},{\"attributes\":{\"data\":{\"inertia\":{\"__ndarray__\":\"ZTafYnL2gUAzbWBmntZoQKGmqsr9Bl1ATfWgT6xnVkDg0qR94pNQQAwzFtg6gkxAL4lQDTvuR0D2MOcNVaJDQOW1b3wwFkBA7C2/QpNqPEA=\",\"dtype\":\"float64\",\"order\":\"little\",\"shape\":[10]},\"k\":[1,2,3,4,5,6,7,8,9,10]},\"selected\":{\"id\":\"1464\"},\"selection_policy\":{\"id\":\"1487\"}},\"id\":\"1463\",\"type\":\"ColumnDataSource\"},{\"attributes\":{},\"id\":\"1451\",\"type\":\"PanTool\"},{\"attributes\":{\"axis\":{\"id\":\"1442\"},\"coordinates\":null,\"grid_line_color\":null,\"group\":null,\"ticker\":null},\"id\":\"1445\",\"type\":\"Grid\"},{\"attributes\":{},\"id\":\"1454\",\"type\":\"ResetTool\"},{\"attributes\":{\"margin\":[5,5,5,5],\"name\":\"HSpacer02436\",\"sizing_mode\":\"stretch_width\"},\"id\":\"1429\",\"type\":\"Spacer\"},{\"attributes\":{},\"id\":\"1452\",\"type\":\"WheelZoomTool\"},{\"attributes\":{\"ticks\":[1,2,3,4,5,6,7,8,9,10]},\"id\":\"1472\",\"type\":\"FixedTicker\"},{\"attributes\":{},\"id\":\"1438\",\"type\":\"LinearScale\"},{\"attributes\":{},\"id\":\"1480\",\"type\":\"AllLabels\"},{\"attributes\":{\"overlay\":{\"id\":\"1455\"}},\"id\":\"1453\",\"type\":\"BoxZoomTool\"},{\"attributes\":{\"line_color\":\"#30a2da\",\"line_width\":2,\"x\":{\"field\":\"k\"},\"y\":{\"field\":\"inertia\"}},\"id\":\"1471\",\"type\":\"Line\"},{\"attributes\":{},\"id\":\"1479\",\"type\":\"BasicTickFormatter\"},{\"attributes\":{\"margin\":[5,5,5,5],\"name\":\"HSpacer02437\",\"sizing_mode\":\"stretch_width\"},\"id\":\"1499\",\"type\":\"Spacer\"},{\"attributes\":{\"line_alpha\":0.2,\"line_color\":\"#30a2da\",\"line_width\":2,\"x\":{\"field\":\"k\"},\"y\":{\"field\":\"inertia\"}},\"id\":\"1468\",\"type\":\"Line\"},{\"attributes\":{\"coordinates\":null,\"group\":null,\"text\":\"Elbow Curve\",\"text_color\":\"black\",\"text_font_size\":\"12pt\"},\"id\":\"1434\",\"type\":\"Title\"},{\"attributes\":{\"tools\":[{\"id\":\"1432\"},{\"id\":\"1450\"},{\"id\":\"1451\"},{\"id\":\"1452\"},{\"id\":\"1453\"},{\"id\":\"1454\"}]},\"id\":\"1456\",\"type\":\"Toolbar\"},{\"attributes\":{\"bottom_units\":\"screen\",\"coordinates\":null,\"fill_alpha\":0.5,\"fill_color\":\"lightgrey\",\"group\":null,\"left_units\":\"screen\",\"level\":\"overlay\",\"line_alpha\":1.0,\"line_color\":\"black\",\"line_dash\":[4,4],\"line_width\":2,\"right_units\":\"screen\",\"syncable\":false,\"top_units\":\"screen\"},\"id\":\"1455\",\"type\":\"BoxAnnotation\"},{\"attributes\":{},\"id\":\"1440\",\"type\":\"LinearScale\"},{\"attributes\":{\"end\":10.0,\"reset_end\":10.0,\"reset_start\":1.0,\"start\":1.0,\"tags\":[[[\"k\",\"k\",null]]]},\"id\":\"1430\",\"type\":\"Range1d\"},{\"attributes\":{\"axis_label\":\"inertia\",\"coordinates\":null,\"formatter\":{\"id\":\"1479\"},\"group\":null,\"major_label_policy\":{\"id\":\"1480\"},\"ticker\":{\"id\":\"1447\"}},\"id\":\"1446\",\"type\":\"LinearAxis\"},{\"attributes\":{},\"id\":\"1474\",\"type\":\"BasicTickFormatter\"},{\"attributes\":{\"axis_label\":\"k\",\"coordinates\":null,\"formatter\":{\"id\":\"1474\"},\"group\":null,\"major_label_policy\":{\"id\":\"1475\"},\"ticker\":{\"id\":\"1472\"}},\"id\":\"1442\",\"type\":\"LinearAxis\"},{\"attributes\":{\"children\":[{\"id\":\"1429\"},{\"id\":\"1433\"},{\"id\":\"1499\"}],\"margin\":[0,0,0,0],\"name\":\"Row02432\",\"tags\":[\"embedded\"]},\"id\":\"1428\",\"type\":\"Row\"},{\"attributes\":{\"axis\":{\"id\":\"1446\"},\"coordinates\":null,\"dimension\":1,\"grid_line_color\":null,\"group\":null,\"ticker\":null},\"id\":\"1449\",\"type\":\"Grid\"},{\"attributes\":{},\"id\":\"1475\",\"type\":\"AllLabels\"},{\"attributes\":{},\"id\":\"1464\",\"type\":\"Selection\"},{\"attributes\":{\"below\":[{\"id\":\"1442\"}],\"center\":[{\"id\":\"1445\"},{\"id\":\"1449\"}],\"height\":300,\"left\":[{\"id\":\"1446\"}],\"margin\":[5,5,5,5],\"min_border_bottom\":10,\"min_border_left\":10,\"min_border_right\":10,\"min_border_top\":10,\"renderers\":[{\"id\":\"1469\"}],\"sizing_mode\":\"fixed\",\"title\":{\"id\":\"1434\"},\"toolbar\":{\"id\":\"1456\"},\"width\":700,\"x_range\":{\"id\":\"1430\"},\"x_scale\":{\"id\":\"1438\"},\"y_range\":{\"id\":\"1431\"},\"y_scale\":{\"id\":\"1440\"}},\"id\":\"1433\",\"subtype\":\"Figure\",\"type\":\"Plot\"},{\"attributes\":{\"end\":629.4448064337395,\"reset_end\":629.4448064337395,\"reset_start\":-26.22264474443687,\"start\":-26.22264474443687,\"tags\":[[[\"inertia\",\"inertia\",null]]]},\"id\":\"1431\",\"type\":\"Range1d\"}],\"root_ids\":[\"1428\"]},\"title\":\"Bokeh Application\",\"version\":\"2.4.2\"}};\n",
       "    var render_items = [{\"docid\":\"5c5e5787-9fd2-44ed-9318-80f9cd6d12e1\",\"root_ids\":[\"1428\"],\"roots\":{\"1428\":\"47ea1844-a466-4609-a7ab-c3fa8593c123\"}}];\n",
       "    root.Bokeh.embed.embed_items_notebook(docs_json, render_items);\n",
       "  }\n",
       "  if (root.Bokeh !== undefined && root.Bokeh.Panel !== undefined) {\n",
       "    embed_document(root);\n",
       "  } else {\n",
       "    var attempts = 0;\n",
       "    var timer = setInterval(function(root) {\n",
       "      if (root.Bokeh !== undefined && root.Bokeh.Panel !== undefined) {\n",
       "        clearInterval(timer);\n",
       "        embed_document(root);\n",
       "      } else if (document.readyState == \"complete\") {\n",
       "        attempts++;\n",
       "        if (attempts > 200) {\n",
       "          clearInterval(timer);\n",
       "          console.log(\"Bokeh: ERROR: Unable to run BokehJS code because BokehJS library is missing\");\n",
       "        }\n",
       "      }\n",
       "    }, 25, root)\n",
       "  }\n",
       "})(window);</script>"
      ],
      "text/plain": [
       ":Curve   [k]   (inertia)"
      ]
     },
     "execution_count": 22,
     "metadata": {
      "application/vnd.holoviews_exec.v0+json": {
       "id": "1428"
      }
     },
     "output_type": "execute_result"
    }
   ],
   "source": [
    "# Find the best value for K\n",
    "inertia = []\n",
    "k = list(range(1, 11))\n",
    "\n",
    "# Calculate the inertia for the range of K values\n",
    "for i in k:\n",
    "    km = KMeans(n_clusters=i, random_state=0)\n",
    "    km.fit(df_iris_pca)\n",
    "    inertia.append(km.inertia_)\n",
    "\n",
    "# Create the elbow curve\n",
    "elbow_data = {\"k\": k, \"inertia\": inertia}\n",
    "df_elbow = pd.DataFrame(elbow_data)\n",
    "df_elbow.hvplot.line(x=\"k\", y=\"inertia\", xticks=k, title=\"Elbow Curve\")"
   ]
  },
  {
   "cell_type": "code",
   "execution_count": 23,
   "id": "c2f0251f-7b5b-4527-a50e-da06f5c76fb0",
   "metadata": {},
   "outputs": [
    {
     "data": {
      "text/html": [
       "<div>\n",
       "<style scoped>\n",
       "    .dataframe tbody tr th:only-of-type {\n",
       "        vertical-align: middle;\n",
       "    }\n",
       "\n",
       "    .dataframe tbody tr th {\n",
       "        vertical-align: top;\n",
       "    }\n",
       "\n",
       "    .dataframe thead th {\n",
       "        text-align: right;\n",
       "    }\n",
       "</style>\n",
       "<table border=\"1\" class=\"dataframe\">\n",
       "  <thead>\n",
       "    <tr style=\"text-align: right;\">\n",
       "      <th></th>\n",
       "      <th>principal component 1</th>\n",
       "      <th>principal component 2</th>\n",
       "      <th>class</th>\n",
       "    </tr>\n",
       "  </thead>\n",
       "  <tbody>\n",
       "    <tr>\n",
       "      <th>0</th>\n",
       "      <td>-2.264542</td>\n",
       "      <td>0.505704</td>\n",
       "      <td>0</td>\n",
       "    </tr>\n",
       "    <tr>\n",
       "      <th>1</th>\n",
       "      <td>-2.086426</td>\n",
       "      <td>-0.655405</td>\n",
       "      <td>0</td>\n",
       "    </tr>\n",
       "    <tr>\n",
       "      <th>2</th>\n",
       "      <td>-2.367950</td>\n",
       "      <td>-0.318477</td>\n",
       "      <td>0</td>\n",
       "    </tr>\n",
       "    <tr>\n",
       "      <th>3</th>\n",
       "      <td>-2.304197</td>\n",
       "      <td>-0.575368</td>\n",
       "      <td>0</td>\n",
       "    </tr>\n",
       "    <tr>\n",
       "      <th>4</th>\n",
       "      <td>-2.388777</td>\n",
       "      <td>0.674767</td>\n",
       "      <td>0</td>\n",
       "    </tr>\n",
       "  </tbody>\n",
       "</table>\n",
       "</div>"
      ],
      "text/plain": [
       "   principal component 1  principal component 2  class\n",
       "0              -2.264542               0.505704      0\n",
       "1              -2.086426              -0.655405      0\n",
       "2              -2.367950              -0.318477      0\n",
       "3              -2.304197              -0.575368      0\n",
       "4              -2.388777               0.674767      0"
      ]
     },
     "execution_count": 23,
     "metadata": {},
     "output_type": "execute_result"
    }
   ],
   "source": [
    "# Initialize the K-means model\n",
    "model = KMeans(n_clusters=3, random_state=0)\n",
    "\n",
    "# Fit the model\n",
    "model.fit(df_iris_pca)\n",
    "\n",
    "# Predict clusters\n",
    "predictions = model.predict(df_iris_pca)\n",
    "\n",
    "# Add the predicted class columns\n",
    "df_iris_pca[\"class\"] = model.labels_\n",
    "df_iris_pca.head()"
   ]
  },
  {
   "cell_type": "code",
   "execution_count": 24,
   "id": "5cefb931-b5e8-4cad-89ae-3ad1383b0976",
   "metadata": {},
   "outputs": [
    {
     "data": {},
     "metadata": {},
     "output_type": "display_data"
    },
    {
     "data": {
      "application/vnd.holoviews_exec.v0+json": "",
      "text/html": [
       "<div id='1546'>\n",
       "\n",
       "\n",
       "\n",
       "\n",
       "\n",
       "  <div class=\"bk-root\" id=\"2e597a8d-7168-4dd4-b70b-ea52f1a5e458\" data-root-id=\"1546\"></div>\n",
       "</div>\n",
       "<script type=\"application/javascript\">(function(root) {\n",
       "  function embed_document(root) {\n",
       "    var docs_json = {\"6a93e520-e574-4f92-bf4c-61555900cd97\":{\"defs\":[{\"extends\":null,\"module\":null,\"name\":\"ReactiveHTML1\",\"overrides\":[],\"properties\":[]},{\"extends\":null,\"module\":null,\"name\":\"FlexBox1\",\"overrides\":[],\"properties\":[{\"default\":\"flex-start\",\"kind\":null,\"name\":\"align_content\"},{\"default\":\"flex-start\",\"kind\":null,\"name\":\"align_items\"},{\"default\":\"row\",\"kind\":null,\"name\":\"flex_direction\"},{\"default\":\"wrap\",\"kind\":null,\"name\":\"flex_wrap\"},{\"default\":\"flex-start\",\"kind\":null,\"name\":\"justify_content\"}]},{\"extends\":null,\"module\":null,\"name\":\"GridStack1\",\"overrides\":[],\"properties\":[{\"default\":\"warn\",\"kind\":null,\"name\":\"mode\"},{\"default\":null,\"kind\":null,\"name\":\"ncols\"},{\"default\":null,\"kind\":null,\"name\":\"nrows\"},{\"default\":true,\"kind\":null,\"name\":\"allow_resize\"},{\"default\":true,\"kind\":null,\"name\":\"allow_drag\"},{\"default\":[],\"kind\":null,\"name\":\"state\"}]},{\"extends\":null,\"module\":null,\"name\":\"click1\",\"overrides\":[],\"properties\":[{\"default\":\"\",\"kind\":null,\"name\":\"terminal_output\"},{\"default\":\"\",\"kind\":null,\"name\":\"debug_name\"},{\"default\":0,\"kind\":null,\"name\":\"clears\"}]},{\"extends\":null,\"module\":null,\"name\":\"TemplateActions1\",\"overrides\":[],\"properties\":[{\"default\":0,\"kind\":null,\"name\":\"open_modal\"},{\"default\":0,\"kind\":null,\"name\":\"close_modal\"}]},{\"extends\":null,\"module\":null,\"name\":\"MaterialTemplateActions1\",\"overrides\":[],\"properties\":[{\"default\":0,\"kind\":null,\"name\":\"open_modal\"},{\"default\":0,\"kind\":null,\"name\":\"close_modal\"}]}],\"roots\":{\"references\":[{\"attributes\":{\"fill_alpha\":{\"value\":0.1},\"fill_color\":{\"value\":\"#fc4f30\"},\"hatch_alpha\":{\"value\":0.1},\"hatch_color\":{\"value\":\"#fc4f30\"},\"line_alpha\":{\"value\":0.1},\"line_color\":{\"value\":\"#fc4f30\"},\"size\":{\"value\":5.477225575051661},\"x\":{\"field\":\"principal component 1\"},\"y\":{\"field\":\"principal component 2\"}},\"id\":\"1614\",\"type\":\"Scatter\"},{\"attributes\":{\"overlay\":{\"id\":\"1575\"}},\"id\":\"1573\",\"type\":\"BoxZoomTool\"},{\"attributes\":{},\"id\":\"1572\",\"type\":\"WheelZoomTool\"},{\"attributes\":{\"data\":{\"class\":{\"__ndarray__\":\"AAAAAAAAAAAAAAAAAAAAAAAAAAAAAAAAAAAAAAAAAAAAAAAAAAAAAAAAAAAAAAAAAAAAAAAAAAAAAAAAAAAAAAAAAAAAAAAAAAAAAAAAAAAAAAAAAAAAAAAAAAAAAAAAAAAAAAAAAAAAAAAAAAAAAAAAAAAAAAAAAAAAAAAAAAAAAAAAAAAAAAAAAAAAAAAAAAAAAAAAAAAAAAAAAAAAAAAAAAAAAAAAAAAAAAAAAAAAAAAAAAAAAAAAAAAAAAAAAAAAAAAAAAA=\",\"dtype\":\"int32\",\"order\":\"little\",\"shape\":[50]},\"principal component 1\":{\"__ndarray__\":\"OxG/DcgdAsCeflXa/7AAwCstSgGQ8QLAqnjV6/5uAsB8OOBfNxwDwLEJAJp1kADA6lhZG9GQA8C3vPx66N4BwLbvZ05UvALA4dUzb2iCAcDFACQK0k4BwH2PWzp4ngLAakHW4evKAcBtYBiPIx4FwOBkYiHQiQHA7MLFMQADAsDCicmkO58BwNHnRqd8hQHADrKL2CBO/r9tMd43N7gCwDUu6+IFov6/J3pNIB2jAcAhHszufzEGwHCyHOBnIP2/cW9EsmPTAcBkStBn+E//v+cJWiugagDAzhcE6nVYAcDy6Z27WB8BwCENM3l7JgLA3eURJwwoAcCuCNRTnk/9v3SUD3eZ3QTAxoxIYeyAA8Dh1TNvaIIBwATB4qBfsAHApwtPDPdaAMDh1TNvaIIBwJvdMoLUfAPAUiP02UddAcA64QHLzkoCwFxzDEaD8v2/XPlj5HF2BMD2iQQfsG3/v/eHnMYlEQHAnu7lFFWaAMDP+qMb0QwDwI9moB9/LwPAKposq3LQAcDbjpZMy6UBwA==\",\"dtype\":\"float64\",\"order\":\"little\",\"shape\":[50]},\"principal component 2\":{\"__ndarray__\":\"Y+9787ku4D/xF8lWE/nkv2bYpqjuYdS/DCSQjGlp4r/T0afLsZflP7m+IZP5S/g/OySoGooWsz98eXQ10LHPP80IOjG4hfG/gk6pnFa23L9oMKXTKCHxPy2/qP2XTMQ/oao3kBix5r+FiXLvZwbuv9qryBtaPf4/krWrfGrHBUBhjF03Ujj4Pzf+/04udeA/9Ek0V9Tl9j8mpZIPTofyP3HAlsG9jNs/2/KSxId67j8/u+o4P1TfPybWDBwFVLs/R+1BJITCxD+yYRod23Pjv2+qjuRgBtE/b4xIfx6q4T/hGaA2hIvVP1tBWpX4JtS/PwayRej43r8Ulx54QH/cP7ZxJTRvQf0/w7Jwma57AUCCTqmcVrbcvwrn16FhmMe/s+VDvSnr5T+CTqmcVrbcv3PEP1q7Ouy/eUSP1gm80j9TwmaGk/PdP3x/28YcnwLAo+8l3FML3b9jssu+Q9XfP+reGJkvvvI/9owv2S8k5r9SqsG4/WjyP9GttwhpMde/d+6vZGBo8D8A7kmWeoGgPw==\",\"dtype\":\"float64\",\"order\":\"little\",\"shape\":[50]},\"principal_component_1\":{\"__ndarray__\":\"OxG/DcgdAsCeflXa/7AAwCstSgGQ8QLAqnjV6/5uAsB8OOBfNxwDwLEJAJp1kADA6lhZG9GQA8C3vPx66N4BwLbvZ05UvALA4dUzb2iCAcDFACQK0k4BwH2PWzp4ngLAakHW4evKAcBtYBiPIx4FwOBkYiHQiQHA7MLFMQADAsDCicmkO58BwNHnRqd8hQHADrKL2CBO/r9tMd43N7gCwDUu6+IFov6/J3pNIB2jAcAhHszufzEGwHCyHOBnIP2/cW9EsmPTAcBkStBn+E//v+cJWiugagDAzhcE6nVYAcDy6Z27WB8BwCENM3l7JgLA3eURJwwoAcCuCNRTnk/9v3SUD3eZ3QTAxoxIYeyAA8Dh1TNvaIIBwATB4qBfsAHApwtPDPdaAMDh1TNvaIIBwJvdMoLUfAPAUiP02UddAcA64QHLzkoCwFxzDEaD8v2/XPlj5HF2BMD2iQQfsG3/v/eHnMYlEQHAnu7lFFWaAMDP+qMb0QwDwI9moB9/LwPAKposq3LQAcDbjpZMy6UBwA==\",\"dtype\":\"float64\",\"order\":\"little\",\"shape\":[50]},\"principal_component_2\":{\"__ndarray__\":\"Y+9787ku4D/xF8lWE/nkv2bYpqjuYdS/DCSQjGlp4r/T0afLsZflP7m+IZP5S/g/OySoGooWsz98eXQ10LHPP80IOjG4hfG/gk6pnFa23L9oMKXTKCHxPy2/qP2XTMQ/oao3kBix5r+FiXLvZwbuv9qryBtaPf4/krWrfGrHBUBhjF03Ujj4Pzf+/04udeA/9Ek0V9Tl9j8mpZIPTofyP3HAlsG9jNs/2/KSxId67j8/u+o4P1TfPybWDBwFVLs/R+1BJITCxD+yYRod23Pjv2+qjuRgBtE/b4xIfx6q4T/hGaA2hIvVP1tBWpX4JtS/PwayRej43r8Ulx54QH/cP7ZxJTRvQf0/w7Jwma57AUCCTqmcVrbcvwrn16FhmMe/s+VDvSnr5T+CTqmcVrbcv3PEP1q7Ouy/eUSP1gm80j9TwmaGk/PdP3x/28YcnwLAo+8l3FML3b9jssu+Q9XfP+reGJkvvvI/9owv2S8k5r9SqsG4/WjyP9GttwhpMde/d+6vZGBo8D8A7kmWeoGgPw==\",\"dtype\":\"float64\",\"order\":\"little\",\"shape\":[50]}},\"selected\":{\"id\":\"1590\"},\"selection_policy\":{\"id\":\"1604\"}},\"id\":\"1589\",\"type\":\"ColumnDataSource\"},{\"attributes\":{\"coordinates\":null,\"group\":null,\"text_color\":\"black\",\"text_font_size\":\"12pt\"},\"id\":\"1554\",\"type\":\"Title\"},{\"attributes\":{},\"id\":\"1584\",\"type\":\"BasicTickFormatter\"},{\"attributes\":{\"below\":[{\"id\":\"1562\"}],\"center\":[{\"id\":\"1565\"},{\"id\":\"1569\"}],\"height\":300,\"left\":[{\"id\":\"1566\"}],\"margin\":[5,5,5,5],\"min_border_bottom\":10,\"min_border_left\":10,\"min_border_right\":10,\"min_border_top\":10,\"renderers\":[{\"id\":\"1595\"},{\"id\":\"1616\"},{\"id\":\"1638\"}],\"right\":[{\"id\":\"1607\"}],\"sizing_mode\":\"fixed\",\"title\":{\"id\":\"1554\"},\"toolbar\":{\"id\":\"1576\"},\"width\":700,\"x_range\":{\"id\":\"1548\"},\"x_scale\":{\"id\":\"1558\"},\"y_range\":{\"id\":\"1549\"},\"y_scale\":{\"id\":\"1560\"}},\"id\":\"1553\",\"subtype\":\"Figure\",\"type\":\"Plot\"},{\"attributes\":{},\"id\":\"1558\",\"type\":\"LinearScale\"},{\"attributes\":{\"source\":{\"id\":\"1610\"}},\"id\":\"1617\",\"type\":\"CDSView\"},{\"attributes\":{},\"id\":\"1567\",\"type\":\"BasicTicker\"},{\"attributes\":{\"fill_color\":{\"value\":\"#fc4f30\"},\"hatch_color\":{\"value\":\"#fc4f30\"},\"line_color\":{\"value\":\"#fc4f30\"},\"size\":{\"value\":5.477225575051661},\"x\":{\"field\":\"principal component 1\"},\"y\":{\"field\":\"principal component 2\"}},\"id\":\"1613\",\"type\":\"Scatter\"},{\"attributes\":{},\"id\":\"1563\",\"type\":\"BasicTicker\"},{\"attributes\":{\"axis\":{\"id\":\"1562\"},\"coordinates\":null,\"grid_line_color\":null,\"group\":null,\"ticker\":null},\"id\":\"1565\",\"type\":\"Grid\"},{\"attributes\":{\"angle\":{\"value\":0.0},\"fill_alpha\":{\"value\":1.0},\"fill_color\":{\"value\":\"#30a2da\"},\"hatch_alpha\":{\"value\":1.0},\"hatch_color\":{\"value\":\"#30a2da\"},\"hatch_scale\":{\"value\":12.0},\"hatch_weight\":{\"value\":1.0},\"line_alpha\":{\"value\":1.0},\"line_cap\":{\"value\":\"butt\"},\"line_color\":{\"value\":\"#30a2da\"},\"line_dash\":{\"value\":[]},\"line_dash_offset\":{\"value\":0},\"line_join\":{\"value\":\"bevel\"},\"line_width\":{\"value\":1},\"marker\":{\"value\":\"circle\"},\"size\":{\"value\":5.477225575051661},\"x\":{\"field\":\"principal component 1\"},\"y\":{\"field\":\"principal component 2\"}},\"id\":\"1609\",\"type\":\"Scatter\"},{\"attributes\":{\"data\":{\"class\":{\"__ndarray__\":\"AQAAAAEAAAABAAAAAQAAAAEAAAABAAAAAQAAAAEAAAABAAAAAQAAAAEAAAABAAAAAQAAAAEAAAABAAAAAQAAAAEAAAABAAAAAQAAAAEAAAABAAAAAQAAAAEAAAABAAAAAQAAAAEAAAABAAAAAQAAAAEAAAABAAAAAQAAAAEAAAABAAAAAQAAAAEAAAABAAAAAQAAAAEAAAABAAAAAQAAAAEAAAABAAAAAQAAAAEAAAABAAAAAQAAAAEAAAABAAAAAQAAAAEAAAABAAAAAQAAAAEAAAA=\",\"dtype\":\"int32\",\"order\":\"little\",\"shape\":[53]},\"principal component 1\":{\"__ndarray__\":\"fRWMhntt2T9HnJZFWCnxP2eBHlf2mtg/6f4dZv7c379qGywXnaPtP4bBkDZaWXQ/6N2FPizsv7+sz+h8JxTcP1ZNsk78puE/N0UqJwTz5j+1z63ghxOjv5lu06S8RdY/4rIv7V2iwz9k6iTH4XHzPzDYZACmFsQ/Va1SDE473j8OyjX41qXzP4kxy7fjI+Q/GdCK7kVq5j8bhVUnIzDlP8Ab1FJINai/Tz98rN0cvz9mkFg5BOqMPx3f6GWaNc4/DM1ZRTXo8D+hsJMoZVfMP8+bvwf1kvA/tV4TnFcrsT90NwN1kKDRP8d9yQ7wbdE/oo3+VwPx4z+13kvRzh7VP8LEFNWD6de/1iTllsIb0j8wX21EL8y2PwQkQhu5t8w/7wRG5kBd4j/XjFDrsj/dv96A0gDGJNA/3F8IKHdz8j/4oUp+m+/WP1n35HGkDPQ/GOKIxsts9z/7RPpdThD0P4titwdQKu8/8oqkmmBE9T9ffP3wHsDyP932a9zEx/E/JzazatUo8z+UvvFQw4ztP9xfCCh3c/I/R9VbMZXv+D802SvtkrLuPw==\",\"dtype\":\"float64\",\"order\":\"little\",\"shape\":[53]},\"principal component 2\":{\"__ndarray__\":\"j80hw3Uh/L99AFcJ4hrLv/IVlNb76eK/ZJSza/eU/b95jGFUCw+fP+nLA01tePC/8oKEXbZDBcDJ9gYTsCWuv0bNqHx+XPy/2nstxk+8x78wLLY26rLbvxu+JkVKZsi/k4nUeJ9N6b9h5T6HOSL6v71Ai9CC2fS/sQipiLWp2r9Cr8dW+Rvuv+bFU70Krdq/9DbCViNBsL9nGdg+X7fMv2YFEZBX6vC/asJ8cXkE+b9r1i92nSz5v0GekB1e1Oi/EC0SzX5h5L+Hbj2aaPnRv7iLs++KR/a/l8do/yc3y789ZwsN7Ub1vycJ/oM76fG/ucUd1SI0nD9n68QlE6Xvv87C5Ku5JADApUs7dJBT67+0jkY+Z2PGv1L2R1TcWdi/eDq1mhitw7+0+86JpaH4v6Z6HI5KEeO/UQhbdkNx5r9Clg29Jfb4v5MxaImirfK/tK9g7els3L9QKnQyOXv7v0nNWXwPR+K/QWwdsBUn37/F2YlbzWjUv/6TgLFv8dK/Ta/b9jwm6r/t/1pSILGTP1EIW3ZDcea/vlrVOlT47L/4Ciw2mtGWvw==\",\"dtype\":\"float64\",\"order\":\"little\",\"shape\":[53]},\"principal_component_1\":{\"__ndarray__\":\"fRWMhntt2T9HnJZFWCnxP2eBHlf2mtg/6f4dZv7c379qGywXnaPtP4bBkDZaWXQ/6N2FPizsv7+sz+h8JxTcP1ZNsk78puE/N0UqJwTz5j+1z63ghxOjv5lu06S8RdY/4rIv7V2iwz9k6iTH4XHzPzDYZACmFsQ/Va1SDE473j8OyjX41qXzP4kxy7fjI+Q/GdCK7kVq5j8bhVUnIzDlP8Ab1FJINai/Tz98rN0cvz9mkFg5BOqMPx3f6GWaNc4/DM1ZRTXo8D+hsJMoZVfMP8+bvwf1kvA/tV4TnFcrsT90NwN1kKDRP8d9yQ7wbdE/oo3+VwPx4z+13kvRzh7VP8LEFNWD6de/1iTllsIb0j8wX21EL8y2PwQkQhu5t8w/7wRG5kBd4j/XjFDrsj/dv96A0gDGJNA/3F8IKHdz8j/4oUp+m+/WP1n35HGkDPQ/GOKIxsts9z/7RPpdThD0P4titwdQKu8/8oqkmmBE9T9ffP3wHsDyP932a9zEx/E/JzazatUo8z+UvvFQw4ztP9xfCCh3c/I/R9VbMZXv+D802SvtkrLuPw==\",\"dtype\":\"float64\",\"order\":\"little\",\"shape\":[53]},\"principal_component_2\":{\"__ndarray__\":\"j80hw3Uh/L99AFcJ4hrLv/IVlNb76eK/ZJSza/eU/b95jGFUCw+fP+nLA01tePC/8oKEXbZDBcDJ9gYTsCWuv0bNqHx+XPy/2nstxk+8x78wLLY26rLbvxu+JkVKZsi/k4nUeJ9N6b9h5T6HOSL6v71Ai9CC2fS/sQipiLWp2r9Cr8dW+Rvuv+bFU70Krdq/9DbCViNBsL9nGdg+X7fMv2YFEZBX6vC/asJ8cXkE+b9r1i92nSz5v0GekB1e1Oi/EC0SzX5h5L+Hbj2aaPnRv7iLs++KR/a/l8do/yc3y789ZwsN7Ub1vycJ/oM76fG/ucUd1SI0nD9n68QlE6Xvv87C5Ku5JADApUs7dJBT67+0jkY+Z2PGv1L2R1TcWdi/eDq1mhitw7+0+86JpaH4v6Z6HI5KEeO/UQhbdkNx5r9Clg29Jfb4v5MxaImirfK/tK9g7els3L9QKnQyOXv7v0nNWXwPR+K/QWwdsBUn37/F2YlbzWjUv/6TgLFv8dK/Ta/b9jwm6r/t/1pSILGTP1EIW3ZDcea/vlrVOlT47L/4Ciw2mtGWvw==\",\"dtype\":\"float64\",\"order\":\"little\",\"shape\":[53]}},\"selected\":{\"id\":\"1611\"},\"selection_policy\":{\"id\":\"1627\"}},\"id\":\"1610\",\"type\":\"ColumnDataSource\"},{\"attributes\":{\"fill_color\":{\"value\":\"#e5ae38\"},\"hatch_color\":{\"value\":\"#e5ae38\"},\"line_color\":{\"value\":\"#e5ae38\"},\"size\":{\"value\":5.477225575051661},\"x\":{\"field\":\"principal component 1\"},\"y\":{\"field\":\"principal component 2\"}},\"id\":\"1635\",\"type\":\"Scatter\"},{\"attributes\":{\"coordinates\":null,\"data_source\":{\"id\":\"1589\"},\"glyph\":{\"id\":\"1592\"},\"group\":null,\"hover_glyph\":null,\"muted_glyph\":{\"id\":\"1594\"},\"nonselection_glyph\":{\"id\":\"1593\"},\"selection_glyph\":{\"id\":\"1609\"},\"view\":{\"id\":\"1596\"}},\"id\":\"1595\",\"type\":\"GlyphRenderer\"},{\"attributes\":{\"fill_alpha\":{\"value\":0.2},\"fill_color\":{\"value\":\"#fc4f30\"},\"hatch_alpha\":{\"value\":0.2},\"hatch_color\":{\"value\":\"#fc4f30\"},\"line_alpha\":{\"value\":0.2},\"line_color\":{\"value\":\"#fc4f30\"},\"size\":{\"value\":5.477225575051661},\"x\":{\"field\":\"principal component 1\"},\"y\":{\"field\":\"principal component 2\"}},\"id\":\"1615\",\"type\":\"Scatter\"},{\"attributes\":{\"label\":{\"value\":\"2\"},\"renderers\":[{\"id\":\"1638\"}]},\"id\":\"1654\",\"type\":\"LegendItem\"},{\"attributes\":{\"source\":{\"id\":\"1632\"}},\"id\":\"1639\",\"type\":\"CDSView\"},{\"attributes\":{\"label\":{\"value\":\"0\"},\"renderers\":[{\"id\":\"1595\"}]},\"id\":\"1608\",\"type\":\"LegendItem\"},{\"attributes\":{\"coordinates\":null,\"data_source\":{\"id\":\"1632\"},\"glyph\":{\"id\":\"1635\"},\"group\":null,\"hover_glyph\":null,\"muted_glyph\":{\"id\":\"1637\"},\"nonselection_glyph\":{\"id\":\"1636\"},\"selection_glyph\":{\"id\":\"1655\"},\"view\":{\"id\":\"1639\"}},\"id\":\"1638\",\"type\":\"GlyphRenderer\"},{\"attributes\":{\"angle\":{\"value\":0.0},\"fill_alpha\":{\"value\":1.0},\"fill_color\":{\"value\":\"#e5ae38\"},\"hatch_alpha\":{\"value\":1.0},\"hatch_color\":{\"value\":\"#e5ae38\"},\"hatch_scale\":{\"value\":12.0},\"hatch_weight\":{\"value\":1.0},\"line_alpha\":{\"value\":1.0},\"line_cap\":{\"value\":\"butt\"},\"line_color\":{\"value\":\"#e5ae38\"},\"line_dash\":{\"value\":[]},\"line_dash_offset\":{\"value\":0},\"line_join\":{\"value\":\"bevel\"},\"line_width\":{\"value\":1},\"marker\":{\"value\":\"circle\"},\"size\":{\"value\":5.477225575051661},\"x\":{\"field\":\"principal component 1\"},\"y\":{\"field\":\"principal component 2\"}},\"id\":\"1655\",\"type\":\"Scatter\"},{\"attributes\":{},\"id\":\"1560\",\"type\":\"LinearScale\"},{\"attributes\":{\"coordinates\":null,\"data_source\":{\"id\":\"1610\"},\"glyph\":{\"id\":\"1613\"},\"group\":null,\"hover_glyph\":null,\"muted_glyph\":{\"id\":\"1615\"},\"nonselection_glyph\":{\"id\":\"1614\"},\"selection_glyph\":{\"id\":\"1631\"},\"view\":{\"id\":\"1617\"}},\"id\":\"1616\",\"type\":\"GlyphRenderer\"},{\"attributes\":{\"children\":[{\"id\":\"1547\"},{\"id\":\"1553\"},{\"id\":\"1782\"}],\"margin\":[0,0,0,0],\"name\":\"Row02663\",\"tags\":[\"embedded\"]},\"id\":\"1546\",\"type\":\"Row\"},{\"attributes\":{\"axis_label\":\"principal component 2\",\"coordinates\":null,\"formatter\":{\"id\":\"1587\"},\"group\":null,\"major_label_policy\":{\"id\":\"1588\"},\"ticker\":{\"id\":\"1567\"}},\"id\":\"1566\",\"type\":\"LinearAxis\"},{\"attributes\":{\"axis_label\":\"principal component 1\",\"coordinates\":null,\"formatter\":{\"id\":\"1584\"},\"group\":null,\"major_label_policy\":{\"id\":\"1585\"},\"ticker\":{\"id\":\"1563\"}},\"id\":\"1562\",\"type\":\"LinearAxis\"},{\"attributes\":{\"end\":3.260414452028092,\"reset_end\":3.260414452028092,\"reset_start\":-3.1961060534153827,\"start\":-3.1961060534153827,\"tags\":[[[\"principal component 2\",\"principal component 2\",null]]]},\"id\":\"1549\",\"type\":\"Range1d\"},{\"attributes\":{\"fill_color\":{\"value\":\"#30a2da\"},\"hatch_color\":{\"value\":\"#30a2da\"},\"line_color\":{\"value\":\"#30a2da\"},\"size\":{\"value\":5.477225575051661},\"x\":{\"field\":\"principal component 1\"},\"y\":{\"field\":\"principal component 2\"}},\"id\":\"1592\",\"type\":\"Scatter\"},{\"attributes\":{\"data\":{\"class\":{\"__ndarray__\":\"AgAAAAIAAAACAAAAAgAAAAIAAAACAAAAAgAAAAIAAAACAAAAAgAAAAIAAAACAAAAAgAAAAIAAAACAAAAAgAAAAIAAAACAAAAAgAAAAIAAAACAAAAAgAAAAIAAAACAAAAAgAAAAIAAAACAAAAAgAAAAIAAAACAAAAAgAAAAIAAAACAAAAAgAAAAIAAAACAAAAAgAAAAIAAAACAAAAAgAAAAIAAAACAAAAAgAAAAIAAAACAAAAAgAAAAIAAAA=\",\"dtype\":\"int32\",\"order\":\"little\",\"shape\":[47]},\"principal component 1\":{\"__ndarray__\":\"cJicP/Wp8T/ldLjqfHDnP0VUdjeu3/M/jH2nUXn15z95t9eWSwfsPwHqCkTLn+c/YokX1wP06z/oYaNJSxH0PxJwyrRZu/U/WyqW1lWi2z+iboqoZcrwP19oZCMRkP0/WqOtkJqmAUCrkwP82gT3P8Cof1zh4v0/cUK5SJgIBkDiZzhbjmwCQPMm68uNAwBAHk9oqvMjAkBqi3vYw9r1P6gQOb/Elfk/Na6UReUl/j8V0QQIDXj5P3cdkBhdivc/PvYnSsB/A0AuhisDH3kKQJTn9rPvUgBANS4taDwvB0A8qLnnkUT7P6IJnj3aUv8/HNLu7wVR8D+c2hYHfpP8P3obVl0h1v0/hvhsDuZ7A0AutjE3VocCQGctB9QUxP0/jE42KVhoBkCu+a/eUEj5P+3OTXR+jfU/OAUQICao/T8MDMQGFyEAQLRqwqkqc/4/Nw5TGLJYAEC2eb2NdgMAQOvgNY2o7f0/84JComFV+D8J9OTEsgX2Pw==\",\"dtype\":\"float64\",\"order\":\"little\",\"shape\":[47]},\"principal component 2\":{\"__ndarray__\":\"23b2/Z2e6z8bPDfKBSjjP9nNPSGgrOM/r1+rWRnr6D9kOXqk51HgP4hBqiETwtk/Yp7yIJwL0D/vh7BClya1v0MteShkC9U/CQg+Gkhd6z/Bk6QJ17XgP3osy2Xw5Os/CMTpFji+4T/FlDOr+pqpv+lEGSLnotI/ngetLdY66T9QO0mDhTXaP7CQnq/nKee/vI2XATu+/j8yoQKF0jTmP2p9L85taNu/a6dDi22E2j8ufGgVRqrlPy83rDJONNA/fzlsMT10BEAHi6QTDFhjvz90hSJpCe0/a5KR42l12T+PWt+y8znwP5yAK36oDfA/V6j7cmzHsD/vvEvBKb3Iv5HkXX2vxeE/1V7ipF+Szz8j4TWwbAIFQJmBO1NYo8e/Sys1XS0I6z+hj2oE2yjxPxb8A+M9Bts/u6TAq3yE5T/X+zteX4jjP952Ilnq8+U/tiJfoH+r6z86eOdp3MbwP/lDMiongNg/d9tvjSkT0T8bLdG5BEPwPw==\",\"dtype\":\"float64\",\"order\":\"little\",\"shape\":[47]},\"principal_component_1\":{\"__ndarray__\":\"cJicP/Wp8T/ldLjqfHDnP0VUdjeu3/M/jH2nUXn15z95t9eWSwfsPwHqCkTLn+c/YokX1wP06z/oYaNJSxH0PxJwyrRZu/U/WyqW1lWi2z+iboqoZcrwP19oZCMRkP0/WqOtkJqmAUCrkwP82gT3P8Cof1zh4v0/cUK5SJgIBkDiZzhbjmwCQPMm68uNAwBAHk9oqvMjAkBqi3vYw9r1P6gQOb/Elfk/Na6UReUl/j8V0QQIDXj5P3cdkBhdivc/PvYnSsB/A0AuhisDH3kKQJTn9rPvUgBANS4taDwvB0A8qLnnkUT7P6IJnj3aUv8/HNLu7wVR8D+c2hYHfpP8P3obVl0h1v0/hvhsDuZ7A0AutjE3VocCQGctB9QUxP0/jE42KVhoBkCu+a/eUEj5P+3OTXR+jfU/OAUQICao/T8MDMQGFyEAQLRqwqkqc/4/Nw5TGLJYAEC2eb2NdgMAQOvgNY2o7f0/84JComFV+D8J9OTEsgX2Pw==\",\"dtype\":\"float64\",\"order\":\"little\",\"shape\":[47]},\"principal_component_2\":{\"__ndarray__\":\"23b2/Z2e6z8bPDfKBSjjP9nNPSGgrOM/r1+rWRnr6D9kOXqk51HgP4hBqiETwtk/Yp7yIJwL0D/vh7BClya1v0MteShkC9U/CQg+Gkhd6z/Bk6QJ17XgP3osy2Xw5Os/CMTpFji+4T/FlDOr+pqpv+lEGSLnotI/ngetLdY66T9QO0mDhTXaP7CQnq/nKee/vI2XATu+/j8yoQKF0jTmP2p9L85taNu/a6dDi22E2j8ufGgVRqrlPy83rDJONNA/fzlsMT10BEAHi6QTDFhjvz90hSJpCe0/a5KR42l12T+PWt+y8znwP5yAK36oDfA/V6j7cmzHsD/vvEvBKb3Iv5HkXX2vxeE/1V7ipF+Szz8j4TWwbAIFQJmBO1NYo8e/Sys1XS0I6z+hj2oE2yjxPxb8A+M9Bts/u6TAq3yE5T/X+zteX4jjP952Ilnq8+U/tiJfoH+r6z86eOdp3MbwP/lDMiongNg/d9tvjSkT0T8bLdG5BEPwPw==\",\"dtype\":\"float64\",\"order\":\"little\",\"shape\":[47]}},\"selected\":{\"id\":\"1633\"},\"selection_policy\":{\"id\":\"1651\"}},\"id\":\"1632\",\"type\":\"ColumnDataSource\"},{\"attributes\":{\"callback\":null,\"renderers\":[{\"id\":\"1595\"},{\"id\":\"1616\"},{\"id\":\"1638\"}],\"tags\":[\"hv_created\"],\"tooltips\":[[\"class\",\"@{class}\"],[\"principal component 1\",\"@{principal_component_1}\"],[\"principal component 2\",\"@{principal_component_2}\"]]},\"id\":\"1550\",\"type\":\"HoverTool\"},{\"attributes\":{},\"id\":\"1651\",\"type\":\"UnionRenderers\"},{\"attributes\":{},\"id\":\"1604\",\"type\":\"UnionRenderers\"},{\"attributes\":{\"axis\":{\"id\":\"1566\"},\"coordinates\":null,\"dimension\":1,\"grid_line_color\":null,\"group\":null,\"ticker\":null},\"id\":\"1569\",\"type\":\"Grid\"},{\"attributes\":{\"fill_alpha\":{\"value\":0.1},\"fill_color\":{\"value\":\"#30a2da\"},\"hatch_alpha\":{\"value\":0.1},\"hatch_color\":{\"value\":\"#30a2da\"},\"line_alpha\":{\"value\":0.1},\"line_color\":{\"value\":\"#30a2da\"},\"size\":{\"value\":5.477225575051661},\"x\":{\"field\":\"principal component 1\"},\"y\":{\"field\":\"principal component 2\"}},\"id\":\"1593\",\"type\":\"Scatter\"},{\"attributes\":{\"margin\":[5,5,5,5],\"name\":\"HSpacer02667\",\"sizing_mode\":\"stretch_width\"},\"id\":\"1547\",\"type\":\"Spacer\"},{\"attributes\":{\"fill_alpha\":{\"value\":0.1},\"fill_color\":{\"value\":\"#e5ae38\"},\"hatch_alpha\":{\"value\":0.1},\"hatch_color\":{\"value\":\"#e5ae38\"},\"line_alpha\":{\"value\":0.1},\"line_color\":{\"value\":\"#e5ae38\"},\"size\":{\"value\":5.477225575051661},\"x\":{\"field\":\"principal component 1\"},\"y\":{\"field\":\"principal component 2\"}},\"id\":\"1636\",\"type\":\"Scatter\"},{\"attributes\":{},\"id\":\"1627\",\"type\":\"UnionRenderers\"},{\"attributes\":{\"margin\":[5,5,5,5],\"name\":\"HSpacer02668\",\"sizing_mode\":\"stretch_width\"},\"id\":\"1782\",\"type\":\"Spacer\"},{\"attributes\":{\"source\":{\"id\":\"1589\"}},\"id\":\"1596\",\"type\":\"CDSView\"},{\"attributes\":{},\"id\":\"1590\",\"type\":\"Selection\"},{\"attributes\":{\"end\":3.569854510235274,\"reset_end\":3.569854510235274,\"reset_start\":-3.0348831212643517,\"start\":-3.0348831212643517,\"tags\":[[[\"principal component 1\",\"principal component 1\",null]]]},\"id\":\"1548\",\"type\":\"Range1d\"},{\"attributes\":{\"click_policy\":\"mute\",\"coordinates\":null,\"group\":null,\"items\":[{\"id\":\"1608\"},{\"id\":\"1630\"},{\"id\":\"1654\"}],\"location\":[0,0],\"title\":\"class\"},\"id\":\"1607\",\"type\":\"Legend\"},{\"attributes\":{},\"id\":\"1633\",\"type\":\"Selection\"},{\"attributes\":{\"tools\":[{\"id\":\"1550\"},{\"id\":\"1570\"},{\"id\":\"1571\"},{\"id\":\"1572\"},{\"id\":\"1573\"},{\"id\":\"1574\"}]},\"id\":\"1576\",\"type\":\"Toolbar\"},{\"attributes\":{\"label\":{\"value\":\"1\"},\"renderers\":[{\"id\":\"1616\"}]},\"id\":\"1630\",\"type\":\"LegendItem\"},{\"attributes\":{},\"id\":\"1611\",\"type\":\"Selection\"},{\"attributes\":{\"bottom_units\":\"screen\",\"coordinates\":null,\"fill_alpha\":0.5,\"fill_color\":\"lightgrey\",\"group\":null,\"left_units\":\"screen\",\"level\":\"overlay\",\"line_alpha\":1.0,\"line_color\":\"black\",\"line_dash\":[4,4],\"line_width\":2,\"right_units\":\"screen\",\"syncable\":false,\"top_units\":\"screen\"},\"id\":\"1575\",\"type\":\"BoxAnnotation\"},{\"attributes\":{\"fill_alpha\":{\"value\":0.2},\"fill_color\":{\"value\":\"#30a2da\"},\"hatch_alpha\":{\"value\":0.2},\"hatch_color\":{\"value\":\"#30a2da\"},\"line_alpha\":{\"value\":0.2},\"line_color\":{\"value\":\"#30a2da\"},\"size\":{\"value\":5.477225575051661},\"x\":{\"field\":\"principal component 1\"},\"y\":{\"field\":\"principal component 2\"}},\"id\":\"1594\",\"type\":\"Scatter\"},{\"attributes\":{},\"id\":\"1570\",\"type\":\"SaveTool\"},{\"attributes\":{},\"id\":\"1588\",\"type\":\"AllLabels\"},{\"attributes\":{},\"id\":\"1571\",\"type\":\"PanTool\"},{\"attributes\":{},\"id\":\"1585\",\"type\":\"AllLabels\"},{\"attributes\":{\"fill_alpha\":{\"value\":0.2},\"fill_color\":{\"value\":\"#e5ae38\"},\"hatch_alpha\":{\"value\":0.2},\"hatch_color\":{\"value\":\"#e5ae38\"},\"line_alpha\":{\"value\":0.2},\"line_color\":{\"value\":\"#e5ae38\"},\"size\":{\"value\":5.477225575051661},\"x\":{\"field\":\"principal component 1\"},\"y\":{\"field\":\"principal component 2\"}},\"id\":\"1637\",\"type\":\"Scatter\"},{\"attributes\":{},\"id\":\"1574\",\"type\":\"ResetTool\"},{\"attributes\":{\"angle\":{\"value\":0.0},\"fill_alpha\":{\"value\":1.0},\"fill_color\":{\"value\":\"#fc4f30\"},\"hatch_alpha\":{\"value\":1.0},\"hatch_color\":{\"value\":\"#fc4f30\"},\"hatch_scale\":{\"value\":12.0},\"hatch_weight\":{\"value\":1.0},\"line_alpha\":{\"value\":1.0},\"line_cap\":{\"value\":\"butt\"},\"line_color\":{\"value\":\"#fc4f30\"},\"line_dash\":{\"value\":[]},\"line_dash_offset\":{\"value\":0},\"line_join\":{\"value\":\"bevel\"},\"line_width\":{\"value\":1},\"marker\":{\"value\":\"circle\"},\"size\":{\"value\":5.477225575051661},\"x\":{\"field\":\"principal component 1\"},\"y\":{\"field\":\"principal component 2\"}},\"id\":\"1631\",\"type\":\"Scatter\"},{\"attributes\":{},\"id\":\"1587\",\"type\":\"BasicTickFormatter\"}],\"root_ids\":[\"1546\"]},\"title\":\"Bokeh Application\",\"version\":\"2.4.2\"}};\n",
       "    var render_items = [{\"docid\":\"6a93e520-e574-4f92-bf4c-61555900cd97\",\"root_ids\":[\"1546\"],\"roots\":{\"1546\":\"2e597a8d-7168-4dd4-b70b-ea52f1a5e458\"}}];\n",
       "    root.Bokeh.embed.embed_items_notebook(docs_json, render_items);\n",
       "  }\n",
       "  if (root.Bokeh !== undefined && root.Bokeh.Panel !== undefined) {\n",
       "    embed_document(root);\n",
       "  } else {\n",
       "    var attempts = 0;\n",
       "    var timer = setInterval(function(root) {\n",
       "      if (root.Bokeh !== undefined && root.Bokeh.Panel !== undefined) {\n",
       "        clearInterval(timer);\n",
       "        embed_document(root);\n",
       "      } else if (document.readyState == \"complete\") {\n",
       "        attempts++;\n",
       "        if (attempts > 200) {\n",
       "          clearInterval(timer);\n",
       "          console.log(\"Bokeh: ERROR: Unable to run BokehJS code because BokehJS library is missing\");\n",
       "        }\n",
       "      }\n",
       "    }, 25, root)\n",
       "  }\n",
       "})(window);</script>"
      ],
      "text/plain": [
       ":NdOverlay   [class]\n",
       "   :Scatter   [principal component 1]   (principal component 2,class)"
      ]
     },
     "execution_count": 24,
     "metadata": {
      "application/vnd.holoviews_exec.v0+json": {
       "id": "1546"
      }
     },
     "output_type": "execute_result"
    }
   ],
   "source": [
    "df_iris_pca.hvplot.scatter(\n",
    "    x=\"principal component 1\",\n",
    "    y=\"principal component 2\",\n",
    "    hover_cols=[\"class\"],\n",
    "    by=\"class\",\n",
    ")"
   ]
  },
  {
   "cell_type": "code",
   "execution_count": 25,
   "id": "ebe699f3-75d3-44e6-ade0-9ca343d4d116",
   "metadata": {},
   "outputs": [
    {
     "data": {
      "application/vnd.plotly.v1+json": {
       "config": {
        "plotlyServerURL": "https://plot.ly"
       },
       "data": [
        {
         "hoverinfo": "text",
         "marker": {
          "color": "rgb(0,116,217)"
         },
         "mode": "lines",
         "type": "scatter",
         "x": [
          25,
          25,
          35,
          35
         ],
         "xaxis": "x",
         "y": [
          0,
          0.07485825263999042,
          0.07485825263999042,
          0
         ],
         "yaxis": "y"
        },
        {
         "hoverinfo": "text",
         "marker": {
          "color": "rgb(0,116,217)"
         },
         "mode": "lines",
         "type": "scatter",
         "x": [
          15,
          15,
          30,
          30
         ],
         "xaxis": "x",
         "y": [
          0,
          0.35722646540345643,
          0.35722646540345643,
          0.07485825263999042
         ],
         "yaxis": "y"
        },
        {
         "hoverinfo": "text",
         "marker": {
          "color": "rgb(0,116,217)"
         },
         "mode": "lines",
         "type": "scatter",
         "x": [
          5,
          5,
          22.5,
          22.5
         ],
         "xaxis": "x",
         "y": [
          0,
          0.5727707745592823,
          0.5727707745592823,
          0.35722646540345643
         ],
         "yaxis": "y"
        },
        {
         "hoverinfo": "text",
         "marker": {
          "color": "rgb(0,116,217)"
         },
         "mode": "lines",
         "type": "scatter",
         "x": [
          65,
          65,
          75,
          75
         ],
         "xaxis": "x",
         "y": [
          0,
          0.1742238526903767,
          0.1742238526903767,
          0
         ],
         "yaxis": "y"
        },
        {
         "hoverinfo": "text",
         "marker": {
          "color": "rgb(0,116,217)"
         },
         "mode": "lines",
         "type": "scatter",
         "x": [
          55,
          55,
          70,
          70
         ],
         "xaxis": "x",
         "y": [
          0,
          0.383743695395854,
          0.383743695395854,
          0.1742238526903767
         ],
         "yaxis": "y"
        },
        {
         "hoverinfo": "text",
         "marker": {
          "color": "rgb(0,116,217)"
         },
         "mode": "lines",
         "type": "scatter",
         "x": [
          95,
          95,
          105,
          105
         ],
         "xaxis": "x",
         "y": [
          0,
          0.07319361257252492,
          0.07319361257252492,
          0
         ],
         "yaxis": "y"
        },
        {
         "hoverinfo": "text",
         "marker": {
          "color": "rgb(0,116,217)"
         },
         "mode": "lines",
         "type": "scatter",
         "x": [
          85,
          85,
          100,
          100
         ],
         "xaxis": "x",
         "y": [
          0,
          0.4573857687652164,
          0.4573857687652164,
          0.07319361257252492
         ],
         "yaxis": "y"
        },
        {
         "hoverinfo": "text",
         "marker": {
          "color": "rgb(0,116,217)"
         },
         "mode": "lines",
         "type": "scatter",
         "x": [
          62.5,
          62.5,
          92.5,
          92.5
         ],
         "xaxis": "x",
         "y": [
          0.383743695395854,
          0.7092374678608775,
          0.7092374678608775,
          0.4573857687652164
         ],
         "yaxis": "y"
        },
        {
         "hoverinfo": "text",
         "marker": {
          "color": "rgb(0,116,217)"
         },
         "mode": "lines",
         "type": "scatter",
         "x": [
          45,
          45,
          77.5,
          77.5
         ],
         "xaxis": "x",
         "y": [
          0,
          1.2353990195988573,
          1.2353990195988573,
          0.7092374678608775
         ],
         "yaxis": "y"
        },
        {
         "hoverinfo": "text",
         "marker": {
          "color": "rgb(0,116,217)"
         },
         "mode": "lines",
         "type": "scatter",
         "x": [
          13.75,
          13.75,
          61.25,
          61.25
         ],
         "xaxis": "x",
         "y": [
          0.5727707745592823,
          1.7623115910084433,
          1.7623115910084433,
          1.2353990195988573
         ],
         "yaxis": "y"
        },
        {
         "hoverinfo": "text",
         "marker": {
          "color": "rgb(0,116,217)"
         },
         "mode": "lines",
         "type": "scatter",
         "x": [
          125,
          125,
          135,
          135
         ],
         "xaxis": "x",
         "y": [
          0,
          0.1397597201570759,
          0.1397597201570759,
          0
         ],
         "yaxis": "y"
        },
        {
         "hoverinfo": "text",
         "marker": {
          "color": "rgb(0,116,217)"
         },
         "mode": "lines",
         "type": "scatter",
         "x": [
          115,
          115,
          130,
          130
         ],
         "xaxis": "x",
         "y": [
          0,
          0.706409692119992,
          0.706409692119992,
          0.1397597201570759
         ],
         "yaxis": "y"
        },
        {
         "hoverinfo": "text",
         "marker": {
          "color": "rgb(0,116,217)"
         },
         "mode": "lines",
         "type": "scatter",
         "x": [
          155,
          155,
          165,
          165
         ],
         "xaxis": "x",
         "y": [
          0,
          0.1469261044767661,
          0.1469261044767661,
          0
         ],
         "yaxis": "y"
        },
        {
         "hoverinfo": "text",
         "marker": {
          "color": "rgb(0,116,217)"
         },
         "mode": "lines",
         "type": "scatter",
         "x": [
          145,
          145,
          160,
          160
         ],
         "xaxis": "x",
         "y": [
          0,
          0.31179555833794215,
          0.31179555833794215,
          0.1469261044767661
         ],
         "yaxis": "y"
        },
        {
         "hoverinfo": "text",
         "marker": {
          "color": "rgb(0,116,217)"
         },
         "mode": "lines",
         "type": "scatter",
         "x": [
          195,
          195,
          205,
          205
         ],
         "xaxis": "x",
         "y": [
          0,
          0.1371099266116884,
          0.1371099266116884,
          0
         ],
         "yaxis": "y"
        },
        {
         "hoverinfo": "text",
         "marker": {
          "color": "rgb(0,116,217)"
         },
         "mode": "lines",
         "type": "scatter",
         "x": [
          185,
          185,
          200,
          200
         ],
         "xaxis": "x",
         "y": [
          0,
          0.3278569901228321,
          0.3278569901228321,
          0.1371099266116884
         ],
         "yaxis": "y"
        },
        {
         "hoverinfo": "text",
         "marker": {
          "color": "rgb(0,116,217)"
         },
         "mode": "lines",
         "type": "scatter",
         "x": [
          175,
          175,
          192.5,
          192.5
         ],
         "xaxis": "x",
         "y": [
          0,
          0.401929689613317,
          0.401929689613317,
          0.3278569901228321
         ],
         "yaxis": "y"
        },
        {
         "hoverinfo": "text",
         "marker": {
          "color": "rgb(0,116,217)"
         },
         "mode": "lines",
         "type": "scatter",
         "x": [
          152.5,
          152.5,
          183.75,
          183.75
         ],
         "xaxis": "x",
         "y": [
          0.31179555833794215,
          0.6189575064916495,
          0.6189575064916495,
          0.401929689613317
         ],
         "yaxis": "y"
        },
        {
         "hoverinfo": "text",
         "marker": {
          "color": "rgb(0,116,217)"
         },
         "mode": "lines",
         "type": "scatter",
         "x": [
          225,
          225,
          235,
          235
         ],
         "xaxis": "x",
         "y": [
          0,
          0.04280635802071525,
          0.04280635802071525,
          0
         ],
         "yaxis": "y"
        },
        {
         "hoverinfo": "text",
         "marker": {
          "color": "rgb(0,116,217)"
         },
         "mode": "lines",
         "type": "scatter",
         "x": [
          245,
          245,
          255,
          255
         ],
         "xaxis": "x",
         "y": [
          0,
          0.06306517628686342,
          0.06306517628686342,
          0
         ],
         "yaxis": "y"
        },
        {
         "hoverinfo": "text",
         "marker": {
          "color": "rgb(0,116,217)"
         },
         "mode": "lines",
         "type": "scatter",
         "x": [
          230,
          230,
          250,
          250
         ],
         "xaxis": "x",
         "y": [
          0.04280635802071525,
          0.18851634764369546,
          0.18851634764369546,
          0.06306517628686342
         ],
         "yaxis": "y"
        },
        {
         "hoverinfo": "text",
         "marker": {
          "color": "rgb(0,116,217)"
         },
         "mode": "lines",
         "type": "scatter",
         "x": [
          215,
          215,
          240,
          240
         ],
         "xaxis": "x",
         "y": [
          0,
          0.2345181844528478,
          0.2345181844528478,
          0.18851634764369546
         ],
         "yaxis": "y"
        },
        {
         "hoverinfo": "text",
         "marker": {
          "color": "rgb(0,116,217)"
         },
         "mode": "lines",
         "type": "scatter",
         "x": [
          275,
          275,
          285,
          285
         ],
         "xaxis": "x",
         "y": [
          0,
          0.0343721547425274,
          0.0343721547425274,
          0
         ],
         "yaxis": "y"
        },
        {
         "hoverinfo": "text",
         "marker": {
          "color": "rgb(0,116,217)"
         },
         "mode": "lines",
         "type": "scatter",
         "x": [
          265,
          265,
          280,
          280
         ],
         "xaxis": "x",
         "y": [
          0,
          0.12422212395013325,
          0.12422212395013325,
          0.0343721547425274
         ],
         "yaxis": "y"
        },
        {
         "hoverinfo": "text",
         "marker": {
          "color": "rgb(0,116,217)"
         },
         "mode": "lines",
         "type": "scatter",
         "x": [
          315,
          315,
          325,
          325
         ],
         "xaxis": "x",
         "y": [
          0,
          0.05139741229310803,
          0.05139741229310803,
          0
         ],
         "yaxis": "y"
        },
        {
         "hoverinfo": "text",
         "marker": {
          "color": "rgb(0,116,217)"
         },
         "mode": "lines",
         "type": "scatter",
         "x": [
          305,
          305,
          320,
          320
         ],
         "xaxis": "x",
         "y": [
          0,
          0.13615265946754612,
          0.13615265946754612,
          0.05139741229310803
         ],
         "yaxis": "y"
        },
        {
         "hoverinfo": "text",
         "marker": {
          "color": "rgb(0,116,217)"
         },
         "mode": "lines",
         "type": "scatter",
         "x": [
          295,
          295,
          312.5,
          312.5
         ],
         "xaxis": "x",
         "y": [
          0,
          0.17403345329248487,
          0.17403345329248487,
          0.13615265946754612
         ],
         "yaxis": "y"
        },
        {
         "hoverinfo": "text",
         "marker": {
          "color": "rgb(0,116,217)"
         },
         "mode": "lines",
         "type": "scatter",
         "x": [
          272.5,
          272.5,
          303.75,
          303.75
         ],
         "xaxis": "x",
         "y": [
          0.12422212395013325,
          0.3964003204597168,
          0.3964003204597168,
          0.17403345329248487
         ],
         "yaxis": "y"
        },
        {
         "hoverinfo": "text",
         "marker": {
          "color": "rgb(0,116,217)"
         },
         "mode": "lines",
         "type": "scatter",
         "x": [
          227.5,
          227.5,
          288.125,
          288.125
         ],
         "xaxis": "x",
         "y": [
          0.2345181844528478,
          0.7690855005091024,
          0.7690855005091024,
          0.3964003204597168
         ],
         "yaxis": "y"
        },
        {
         "hoverinfo": "text",
         "marker": {
          "color": "rgb(0,116,217)"
         },
         "mode": "lines",
         "type": "scatter",
         "x": [
          168.125,
          168.125,
          257.8125,
          257.8125
         ],
         "xaxis": "x",
         "y": [
          0.6189575064916495,
          0.9542697637012872,
          0.9542697637012872,
          0.7690855005091024
         ],
         "yaxis": "y"
        },
        {
         "hoverinfo": "text",
         "marker": {
          "color": "rgb(0,116,217)"
         },
         "mode": "lines",
         "type": "scatter",
         "x": [
          335,
          335,
          345,
          345
         ],
         "xaxis": "x",
         "y": [
          0,
          0.3260194072991155,
          0.3260194072991155,
          0
         ],
         "yaxis": "y"
        },
        {
         "hoverinfo": "text",
         "marker": {
          "color": "rgb(0,116,217)"
         },
         "mode": "lines",
         "type": "scatter",
         "x": [
          355,
          355,
          365,
          365
         ],
         "xaxis": "x",
         "y": [
          0,
          0.18732341299624378,
          0.18732341299624378,
          0
         ],
         "yaxis": "y"
        },
        {
         "hoverinfo": "text",
         "marker": {
          "color": "rgb(0,116,217)"
         },
         "mode": "lines",
         "type": "scatter",
         "x": [
          375,
          375,
          385,
          385
         ],
         "xaxis": "x",
         "y": [
          0,
          0.051397412293108055,
          0.051397412293108055,
          0
         ],
         "yaxis": "y"
        },
        {
         "hoverinfo": "text",
         "marker": {
          "color": "rgb(0,116,217)"
         },
         "mode": "lines",
         "type": "scatter",
         "x": [
          395,
          395,
          405,
          405
         ],
         "xaxis": "x",
         "y": [
          0,
          0.09410402468181746,
          0.09410402468181746,
          0
         ],
         "yaxis": "y"
        },
        {
         "hoverinfo": "text",
         "marker": {
          "color": "rgb(0,116,217)"
         },
         "mode": "lines",
         "type": "scatter",
         "x": [
          380,
          380,
          400,
          400
         ],
         "xaxis": "x",
         "y": [
          0.051397412293108055,
          0.23318427572456538,
          0.23318427572456538,
          0.09410402468181746
         ],
         "yaxis": "y"
        },
        {
         "hoverinfo": "text",
         "marker": {
          "color": "rgb(0,116,217)"
         },
         "mode": "lines",
         "type": "scatter",
         "x": [
          360,
          360,
          390,
          390
         ],
         "xaxis": "x",
         "y": [
          0.18732341299624378,
          0.513337909002522,
          0.513337909002522,
          0.23318427572456538
         ],
         "yaxis": "y"
        },
        {
         "hoverinfo": "text",
         "marker": {
          "color": "rgb(0,116,217)"
         },
         "mode": "lines",
         "type": "scatter",
         "x": [
          415,
          415,
          425,
          425
         ],
         "xaxis": "x",
         "y": [
          0,
          0.2359526302506209,
          0.2359526302506209,
          0
         ],
         "yaxis": "y"
        },
        {
         "hoverinfo": "text",
         "marker": {
          "color": "rgb(0,116,217)"
         },
         "mode": "lines",
         "type": "scatter",
         "x": [
          455,
          455,
          465,
          465
         ],
         "xaxis": "x",
         "y": [
          0,
          0.1685905140421089,
          0.1685905140421089,
          0
         ],
         "yaxis": "y"
        },
        {
         "hoverinfo": "text",
         "marker": {
          "color": "rgb(0,116,217)"
         },
         "mode": "lines",
         "type": "scatter",
         "x": [
          445,
          445,
          460,
          460
         ],
         "xaxis": "x",
         "y": [
          0,
          0.19625016991683633,
          0.19625016991683633,
          0.1685905140421089
         ],
         "yaxis": "y"
        },
        {
         "hoverinfo": "text",
         "marker": {
          "color": "rgb(0,116,217)"
         },
         "mode": "lines",
         "type": "scatter",
         "x": [
          435,
          435,
          452.5,
          452.5
         ],
         "xaxis": "x",
         "y": [
          0,
          0.33339670250867187,
          0.33339670250867187,
          0.19625016991683633
         ],
         "yaxis": "y"
        },
        {
         "hoverinfo": "text",
         "marker": {
          "color": "rgb(0,116,217)"
         },
         "mode": "lines",
         "type": "scatter",
         "x": [
          420,
          420,
          443.75,
          443.75
         ],
         "xaxis": "x",
         "y": [
          0.2359526302506209,
          0.6055813724162808,
          0.6055813724162808,
          0.33339670250867187
         ],
         "yaxis": "y"
        },
        {
         "hoverinfo": "text",
         "marker": {
          "color": "rgb(0,116,217)"
         },
         "mode": "lines",
         "type": "scatter",
         "x": [
          375,
          375,
          431.875,
          431.875
         ],
         "xaxis": "x",
         "y": [
          0.513337909002522,
          0.9588877899651141,
          0.9588877899651141,
          0.6055813724162808
         ],
         "yaxis": "y"
        },
        {
         "hoverinfo": "text",
         "marker": {
          "color": "rgb(0,116,217)"
         },
         "mode": "lines",
         "type": "scatter",
         "x": [
          340,
          340,
          403.4375,
          403.4375
         ],
         "xaxis": "x",
         "y": [
          0.3260194072991155,
          1.3539364891861472,
          1.3539364891861472,
          0.9588877899651141
         ],
         "yaxis": "y"
        },
        {
         "hoverinfo": "text",
         "marker": {
          "color": "rgb(0,116,217)"
         },
         "mode": "lines",
         "type": "scatter",
         "x": [
          212.96875,
          212.96875,
          371.71875,
          371.71875
         ],
         "xaxis": "x",
         "y": [
          0.9542697637012872,
          1.6115535631620224,
          1.6115535631620224,
          1.3539364891861472
         ],
         "yaxis": "y"
        },
        {
         "hoverinfo": "text",
         "marker": {
          "color": "rgb(0,116,217)"
         },
         "mode": "lines",
         "type": "scatter",
         "x": [
          122.5,
          122.5,
          292.34375,
          292.34375
         ],
         "xaxis": "x",
         "y": [
          0.706409692119992,
          2.909495844893769,
          2.909495844893769,
          1.6115535631620224
         ],
         "yaxis": "y"
        },
        {
         "hoverinfo": "text",
         "marker": {
          "color": "rgb(0,116,217)"
         },
         "mode": "lines",
         "type": "scatter",
         "x": [
          37.5,
          37.5,
          207.421875,
          207.421875
         ],
         "xaxis": "x",
         "y": [
          1.7623115910084433,
          3.3647650645415395,
          3.3647650645415395,
          2.909495844893769
         ],
         "yaxis": "y"
        },
        {
         "hoverinfo": "text",
         "marker": {
          "color": "rgb(0,116,217)"
         },
         "mode": "lines",
         "type": "scatter",
         "x": [
          495,
          495,
          505,
          505
         ],
         "xaxis": "x",
         "y": [
          0,
          0.384210122388074,
          0.384210122388074,
          0
         ],
         "yaxis": "y"
        },
        {
         "hoverinfo": "text",
         "marker": {
          "color": "rgb(0,116,217)"
         },
         "mode": "lines",
         "type": "scatter",
         "x": [
          485,
          485,
          500,
          500
         ],
         "xaxis": "x",
         "y": [
          0,
          0.42043420056182357,
          0.42043420056182357,
          0.384210122388074
         ],
         "yaxis": "y"
        },
        {
         "hoverinfo": "text",
         "marker": {
          "color": "rgb(0,116,217)"
         },
         "mode": "lines",
         "type": "scatter",
         "x": [
          475,
          475,
          492.5,
          492.5
         ],
         "xaxis": "x",
         "y": [
          0,
          0.9624508321318379,
          0.9624508321318379,
          0.42043420056182357
         ],
         "yaxis": "y"
        },
        {
         "hoverinfo": "text",
         "marker": {
          "color": "rgb(0,116,217)"
         },
         "mode": "lines",
         "type": "scatter",
         "x": [
          515,
          515,
          525,
          525
         ],
         "xaxis": "x",
         "y": [
          0,
          0.041966867284866385,
          0.041966867284866385,
          0
         ],
         "yaxis": "y"
        },
        {
         "hoverinfo": "text",
         "marker": {
          "color": "rgb(0,116,217)"
         },
         "mode": "lines",
         "type": "scatter",
         "x": [
          535,
          535,
          545,
          545
         ],
         "xaxis": "x",
         "y": [
          0,
          0.07630648304882554,
          0.07630648304882554,
          0
         ],
         "yaxis": "y"
        },
        {
         "hoverinfo": "text",
         "marker": {
          "color": "rgb(0,116,217)"
         },
         "mode": "lines",
         "type": "scatter",
         "x": [
          555,
          555,
          565,
          565
         ],
         "xaxis": "x",
         "y": [
          0,
          0.1052370812647474,
          0.1052370812647474,
          0
         ],
         "yaxis": "y"
        },
        {
         "hoverinfo": "text",
         "marker": {
          "color": "rgb(0,116,217)"
         },
         "mode": "lines",
         "type": "scatter",
         "x": [
          540,
          540,
          560,
          560
         ],
         "xaxis": "x",
         "y": [
          0.07630648304882554,
          0.23028186877490817,
          0.23028186877490817,
          0.1052370812647474
         ],
         "yaxis": "y"
        },
        {
         "hoverinfo": "text",
         "marker": {
          "color": "rgb(0,116,217)"
         },
         "mode": "lines",
         "type": "scatter",
         "x": [
          520,
          520,
          550,
          550
         ],
         "xaxis": "x",
         "y": [
          0.041966867284866385,
          0.2654534380697449,
          0.2654534380697449,
          0.23028186877490817
         ],
         "yaxis": "y"
        },
        {
         "hoverinfo": "text",
         "marker": {
          "color": "rgb(0,116,217)"
         },
         "mode": "lines",
         "type": "scatter",
         "x": [
          585,
          585,
          595,
          595
         ],
         "xaxis": "x",
         "y": [
          0,
          0.13230071340336028,
          0.13230071340336028,
          0
         ],
         "yaxis": "y"
        },
        {
         "hoverinfo": "text",
         "marker": {
          "color": "rgb(0,116,217)"
         },
         "mode": "lines",
         "type": "scatter",
         "x": [
          575,
          575,
          590,
          590
         ],
         "xaxis": "x",
         "y": [
          0,
          0.31954700422920623,
          0.31954700422920623,
          0.13230071340336028
         ],
         "yaxis": "y"
        },
        {
         "hoverinfo": "text",
         "marker": {
          "color": "rgb(0,116,217)"
         },
         "mode": "lines",
         "type": "scatter",
         "x": [
          535,
          535,
          582.5,
          582.5
         ],
         "xaxis": "x",
         "y": [
          0.2654534380697449,
          0.5817597519203276,
          0.5817597519203276,
          0.31954700422920623
         ],
         "yaxis": "y"
        },
        {
         "hoverinfo": "text",
         "marker": {
          "color": "rgb(0,116,217)"
         },
         "mode": "lines",
         "type": "scatter",
         "x": [
          625,
          625,
          635,
          635
         ],
         "xaxis": "x",
         "y": [
          0,
          0.043652854725121884,
          0.043652854725121884,
          0
         ],
         "yaxis": "y"
        },
        {
         "hoverinfo": "text",
         "marker": {
          "color": "rgb(0,116,217)"
         },
         "mode": "lines",
         "type": "scatter",
         "x": [
          645,
          645,
          655,
          655
         ],
         "xaxis": "x",
         "y": [
          0,
          0.04365285472512263,
          0.04365285472512263,
          0
         ],
         "yaxis": "y"
        },
        {
         "hoverinfo": "text",
         "marker": {
          "color": "rgb(0,116,217)"
         },
         "mode": "lines",
         "type": "scatter",
         "x": [
          630,
          630,
          650,
          650
         ],
         "xaxis": "x",
         "y": [
          0.043652854725121884,
          0.14513097895344748,
          0.14513097895344748,
          0.04365285472512263
         ],
         "yaxis": "y"
        },
        {
         "hoverinfo": "text",
         "marker": {
          "color": "rgb(0,116,217)"
         },
         "mode": "lines",
         "type": "scatter",
         "x": [
          615,
          615,
          640,
          640
         ],
         "xaxis": "x",
         "y": [
          0,
          0.2553227356318863,
          0.2553227356318863,
          0.14513097895344748
         ],
         "yaxis": "y"
        },
        {
         "hoverinfo": "text",
         "marker": {
          "color": "rgb(0,116,217)"
         },
         "mode": "lines",
         "type": "scatter",
         "x": [
          685,
          685,
          695,
          695
         ],
         "xaxis": "x",
         "y": [
          0,
          0.083375773550108,
          0.083375773550108,
          0
         ],
         "yaxis": "y"
        },
        {
         "hoverinfo": "text",
         "marker": {
          "color": "rgb(0,116,217)"
         },
         "mode": "lines",
         "type": "scatter",
         "x": [
          675,
          675,
          690,
          690
         ],
         "xaxis": "x",
         "y": [
          0,
          0.14223637132454733,
          0.14223637132454733,
          0.083375773550108
         ],
         "yaxis": "y"
        },
        {
         "hoverinfo": "text",
         "marker": {
          "color": "rgb(0,116,217)"
         },
         "mode": "lines",
         "type": "scatter",
         "x": [
          665,
          665,
          682.5,
          682.5
         ],
         "xaxis": "x",
         "y": [
          0,
          0.3203095029423256,
          0.3203095029423256,
          0.14223637132454733
         ],
         "yaxis": "y"
        },
        {
         "hoverinfo": "text",
         "marker": {
          "color": "rgb(0,116,217)"
         },
         "mode": "lines",
         "type": "scatter",
         "x": [
          627.5,
          627.5,
          673.75,
          673.75
         ],
         "xaxis": "x",
         "y": [
          0.2553227356318863,
          0.6022795159216782,
          0.6022795159216782,
          0.3203095029423256
         ],
         "yaxis": "y"
        },
        {
         "hoverinfo": "text",
         "marker": {
          "color": "rgb(0,116,217)"
         },
         "mode": "lines",
         "type": "scatter",
         "x": [
          725,
          725,
          735,
          735
         ],
         "xaxis": "x",
         "y": [
          0,
          0.05331907673260617,
          0.05331907673260617,
          0
         ],
         "yaxis": "y"
        },
        {
         "hoverinfo": "text",
         "marker": {
          "color": "rgb(0,116,217)"
         },
         "mode": "lines",
         "type": "scatter",
         "x": [
          715,
          715,
          730,
          730
         ],
         "xaxis": "x",
         "y": [
          0,
          0.12145780184386114,
          0.12145780184386114,
          0.05331907673260617
         ],
         "yaxis": "y"
        },
        {
         "hoverinfo": "text",
         "marker": {
          "color": "rgb(0,116,217)"
         },
         "mode": "lines",
         "type": "scatter",
         "x": [
          705,
          705,
          722.5,
          722.5
         ],
         "xaxis": "x",
         "y": [
          0,
          0.39646197580820486,
          0.39646197580820486,
          0.12145780184386114
         ],
         "yaxis": "y"
        },
        {
         "hoverinfo": "text",
         "marker": {
          "color": "rgb(0,116,217)"
         },
         "mode": "lines",
         "type": "scatter",
         "x": [
          745,
          745,
          755,
          755
         ],
         "xaxis": "x",
         "y": [
          0,
          0.21663725311855747,
          0.21663725311855747,
          0
         ],
         "yaxis": "y"
        },
        {
         "hoverinfo": "text",
         "marker": {
          "color": "rgb(0,116,217)"
         },
         "mode": "lines",
         "type": "scatter",
         "x": [
          785,
          785,
          795,
          795
         ],
         "xaxis": "x",
         "y": [
          0,
          0.08561271604142998,
          0.08561271604142998,
          0
         ],
         "yaxis": "y"
        },
        {
         "hoverinfo": "text",
         "marker": {
          "color": "rgb(0,116,217)"
         },
         "mode": "lines",
         "type": "scatter",
         "x": [
          775,
          775,
          790,
          790
         ],
         "xaxis": "x",
         "y": [
          0,
          0.12913046641490053,
          0.12913046641490053,
          0.08561271604142998
         ],
         "yaxis": "y"
        },
        {
         "hoverinfo": "text",
         "marker": {
          "color": "rgb(0,116,217)"
         },
         "mode": "lines",
         "type": "scatter",
         "x": [
          765,
          765,
          782.5,
          782.5
         ],
         "xaxis": "x",
         "y": [
          0,
          0.2735606229099886,
          0.2735606229099886,
          0.12913046641490053
         ],
         "yaxis": "y"
        },
        {
         "hoverinfo": "text",
         "marker": {
          "color": "rgb(0,116,217)"
         },
         "mode": "lines",
         "type": "scatter",
         "x": [
          750,
          750,
          773.75,
          773.75
         ],
         "xaxis": "x",
         "y": [
          0.21663725311855747,
          0.43254895124367804,
          0.43254895124367804,
          0.2735606229099886
         ],
         "yaxis": "y"
        },
        {
         "hoverinfo": "text",
         "marker": {
          "color": "rgb(0,116,217)"
         },
         "mode": "lines",
         "type": "scatter",
         "x": [
          713.75,
          713.75,
          761.875,
          761.875
         ],
         "xaxis": "x",
         "y": [
          0.39646197580820486,
          0.6261276907800091,
          0.6261276907800091,
          0.43254895124367804
         ],
         "yaxis": "y"
        },
        {
         "hoverinfo": "text",
         "marker": {
          "color": "rgb(0,116,217)"
         },
         "mode": "lines",
         "type": "scatter",
         "x": [
          650.625,
          650.625,
          737.8125,
          737.8125
         ],
         "xaxis": "x",
         "y": [
          0.6022795159216782,
          0.885134162860279,
          0.885134162860279,
          0.6261276907800091
         ],
         "yaxis": "y"
        },
        {
         "hoverinfo": "text",
         "marker": {
          "color": "rgb(0,116,217)"
         },
         "mode": "lines",
         "type": "scatter",
         "x": [
          605,
          605,
          694.21875,
          694.21875
         ],
         "xaxis": "x",
         "y": [
          0,
          1.0276987650236054,
          1.0276987650236054,
          0.885134162860279
         ],
         "yaxis": "y"
        },
        {
         "hoverinfo": "text",
         "marker": {
          "color": "rgb(0,116,217)"
         },
         "mode": "lines",
         "type": "scatter",
         "x": [
          558.75,
          558.75,
          649.609375,
          649.609375
         ],
         "xaxis": "x",
         "y": [
          0.5817597519203276,
          1.7086794888692804,
          1.7086794888692804,
          1.0276987650236054
         ],
         "yaxis": "y"
        },
        {
         "hoverinfo": "text",
         "marker": {
          "color": "rgb(0,116,217)"
         },
         "mode": "lines",
         "type": "scatter",
         "x": [
          483.75,
          483.75,
          604.1796875,
          604.1796875
         ],
         "xaxis": "x",
         "y": [
          0.9624508321318379,
          2.9069888715125742,
          2.9069888715125742,
          1.7086794888692804
         ],
         "yaxis": "y"
        },
        {
         "hoverinfo": "text",
         "marker": {
          "color": "rgb(0,116,217)"
         },
         "mode": "lines",
         "type": "scatter",
         "x": [
          825,
          825,
          835,
          835
         ],
         "xaxis": "x",
         "y": [
          0,
          0.2113490276669661,
          0.2113490276669661,
          0
         ],
         "yaxis": "y"
        },
        {
         "hoverinfo": "text",
         "marker": {
          "color": "rgb(0,116,217)"
         },
         "mode": "lines",
         "type": "scatter",
         "x": [
          815,
          815,
          830,
          830
         ],
         "xaxis": "x",
         "y": [
          0,
          0.33655104878654113,
          0.33655104878654113,
          0.2113490276669661
         ],
         "yaxis": "y"
        },
        {
         "hoverinfo": "text",
         "marker": {
          "color": "rgb(0,116,217)"
         },
         "mode": "lines",
         "type": "scatter",
         "x": [
          865,
          865,
          875,
          875
         ],
         "xaxis": "x",
         "y": [
          0,
          0.05331907673260732,
          0.05331907673260732,
          0
         ],
         "yaxis": "y"
        },
        {
         "hoverinfo": "text",
         "marker": {
          "color": "rgb(0,116,217)"
         },
         "mode": "lines",
         "type": "scatter",
         "x": [
          855,
          855,
          870,
          870
         ],
         "xaxis": "x",
         "y": [
          0,
          0.13784829338354526,
          0.13784829338354526,
          0.05331907673260732
         ],
         "yaxis": "y"
        },
        {
         "hoverinfo": "text",
         "marker": {
          "color": "rgb(0,116,217)"
         },
         "mode": "lines",
         "type": "scatter",
         "x": [
          845,
          845,
          862.5,
          862.5
         ],
         "xaxis": "x",
         "y": [
          0,
          0.32070277540188197,
          0.32070277540188197,
          0.13784829338354526
         ],
         "yaxis": "y"
        },
        {
         "hoverinfo": "text",
         "marker": {
          "color": "rgb(0,116,217)"
         },
         "mode": "lines",
         "type": "scatter",
         "x": [
          895,
          895,
          905,
          905
         ],
         "xaxis": "x",
         "y": [
          0,
          0.038153241524412095,
          0.038153241524412095,
          0
         ],
         "yaxis": "y"
        },
        {
         "hoverinfo": "text",
         "marker": {
          "color": "rgb(0,116,217)"
         },
         "mode": "lines",
         "type": "scatter",
         "x": [
          885,
          885,
          900,
          900
         ],
         "xaxis": "x",
         "y": [
          0,
          0.1451309789534474,
          0.1451309789534474,
          0.038153241524412095
         ],
         "yaxis": "y"
        },
        {
         "hoverinfo": "text",
         "marker": {
          "color": "rgb(0,116,217)"
         },
         "mode": "lines",
         "type": "scatter",
         "x": [
          935,
          935,
          945,
          945
         ],
         "xaxis": "x",
         "y": [
          0,
          0,
          0,
          0
         ],
         "yaxis": "y"
        },
        {
         "hoverinfo": "text",
         "marker": {
          "color": "rgb(0,116,217)"
         },
         "mode": "lines",
         "type": "scatter",
         "x": [
          925,
          925,
          940,
          940
         ],
         "xaxis": "x",
         "y": [
          0,
          0,
          0,
          0
         ],
         "yaxis": "y"
        },
        {
         "hoverinfo": "text",
         "marker": {
          "color": "rgb(0,116,217)"
         },
         "mode": "lines",
         "type": "scatter",
         "x": [
          915,
          915,
          932.5,
          932.5
         ],
         "xaxis": "x",
         "y": [
          0,
          0.05651285515586177,
          0.05651285515586177,
          0
         ],
         "yaxis": "y"
        },
        {
         "hoverinfo": "text",
         "marker": {
          "color": "rgb(0,116,217)"
         },
         "mode": "lines",
         "type": "scatter",
         "x": [
          955,
          955,
          965,
          965
         ],
         "xaxis": "x",
         "y": [
          0,
          0.15590864319878017,
          0.15590864319878017,
          0
         ],
         "yaxis": "y"
        },
        {
         "hoverinfo": "text",
         "marker": {
          "color": "rgb(0,116,217)"
         },
         "mode": "lines",
         "type": "scatter",
         "x": [
          923.75,
          923.75,
          960,
          960
         ],
         "xaxis": "x",
         "y": [
          0.05651285515586177,
          0.26288444146414364,
          0.26288444146414364,
          0.15590864319878017
         ],
         "yaxis": "y"
        },
        {
         "hoverinfo": "text",
         "marker": {
          "color": "rgb(0,116,217)"
         },
         "mode": "lines",
         "type": "scatter",
         "x": [
          892.5,
          892.5,
          941.875,
          941.875
         ],
         "xaxis": "x",
         "y": [
          0.1451309789534474,
          0.34869336804184453,
          0.34869336804184453,
          0.26288444146414364
         ],
         "yaxis": "y"
        },
        {
         "hoverinfo": "text",
         "marker": {
          "color": "rgb(0,116,217)"
         },
         "mode": "lines",
         "type": "scatter",
         "x": [
          853.75,
          853.75,
          917.1875,
          917.1875
         ],
         "xaxis": "x",
         "y": [
          0.32070277540188197,
          0.6202520639239186,
          0.6202520639239186,
          0.34869336804184453
         ],
         "yaxis": "y"
        },
        {
         "hoverinfo": "text",
         "marker": {
          "color": "rgb(0,116,217)"
         },
         "mode": "lines",
         "type": "scatter",
         "x": [
          822.5,
          822.5,
          885.46875,
          885.46875
         ],
         "xaxis": "x",
         "y": [
          0.33655104878654113,
          0.7836907919106653,
          0.7836907919106653,
          0.6202520639239186
         ],
         "yaxis": "y"
        },
        {
         "hoverinfo": "text",
         "marker": {
          "color": "rgb(0,116,217)"
         },
         "mode": "lines",
         "type": "scatter",
         "x": [
          805,
          805,
          853.984375,
          853.984375
         ],
         "xaxis": "x",
         "y": [
          0,
          2.0695891918900107,
          2.0695891918900107,
          0.7836907919106653
         ],
         "yaxis": "y"
        },
        {
         "hoverinfo": "text",
         "marker": {
          "color": "rgb(0,116,217)"
         },
         "mode": "lines",
         "type": "scatter",
         "x": [
          995,
          995,
          1005,
          1005
         ],
         "xaxis": "x",
         "y": [
          0,
          0.20980226479244993,
          0.20980226479244993,
          0
         ],
         "yaxis": "y"
        },
        {
         "hoverinfo": "text",
         "marker": {
          "color": "rgb(0,116,217)"
         },
         "mode": "lines",
         "type": "scatter",
         "x": [
          985,
          985,
          1000,
          1000
         ],
         "xaxis": "x",
         "y": [
          0,
          0.4856794131982549,
          0.4856794131982549,
          0.20980226479244993
         ],
         "yaxis": "y"
        },
        {
         "hoverinfo": "text",
         "marker": {
          "color": "rgb(0,116,217)"
         },
         "mode": "lines",
         "type": "scatter",
         "x": [
          1025,
          1025,
          1035,
          1035
         ],
         "xaxis": "x",
         "y": [
          0,
          0.15499823689709497,
          0.15499823689709497,
          0
         ],
         "yaxis": "y"
        },
        {
         "hoverinfo": "text",
         "marker": {
          "color": "rgb(0,116,217)"
         },
         "mode": "lines",
         "type": "scatter",
         "x": [
          1015,
          1015,
          1030,
          1030
         ],
         "xaxis": "x",
         "y": [
          0,
          0.2872280521239653,
          0.2872280521239653,
          0.15499823689709497
         ],
         "yaxis": "y"
        },
        {
         "hoverinfo": "text",
         "marker": {
          "color": "rgb(0,116,217)"
         },
         "mode": "lines",
         "type": "scatter",
         "x": [
          1045,
          1045,
          1055,
          1055
         ],
         "xaxis": "x",
         "y": [
          0,
          0.10786210118850593,
          0.10786210118850593,
          0
         ],
         "yaxis": "y"
        },
        {
         "hoverinfo": "text",
         "marker": {
          "color": "rgb(0,116,217)"
         },
         "mode": "lines",
         "type": "scatter",
         "x": [
          1065,
          1065,
          1075,
          1075
         ],
         "xaxis": "x",
         "y": [
          0,
          0.12145780184386124,
          0.12145780184386124,
          0
         ],
         "yaxis": "y"
        },
        {
         "hoverinfo": "text",
         "marker": {
          "color": "rgb(0,116,217)"
         },
         "mode": "lines",
         "type": "scatter",
         "x": [
          1050,
          1050,
          1070,
          1070
         ],
         "xaxis": "x",
         "y": [
          0.10786210118850593,
          0.357226465403457,
          0.357226465403457,
          0.12145780184386124
         ],
         "yaxis": "y"
        },
        {
         "hoverinfo": "text",
         "marker": {
          "color": "rgb(0,116,217)"
         },
         "mode": "lines",
         "type": "scatter",
         "x": [
          1022.5,
          1022.5,
          1060,
          1060
         ],
         "xaxis": "x",
         "y": [
          0.2872280521239653,
          0.6133451557743755,
          0.6133451557743755,
          0.357226465403457
         ],
         "yaxis": "y"
        },
        {
         "hoverinfo": "text",
         "marker": {
          "color": "rgb(0,116,217)"
         },
         "mode": "lines",
         "type": "scatter",
         "x": [
          992.5,
          992.5,
          1041.25,
          1041.25
         ],
         "xaxis": "x",
         "y": [
          0.4856794131982549,
          1.0522663473970162,
          1.0522663473970162,
          0.6133451557743755
         ],
         "yaxis": "y"
        },
        {
         "hoverinfo": "text",
         "marker": {
          "color": "rgb(0,116,217)"
         },
         "mode": "lines",
         "type": "scatter",
         "x": [
          975,
          975,
          1016.875,
          1016.875
         ],
         "xaxis": "x",
         "y": [
          0,
          1.3872049254999175,
          1.3872049254999175,
          1.0522663473970162
         ],
         "yaxis": "y"
        },
        {
         "hoverinfo": "text",
         "marker": {
          "color": "rgb(0,116,217)"
         },
         "mode": "lines",
         "type": "scatter",
         "x": [
          1095,
          1095,
          1105,
          1105
         ],
         "xaxis": "x",
         "y": [
          0,
          0.09268419554363233,
          0.09268419554363233,
          0
         ],
         "yaxis": "y"
        },
        {
         "hoverinfo": "text",
         "marker": {
          "color": "rgb(0,116,217)"
         },
         "mode": "lines",
         "type": "scatter",
         "x": [
          1085,
          1085,
          1100,
          1100
         ],
         "xaxis": "x",
         "y": [
          0,
          0.3914972780920594,
          0.3914972780920594,
          0.09268419554363233
         ],
         "yaxis": "y"
        },
        {
         "hoverinfo": "text",
         "marker": {
          "color": "rgb(0,116,217)"
         },
         "mode": "lines",
         "type": "scatter",
         "x": [
          1125,
          1125,
          1135,
          1135
         ],
         "xaxis": "x",
         "y": [
          0,
          0.22786300506616386,
          0.22786300506616386,
          0
         ],
         "yaxis": "y"
        },
        {
         "hoverinfo": "text",
         "marker": {
          "color": "rgb(0,116,217)"
         },
         "mode": "lines",
         "type": "scatter",
         "x": [
          1115,
          1115,
          1130,
          1130
         ],
         "xaxis": "x",
         "y": [
          0,
          0.40243904193663255,
          0.40243904193663255,
          0.22786300506616386
         ],
         "yaxis": "y"
        },
        {
         "hoverinfo": "text",
         "marker": {
          "color": "rgb(0,116,217)"
         },
         "mode": "lines",
         "type": "scatter",
         "x": [
          1145,
          1145,
          1155,
          1155
         ],
         "xaxis": "x",
         "y": [
          0,
          0.14143973075520208,
          0.14143973075520208,
          0
         ],
         "yaxis": "y"
        },
        {
         "hoverinfo": "text",
         "marker": {
          "color": "rgb(0,116,217)"
         },
         "mode": "lines",
         "type": "scatter",
         "x": [
          1165,
          1165,
          1175,
          1175
         ],
         "xaxis": "x",
         "y": [
          0,
          0.1056974193310929,
          0.1056974193310929,
          0
         ],
         "yaxis": "y"
        },
        {
         "hoverinfo": "text",
         "marker": {
          "color": "rgb(0,116,217)"
         },
         "mode": "lines",
         "type": "scatter",
         "x": [
          1195,
          1195,
          1205,
          1205
         ],
         "xaxis": "x",
         "y": [
          0,
          0,
          0,
          0
         ],
         "yaxis": "y"
        },
        {
         "hoverinfo": "text",
         "marker": {
          "color": "rgb(0,116,217)"
         },
         "mode": "lines",
         "type": "scatter",
         "x": [
          1185,
          1185,
          1200,
          1200
         ],
         "xaxis": "x",
         "y": [
          0,
          0.12401589958459804,
          0.12401589958459804,
          0
         ],
         "yaxis": "y"
        },
        {
         "hoverinfo": "text",
         "marker": {
          "color": "rgb(0,116,217)"
         },
         "mode": "lines",
         "type": "scatter",
         "x": [
          1170,
          1170,
          1192.5,
          1192.5
         ],
         "xaxis": "x",
         "y": [
          0.1056974193310929,
          0.33239907488313597,
          0.33239907488313597,
          0.12401589958459804
         ],
         "yaxis": "y"
        },
        {
         "hoverinfo": "text",
         "marker": {
          "color": "rgb(0,116,217)"
         },
         "mode": "lines",
         "type": "scatter",
         "x": [
          1150,
          1150,
          1181.25,
          1181.25
         ],
         "xaxis": "x",
         "y": [
          0.14143973075520208,
          0.506339126918158,
          0.506339126918158,
          0.33239907488313597
         ],
         "yaxis": "y"
        },
        {
         "hoverinfo": "text",
         "marker": {
          "color": "rgb(0,116,217)"
         },
         "mode": "lines",
         "type": "scatter",
         "x": [
          1122.5,
          1122.5,
          1165.625,
          1165.625
         ],
         "xaxis": "x",
         "y": [
          0.40243904193663255,
          0.7533870180569348,
          0.7533870180569348,
          0.506339126918158
         ],
         "yaxis": "y"
        },
        {
         "hoverinfo": "text",
         "marker": {
          "color": "rgb(0,116,217)"
         },
         "mode": "lines",
         "type": "scatter",
         "x": [
          1092.5,
          1092.5,
          1144.0625,
          1144.0625
         ],
         "xaxis": "x",
         "y": [
          0.3914972780920594,
          1.290648587987076,
          1.290648587987076,
          0.7533870180569348
         ],
         "yaxis": "y"
        },
        {
         "hoverinfo": "text",
         "marker": {
          "color": "rgb(0,116,217)"
         },
         "mode": "lines",
         "type": "scatter",
         "x": [
          1215,
          1215,
          1225,
          1225
         ],
         "xaxis": "x",
         "y": [
          0,
          0.13230071340336036,
          0.13230071340336036,
          0
         ],
         "yaxis": "y"
        },
        {
         "hoverinfo": "text",
         "marker": {
          "color": "rgb(0,116,217)"
         },
         "mode": "lines",
         "type": "scatter",
         "x": [
          1245,
          1245,
          1255,
          1255
         ],
         "xaxis": "x",
         "y": [
          0,
          0.08393373456973267,
          0.08393373456973267,
          0
         ],
         "yaxis": "y"
        },
        {
         "hoverinfo": "text",
         "marker": {
          "color": "rgb(0,116,217)"
         },
         "mode": "lines",
         "type": "scatter",
         "x": [
          1235,
          1235,
          1250,
          1250
         ],
         "xaxis": "x",
         "y": [
          0,
          0.14415651931954462,
          0.14415651931954462,
          0.08393373456973267
         ],
         "yaxis": "y"
        },
        {
         "hoverinfo": "text",
         "marker": {
          "color": "rgb(0,116,217)"
         },
         "mode": "lines",
         "type": "scatter",
         "x": [
          1220,
          1220,
          1242.5,
          1242.5
         ],
         "xaxis": "x",
         "y": [
          0.13230071340336036,
          0.30537947027423745,
          0.30537947027423745,
          0.14415651931954462
         ],
         "yaxis": "y"
        },
        {
         "hoverinfo": "text",
         "marker": {
          "color": "rgb(0,116,217)"
         },
         "mode": "lines",
         "type": "scatter",
         "x": [
          1265,
          1265,
          1275,
          1275
         ],
         "xaxis": "x",
         "y": [
          0,
          0.05919022499216734,
          0.05919022499216734,
          0
         ],
         "yaxis": "y"
        },
        {
         "hoverinfo": "text",
         "marker": {
          "color": "rgb(0,116,217)"
         },
         "mode": "lines",
         "type": "scatter",
         "x": [
          1285,
          1285,
          1295,
          1295
         ],
         "xaxis": "x",
         "y": [
          0,
          0.14271216373112103,
          0.14271216373112103,
          0
         ],
         "yaxis": "y"
        },
        {
         "hoverinfo": "text",
         "marker": {
          "color": "rgb(0,116,217)"
         },
         "mode": "lines",
         "type": "scatter",
         "x": [
          1270,
          1270,
          1290,
          1290
         ],
         "xaxis": "x",
         "y": [
          0.05919022499216734,
          0.38342127406646537,
          0.38342127406646537,
          0.14271216373112103
         ],
         "yaxis": "y"
        },
        {
         "hoverinfo": "text",
         "marker": {
          "color": "rgb(0,116,217)"
         },
         "mode": "lines",
         "type": "scatter",
         "x": [
          1231.25,
          1231.25,
          1280,
          1280
         ],
         "xaxis": "x",
         "y": [
          0.30537947027423745,
          0.6353698952974254,
          0.6353698952974254,
          0.38342127406646537
         ],
         "yaxis": "y"
        },
        {
         "hoverinfo": "text",
         "marker": {
          "color": "rgb(0,116,217)"
         },
         "mode": "lines",
         "type": "scatter",
         "x": [
          1315,
          1315,
          1325,
          1325
         ],
         "xaxis": "x",
         "y": [
          0,
          0.011445559135701245,
          0.011445559135701245,
          0
         ],
         "yaxis": "y"
        },
        {
         "hoverinfo": "text",
         "marker": {
          "color": "rgb(0,116,217)"
         },
         "mode": "lines",
         "type": "scatter",
         "x": [
          1305,
          1305,
          1320,
          1320
         ],
         "xaxis": "x",
         "y": [
          0,
          0.06214780539363288,
          0.06214780539363288,
          0.011445559135701245
         ],
         "yaxis": "y"
        },
        {
         "hoverinfo": "text",
         "marker": {
          "color": "rgb(0,116,217)"
         },
         "mode": "lines",
         "type": "scatter",
         "x": [
          1345,
          1345,
          1355,
          1355
         ],
         "xaxis": "x",
         "y": [
          0,
          0.06481686495779476,
          0.06481686495779476,
          0
         ],
         "yaxis": "y"
        },
        {
         "hoverinfo": "text",
         "marker": {
          "color": "rgb(0,116,217)"
         },
         "mode": "lines",
         "type": "scatter",
         "x": [
          1335,
          1335,
          1350,
          1350
         ],
         "xaxis": "x",
         "y": [
          0,
          0.1460865889046133,
          0.1460865889046133,
          0.06481686495779476
         ],
         "yaxis": "y"
        },
        {
         "hoverinfo": "text",
         "marker": {
          "color": "rgb(0,116,217)"
         },
         "mode": "lines",
         "type": "scatter",
         "x": [
          1312.5,
          1312.5,
          1342.5,
          1342.5
         ],
         "xaxis": "x",
         "y": [
          0.06214780539363288,
          0.4269889013157483,
          0.4269889013157483,
          0.1460865889046133
         ],
         "yaxis": "y"
        },
        {
         "hoverinfo": "text",
         "marker": {
          "color": "rgb(0,116,217)"
         },
         "mode": "lines",
         "type": "scatter",
         "x": [
          1375,
          1375,
          1385,
          1385
         ],
         "xaxis": "x",
         "y": [
          0,
          0.0436528547251229,
          0.0436528547251229,
          0
         ],
         "yaxis": "y"
        },
        {
         "hoverinfo": "text",
         "marker": {
          "color": "rgb(0,116,217)"
         },
         "mode": "lines",
         "type": "scatter",
         "x": [
          1395,
          1395,
          1405,
          1405
         ],
         "xaxis": "x",
         "y": [
          0,
          0.09968032343222563,
          0.09968032343222563,
          0
         ],
         "yaxis": "y"
        },
        {
         "hoverinfo": "text",
         "marker": {
          "color": "rgb(0,116,217)"
         },
         "mode": "lines",
         "type": "scatter",
         "x": [
          1380,
          1380,
          1400,
          1400
         ],
         "xaxis": "x",
         "y": [
          0.0436528547251229,
          0.24610693122596572,
          0.24610693122596572,
          0.09968032343222563
         ],
         "yaxis": "y"
        },
        {
         "hoverinfo": "text",
         "marker": {
          "color": "rgb(0,116,217)"
         },
         "mode": "lines",
         "type": "scatter",
         "x": [
          1365,
          1365,
          1390,
          1390
         ],
         "xaxis": "x",
         "y": [
          0,
          0.300001689207577,
          0.300001689207577,
          0.24610693122596572
         ],
         "yaxis": "y"
        },
        {
         "hoverinfo": "text",
         "marker": {
          "color": "rgb(0,116,217)"
         },
         "mode": "lines",
         "type": "scatter",
         "x": [
          1415,
          1415,
          1425,
          1425
         ],
         "xaxis": "x",
         "y": [
          0,
          0.15701149474334042,
          0.15701149474334042,
          0
         ],
         "yaxis": "y"
        },
        {
         "hoverinfo": "text",
         "marker": {
          "color": "rgb(0,116,217)"
         },
         "mode": "lines",
         "type": "scatter",
         "x": [
          1435,
          1435,
          1445,
          1445
         ],
         "xaxis": "x",
         "y": [
          0,
          0.15995723019781896,
          0.15995723019781896,
          0
         ],
         "yaxis": "y"
        },
        {
         "hoverinfo": "text",
         "marker": {
          "color": "rgb(0,116,217)"
         },
         "mode": "lines",
         "type": "scatter",
         "x": [
          1455,
          1455,
          1465,
          1465
         ],
         "xaxis": "x",
         "y": [
          0,
          0.11942903646680654,
          0.11942903646680654,
          0
         ],
         "yaxis": "y"
        },
        {
         "hoverinfo": "text",
         "marker": {
          "color": "rgb(0,116,217)"
         },
         "mode": "lines",
         "type": "scatter",
         "x": [
          1485,
          1485,
          1495,
          1495
         ],
         "xaxis": "x",
         "y": [
          0,
          0.06740481035033681,
          0.06740481035033681,
          0
         ],
         "yaxis": "y"
        },
        {
         "hoverinfo": "text",
         "marker": {
          "color": "rgb(0,116,217)"
         },
         "mode": "lines",
         "type": "scatter",
         "x": [
          1475,
          1475,
          1490,
          1490
         ],
         "xaxis": "x",
         "y": [
          0,
          0.14674948296429483,
          0.14674948296429483,
          0.06740481035033681
         ],
         "yaxis": "y"
        },
        {
         "hoverinfo": "text",
         "marker": {
          "color": "rgb(0,116,217)"
         },
         "mode": "lines",
         "type": "scatter",
         "x": [
          1460,
          1460,
          1482.5,
          1482.5
         ],
         "xaxis": "x",
         "y": [
          0.11942903646680654,
          0.2548832241040139,
          0.2548832241040139,
          0.14674948296429483
         ],
         "yaxis": "y"
        },
        {
         "hoverinfo": "text",
         "marker": {
          "color": "rgb(0,116,217)"
         },
         "mode": "lines",
         "type": "scatter",
         "x": [
          1440,
          1440,
          1471.25,
          1471.25
         ],
         "xaxis": "x",
         "y": [
          0.15995723019781896,
          0.37469189758336496,
          0.37469189758336496,
          0.2548832241040139
         ],
         "yaxis": "y"
        },
        {
         "hoverinfo": "text",
         "marker": {
          "color": "rgb(0,116,217)"
         },
         "mode": "lines",
         "type": "scatter",
         "x": [
          1420,
          1420,
          1455.625,
          1455.625
         ],
         "xaxis": "x",
         "y": [
          0.15701149474334042,
          0.46905317528730167,
          0.46905317528730167,
          0.37469189758336496
         ],
         "yaxis": "y"
        },
        {
         "hoverinfo": "text",
         "marker": {
          "color": "rgb(0,116,217)"
         },
         "mode": "lines",
         "type": "scatter",
         "x": [
          1377.5,
          1377.5,
          1437.8125,
          1437.8125
         ],
         "xaxis": "x",
         "y": [
          0.300001689207577,
          0.8250034255081449,
          0.8250034255081449,
          0.46905317528730167
         ],
         "yaxis": "y"
        },
        {
         "hoverinfo": "text",
         "marker": {
          "color": "rgb(0,116,217)"
         },
         "mode": "lines",
         "type": "scatter",
         "x": [
          1327.5,
          1327.5,
          1407.65625,
          1407.65625
         ],
         "xaxis": "x",
         "y": [
          0.4269889013157483,
          1.2145154428516787,
          1.2145154428516787,
          0.8250034255081449
         ],
         "yaxis": "y"
        },
        {
         "hoverinfo": "text",
         "marker": {
          "color": "rgb(0,116,217)"
         },
         "mode": "lines",
         "type": "scatter",
         "x": [
          1255.625,
          1255.625,
          1367.578125,
          1367.578125
         ],
         "xaxis": "x",
         "y": [
          0.6353698952974254,
          1.4596095723087135,
          1.4596095723087135,
          1.2145154428516787
         ],
         "yaxis": "y"
        },
        {
         "hoverinfo": "text",
         "marker": {
          "color": "rgb(0,116,217)"
         },
         "mode": "lines",
         "type": "scatter",
         "x": [
          1118.28125,
          1118.28125,
          1311.6015625,
          1311.6015625
         ],
         "xaxis": "x",
         "y": [
          1.290648587987076,
          1.9331073502273846,
          1.9331073502273846,
          1.4596095723087135
         ],
         "yaxis": "y"
        },
        {
         "hoverinfo": "text",
         "marker": {
          "color": "rgb(0,116,217)"
         },
         "mode": "lines",
         "type": "scatter",
         "x": [
          995.9375,
          995.9375,
          1214.94140625,
          1214.94140625
         ],
         "xaxis": "x",
         "y": [
          1.3872049254999175,
          2.886501710229768,
          2.886501710229768,
          1.9331073502273846
         ],
         "yaxis": "y"
        },
        {
         "hoverinfo": "text",
         "marker": {
          "color": "rgb(0,116,217)"
         },
         "mode": "lines",
         "type": "scatter",
         "x": [
          829.4921875,
          829.4921875,
          1105.439453125,
          1105.439453125
         ],
         "xaxis": "x",
         "y": [
          2.0695891918900107,
          4.315789452466481,
          4.315789452466481,
          2.886501710229768
         ],
         "yaxis": "y"
        },
        {
         "hoverinfo": "text",
         "marker": {
          "color": "rgb(0,116,217)"
         },
         "mode": "lines",
         "type": "scatter",
         "x": [
          543.96484375,
          543.96484375,
          967.4658203125,
          967.4658203125
         ],
         "xaxis": "x",
         "y": [
          2.9069888715125742,
          5.871303812869839,
          5.871303812869839,
          4.315789452466481
         ],
         "yaxis": "y"
        },
        {
         "hoverinfo": "text",
         "marker": {
          "color": "rgb(0,116,217)"
         },
         "mode": "lines",
         "type": "scatter",
         "x": [
          122.4609375,
          122.4609375,
          755.71533203125,
          755.71533203125
         ],
         "xaxis": "x",
         "y": [
          3.3647650645415395,
          6.813667231464725,
          6.813667231464725,
          5.871303812869839
         ],
         "yaxis": "y"
        }
       ],
       "layout": {
        "autosize": false,
        "height": 500,
        "hovermode": "closest",
        "showlegend": false,
        "template": {
         "data": {
          "bar": [
           {
            "error_x": {
             "color": "#2a3f5f"
            },
            "error_y": {
             "color": "#2a3f5f"
            },
            "marker": {
             "line": {
              "color": "#E5ECF6",
              "width": 0.5
             },
             "pattern": {
              "fillmode": "overlay",
              "size": 10,
              "solidity": 0.2
             }
            },
            "type": "bar"
           }
          ],
          "barpolar": [
           {
            "marker": {
             "line": {
              "color": "#E5ECF6",
              "width": 0.5
             },
             "pattern": {
              "fillmode": "overlay",
              "size": 10,
              "solidity": 0.2
             }
            },
            "type": "barpolar"
           }
          ],
          "carpet": [
           {
            "aaxis": {
             "endlinecolor": "#2a3f5f",
             "gridcolor": "white",
             "linecolor": "white",
             "minorgridcolor": "white",
             "startlinecolor": "#2a3f5f"
            },
            "baxis": {
             "endlinecolor": "#2a3f5f",
             "gridcolor": "white",
             "linecolor": "white",
             "minorgridcolor": "white",
             "startlinecolor": "#2a3f5f"
            },
            "type": "carpet"
           }
          ],
          "choropleth": [
           {
            "colorbar": {
             "outlinewidth": 0,
             "ticks": ""
            },
            "type": "choropleth"
           }
          ],
          "contour": [
           {
            "colorbar": {
             "outlinewidth": 0,
             "ticks": ""
            },
            "colorscale": [
             [
              0,
              "#0d0887"
             ],
             [
              0.1111111111111111,
              "#46039f"
             ],
             [
              0.2222222222222222,
              "#7201a8"
             ],
             [
              0.3333333333333333,
              "#9c179e"
             ],
             [
              0.4444444444444444,
              "#bd3786"
             ],
             [
              0.5555555555555556,
              "#d8576b"
             ],
             [
              0.6666666666666666,
              "#ed7953"
             ],
             [
              0.7777777777777778,
              "#fb9f3a"
             ],
             [
              0.8888888888888888,
              "#fdca26"
             ],
             [
              1,
              "#f0f921"
             ]
            ],
            "type": "contour"
           }
          ],
          "contourcarpet": [
           {
            "colorbar": {
             "outlinewidth": 0,
             "ticks": ""
            },
            "type": "contourcarpet"
           }
          ],
          "heatmap": [
           {
            "colorbar": {
             "outlinewidth": 0,
             "ticks": ""
            },
            "colorscale": [
             [
              0,
              "#0d0887"
             ],
             [
              0.1111111111111111,
              "#46039f"
             ],
             [
              0.2222222222222222,
              "#7201a8"
             ],
             [
              0.3333333333333333,
              "#9c179e"
             ],
             [
              0.4444444444444444,
              "#bd3786"
             ],
             [
              0.5555555555555556,
              "#d8576b"
             ],
             [
              0.6666666666666666,
              "#ed7953"
             ],
             [
              0.7777777777777778,
              "#fb9f3a"
             ],
             [
              0.8888888888888888,
              "#fdca26"
             ],
             [
              1,
              "#f0f921"
             ]
            ],
            "type": "heatmap"
           }
          ],
          "heatmapgl": [
           {
            "colorbar": {
             "outlinewidth": 0,
             "ticks": ""
            },
            "colorscale": [
             [
              0,
              "#0d0887"
             ],
             [
              0.1111111111111111,
              "#46039f"
             ],
             [
              0.2222222222222222,
              "#7201a8"
             ],
             [
              0.3333333333333333,
              "#9c179e"
             ],
             [
              0.4444444444444444,
              "#bd3786"
             ],
             [
              0.5555555555555556,
              "#d8576b"
             ],
             [
              0.6666666666666666,
              "#ed7953"
             ],
             [
              0.7777777777777778,
              "#fb9f3a"
             ],
             [
              0.8888888888888888,
              "#fdca26"
             ],
             [
              1,
              "#f0f921"
             ]
            ],
            "type": "heatmapgl"
           }
          ],
          "histogram": [
           {
            "marker": {
             "pattern": {
              "fillmode": "overlay",
              "size": 10,
              "solidity": 0.2
             }
            },
            "type": "histogram"
           }
          ],
          "histogram2d": [
           {
            "colorbar": {
             "outlinewidth": 0,
             "ticks": ""
            },
            "colorscale": [
             [
              0,
              "#0d0887"
             ],
             [
              0.1111111111111111,
              "#46039f"
             ],
             [
              0.2222222222222222,
              "#7201a8"
             ],
             [
              0.3333333333333333,
              "#9c179e"
             ],
             [
              0.4444444444444444,
              "#bd3786"
             ],
             [
              0.5555555555555556,
              "#d8576b"
             ],
             [
              0.6666666666666666,
              "#ed7953"
             ],
             [
              0.7777777777777778,
              "#fb9f3a"
             ],
             [
              0.8888888888888888,
              "#fdca26"
             ],
             [
              1,
              "#f0f921"
             ]
            ],
            "type": "histogram2d"
           }
          ],
          "histogram2dcontour": [
           {
            "colorbar": {
             "outlinewidth": 0,
             "ticks": ""
            },
            "colorscale": [
             [
              0,
              "#0d0887"
             ],
             [
              0.1111111111111111,
              "#46039f"
             ],
             [
              0.2222222222222222,
              "#7201a8"
             ],
             [
              0.3333333333333333,
              "#9c179e"
             ],
             [
              0.4444444444444444,
              "#bd3786"
             ],
             [
              0.5555555555555556,
              "#d8576b"
             ],
             [
              0.6666666666666666,
              "#ed7953"
             ],
             [
              0.7777777777777778,
              "#fb9f3a"
             ],
             [
              0.8888888888888888,
              "#fdca26"
             ],
             [
              1,
              "#f0f921"
             ]
            ],
            "type": "histogram2dcontour"
           }
          ],
          "mesh3d": [
           {
            "colorbar": {
             "outlinewidth": 0,
             "ticks": ""
            },
            "type": "mesh3d"
           }
          ],
          "parcoords": [
           {
            "line": {
             "colorbar": {
              "outlinewidth": 0,
              "ticks": ""
             }
            },
            "type": "parcoords"
           }
          ],
          "pie": [
           {
            "automargin": true,
            "type": "pie"
           }
          ],
          "scatter": [
           {
            "marker": {
             "colorbar": {
              "outlinewidth": 0,
              "ticks": ""
             }
            },
            "type": "scatter"
           }
          ],
          "scatter3d": [
           {
            "line": {
             "colorbar": {
              "outlinewidth": 0,
              "ticks": ""
             }
            },
            "marker": {
             "colorbar": {
              "outlinewidth": 0,
              "ticks": ""
             }
            },
            "type": "scatter3d"
           }
          ],
          "scattercarpet": [
           {
            "marker": {
             "colorbar": {
              "outlinewidth": 0,
              "ticks": ""
             }
            },
            "type": "scattercarpet"
           }
          ],
          "scattergeo": [
           {
            "marker": {
             "colorbar": {
              "outlinewidth": 0,
              "ticks": ""
             }
            },
            "type": "scattergeo"
           }
          ],
          "scattergl": [
           {
            "marker": {
             "colorbar": {
              "outlinewidth": 0,
              "ticks": ""
             }
            },
            "type": "scattergl"
           }
          ],
          "scattermapbox": [
           {
            "marker": {
             "colorbar": {
              "outlinewidth": 0,
              "ticks": ""
             }
            },
            "type": "scattermapbox"
           }
          ],
          "scatterpolar": [
           {
            "marker": {
             "colorbar": {
              "outlinewidth": 0,
              "ticks": ""
             }
            },
            "type": "scatterpolar"
           }
          ],
          "scatterpolargl": [
           {
            "marker": {
             "colorbar": {
              "outlinewidth": 0,
              "ticks": ""
             }
            },
            "type": "scatterpolargl"
           }
          ],
          "scatterternary": [
           {
            "marker": {
             "colorbar": {
              "outlinewidth": 0,
              "ticks": ""
             }
            },
            "type": "scatterternary"
           }
          ],
          "surface": [
           {
            "colorbar": {
             "outlinewidth": 0,
             "ticks": ""
            },
            "colorscale": [
             [
              0,
              "#0d0887"
             ],
             [
              0.1111111111111111,
              "#46039f"
             ],
             [
              0.2222222222222222,
              "#7201a8"
             ],
             [
              0.3333333333333333,
              "#9c179e"
             ],
             [
              0.4444444444444444,
              "#bd3786"
             ],
             [
              0.5555555555555556,
              "#d8576b"
             ],
             [
              0.6666666666666666,
              "#ed7953"
             ],
             [
              0.7777777777777778,
              "#fb9f3a"
             ],
             [
              0.8888888888888888,
              "#fdca26"
             ],
             [
              1,
              "#f0f921"
             ]
            ],
            "type": "surface"
           }
          ],
          "table": [
           {
            "cells": {
             "fill": {
              "color": "#EBF0F8"
             },
             "line": {
              "color": "white"
             }
            },
            "header": {
             "fill": {
              "color": "#C8D4E3"
             },
             "line": {
              "color": "white"
             }
            },
            "type": "table"
           }
          ]
         },
         "layout": {
          "annotationdefaults": {
           "arrowcolor": "#2a3f5f",
           "arrowhead": 0,
           "arrowwidth": 1
          },
          "autotypenumbers": "strict",
          "coloraxis": {
           "colorbar": {
            "outlinewidth": 0,
            "ticks": ""
           }
          },
          "colorscale": {
           "diverging": [
            [
             0,
             "#8e0152"
            ],
            [
             0.1,
             "#c51b7d"
            ],
            [
             0.2,
             "#de77ae"
            ],
            [
             0.3,
             "#f1b6da"
            ],
            [
             0.4,
             "#fde0ef"
            ],
            [
             0.5,
             "#f7f7f7"
            ],
            [
             0.6,
             "#e6f5d0"
            ],
            [
             0.7,
             "#b8e186"
            ],
            [
             0.8,
             "#7fbc41"
            ],
            [
             0.9,
             "#4d9221"
            ],
            [
             1,
             "#276419"
            ]
           ],
           "sequential": [
            [
             0,
             "#0d0887"
            ],
            [
             0.1111111111111111,
             "#46039f"
            ],
            [
             0.2222222222222222,
             "#7201a8"
            ],
            [
             0.3333333333333333,
             "#9c179e"
            ],
            [
             0.4444444444444444,
             "#bd3786"
            ],
            [
             0.5555555555555556,
             "#d8576b"
            ],
            [
             0.6666666666666666,
             "#ed7953"
            ],
            [
             0.7777777777777778,
             "#fb9f3a"
            ],
            [
             0.8888888888888888,
             "#fdca26"
            ],
            [
             1,
             "#f0f921"
            ]
           ],
           "sequentialminus": [
            [
             0,
             "#0d0887"
            ],
            [
             0.1111111111111111,
             "#46039f"
            ],
            [
             0.2222222222222222,
             "#7201a8"
            ],
            [
             0.3333333333333333,
             "#9c179e"
            ],
            [
             0.4444444444444444,
             "#bd3786"
            ],
            [
             0.5555555555555556,
             "#d8576b"
            ],
            [
             0.6666666666666666,
             "#ed7953"
            ],
            [
             0.7777777777777778,
             "#fb9f3a"
            ],
            [
             0.8888888888888888,
             "#fdca26"
            ],
            [
             1,
             "#f0f921"
            ]
           ]
          },
          "colorway": [
           "#636efa",
           "#EF553B",
           "#00cc96",
           "#ab63fa",
           "#FFA15A",
           "#19d3f3",
           "#FF6692",
           "#B6E880",
           "#FF97FF",
           "#FECB52"
          ],
          "font": {
           "color": "#2a3f5f"
          },
          "geo": {
           "bgcolor": "white",
           "lakecolor": "white",
           "landcolor": "#E5ECF6",
           "showlakes": true,
           "showland": true,
           "subunitcolor": "white"
          },
          "hoverlabel": {
           "align": "left"
          },
          "hovermode": "closest",
          "mapbox": {
           "style": "light"
          },
          "paper_bgcolor": "white",
          "plot_bgcolor": "#E5ECF6",
          "polar": {
           "angularaxis": {
            "gridcolor": "white",
            "linecolor": "white",
            "ticks": ""
           },
           "bgcolor": "#E5ECF6",
           "radialaxis": {
            "gridcolor": "white",
            "linecolor": "white",
            "ticks": ""
           }
          },
          "scene": {
           "xaxis": {
            "backgroundcolor": "#E5ECF6",
            "gridcolor": "white",
            "gridwidth": 2,
            "linecolor": "white",
            "showbackground": true,
            "ticks": "",
            "zerolinecolor": "white"
           },
           "yaxis": {
            "backgroundcolor": "#E5ECF6",
            "gridcolor": "white",
            "gridwidth": 2,
            "linecolor": "white",
            "showbackground": true,
            "ticks": "",
            "zerolinecolor": "white"
           },
           "zaxis": {
            "backgroundcolor": "#E5ECF6",
            "gridcolor": "white",
            "gridwidth": 2,
            "linecolor": "white",
            "showbackground": true,
            "ticks": "",
            "zerolinecolor": "white"
           }
          },
          "shapedefaults": {
           "line": {
            "color": "#2a3f5f"
           }
          },
          "ternary": {
           "aaxis": {
            "gridcolor": "white",
            "linecolor": "white",
            "ticks": ""
           },
           "baxis": {
            "gridcolor": "white",
            "linecolor": "white",
            "ticks": ""
           },
           "bgcolor": "#E5ECF6",
           "caxis": {
            "gridcolor": "white",
            "linecolor": "white",
            "ticks": ""
           }
          },
          "title": {
           "x": 0.05
          },
          "xaxis": {
           "automargin": true,
           "gridcolor": "white",
           "linecolor": "white",
           "ticks": "",
           "title": {
            "standoff": 15
           },
           "zerolinecolor": "white",
           "zerolinewidth": 2
          },
          "yaxis": {
           "automargin": true,
           "gridcolor": "white",
           "linecolor": "white",
           "ticks": "",
           "title": {
            "standoff": 15
           },
           "zerolinecolor": "white",
           "zerolinewidth": 2
          }
         }
        },
        "width": 800,
        "xaxis": {
         "autorange": true,
         "mirror": "allticks",
         "range": [
          0,
          1495
         ],
         "rangemode": "tozero",
         "showgrid": false,
         "showline": true,
         "showticklabels": true,
         "tickmode": "array",
         "ticks": "outside",
         "ticktext": [
          "108",
          "111",
          "128",
          "132",
          "118",
          "130",
          "102",
          "107",
          "122",
          "105",
          "135",
          "109",
          "117",
          "131",
          "50",
          "52",
          "110",
          "115",
          "148",
          "124",
          "136",
          "100",
          "120",
          "143",
          "125",
          "144",
          "104",
          "112",
          "145",
          "140",
          "129",
          "139",
          "141",
          "56",
          "85",
          "76",
          "103",
          "116",
          "147",
          "77",
          "137",
          "75",
          "127",
          "86",
          "70",
          "51",
          "65",
          "15",
          "32",
          "14",
          "33",
          "19",
          "46",
          "21",
          "48",
          "10",
          "44",
          "18",
          "5",
          "16",
          "22",
          "4",
          "0",
          "40",
          "17",
          "27",
          "36",
          "31",
          "20",
          "43",
          "23",
          "26",
          "28",
          "39",
          "35",
          "49",
          "6",
          "11",
          "7",
          "24",
          "41",
          "8",
          "13",
          "38",
          "42",
          "29",
          "2",
          "47",
          "25",
          "1",
          "45",
          "30",
          "37",
          "9",
          "34",
          "3",
          "12",
          "60",
          "98",
          "57",
          "93",
          "106",
          "53",
          "62",
          "80",
          "81",
          "69",
          "89",
          "87",
          "68",
          "119",
          "146",
          "72",
          "113",
          "114",
          "123",
          "83",
          "121",
          "134",
          "101",
          "142",
          "55",
          "99",
          "94",
          "67",
          "82",
          "59",
          "79",
          "90",
          "92",
          "149",
          "58",
          "138",
          "54",
          "126",
          "133",
          "64",
          "88",
          "95",
          "84",
          "96",
          "71",
          "73",
          "61",
          "66",
          "74",
          "91",
          "97",
          "63",
          "78"
         ],
         "tickvals": [
          5,
          15,
          25,
          35,
          45,
          55,
          65,
          75,
          85,
          95,
          105,
          115,
          125,
          135,
          145,
          155,
          165,
          175,
          185,
          195,
          205,
          215,
          225,
          235,
          245,
          255,
          265,
          275,
          285,
          295,
          305,
          315,
          325,
          335,
          345,
          355,
          365,
          375,
          385,
          395,
          405,
          415,
          425,
          435,
          445,
          455,
          465,
          475,
          485,
          495,
          505,
          515,
          525,
          535,
          545,
          555,
          565,
          575,
          585,
          595,
          605,
          615,
          625,
          635,
          645,
          655,
          665,
          675,
          685,
          695,
          705,
          715,
          725,
          735,
          745,
          755,
          765,
          775,
          785,
          795,
          805,
          815,
          825,
          835,
          845,
          855,
          865,
          875,
          885,
          895,
          905,
          915,
          925,
          935,
          945,
          955,
          965,
          975,
          985,
          995,
          1005,
          1015,
          1025,
          1035,
          1045,
          1055,
          1065,
          1075,
          1085,
          1095,
          1105,
          1115,
          1125,
          1135,
          1145,
          1155,
          1165,
          1175,
          1185,
          1195,
          1205,
          1215,
          1225,
          1235,
          1245,
          1255,
          1265,
          1275,
          1285,
          1295,
          1305,
          1315,
          1325,
          1335,
          1345,
          1355,
          1365,
          1375,
          1385,
          1395,
          1405,
          1415,
          1425,
          1435,
          1445,
          1455,
          1465,
          1475,
          1485,
          1495
         ],
         "type": "linear",
         "zeroline": false
        },
        "yaxis": {
         "autorange": true,
         "mirror": "allticks",
         "range": [
          0,
          7.172281296278658
         ],
         "rangemode": "tozero",
         "showgrid": false,
         "showline": true,
         "showticklabels": true,
         "ticks": "outside",
         "type": "linear",
         "zeroline": false
        }
       }
      },
      "image/png": "[encoded data removed]",
      "text/html": [
       "<div>                            <div id=\"8a3407db-3b1e-493a-82ae-67b7d496a3b1\" class=\"plotly-graph-div\" style=\"height:500px; width:800px;\"></div>            <script type=\"text/javascript\">                require([\"plotly\"], function(Plotly) {                    window.PLOTLYENV=window.PLOTLYENV || {};                                    if (document.getElementById(\"8a3407db-3b1e-493a-82ae-67b7d496a3b1\")) {                    Plotly.newPlot(                        \"8a3407db-3b1e-493a-82ae-67b7d496a3b1\",                        [{\"hoverinfo\":\"text\",\"marker\":{\"color\":\"rgb(0,116,217)\"},\"mode\":\"lines\",\"x\":[25.0,25.0,35.0,35.0],\"xaxis\":\"x\",\"y\":[0.0,0.07485825263999042,0.07485825263999042,0.0],\"yaxis\":\"y\",\"type\":\"scatter\"},{\"hoverinfo\":\"text\",\"marker\":{\"color\":\"rgb(0,116,217)\"},\"mode\":\"lines\",\"x\":[15.0,15.0,30.0,30.0],\"xaxis\":\"x\",\"y\":[0.0,0.35722646540345643,0.35722646540345643,0.07485825263999042],\"yaxis\":\"y\",\"type\":\"scatter\"},{\"hoverinfo\":\"text\",\"marker\":{\"color\":\"rgb(0,116,217)\"},\"mode\":\"lines\",\"x\":[5.0,5.0,22.5,22.5],\"xaxis\":\"x\",\"y\":[0.0,0.5727707745592823,0.5727707745592823,0.35722646540345643],\"yaxis\":\"y\",\"type\":\"scatter\"},{\"hoverinfo\":\"text\",\"marker\":{\"color\":\"rgb(0,116,217)\"},\"mode\":\"lines\",\"x\":[65.0,65.0,75.0,75.0],\"xaxis\":\"x\",\"y\":[0.0,0.1742238526903767,0.1742238526903767,0.0],\"yaxis\":\"y\",\"type\":\"scatter\"},{\"hoverinfo\":\"text\",\"marker\":{\"color\":\"rgb(0,116,217)\"},\"mode\":\"lines\",\"x\":[55.0,55.0,70.0,70.0],\"xaxis\":\"x\",\"y\":[0.0,0.383743695395854,0.383743695395854,0.1742238526903767],\"yaxis\":\"y\",\"type\":\"scatter\"},{\"hoverinfo\":\"text\",\"marker\":{\"color\":\"rgb(0,116,217)\"},\"mode\":\"lines\",\"x\":[95.0,95.0,105.0,105.0],\"xaxis\":\"x\",\"y\":[0.0,0.07319361257252492,0.07319361257252492,0.0],\"yaxis\":\"y\",\"type\":\"scatter\"},{\"hoverinfo\":\"text\",\"marker\":{\"color\":\"rgb(0,116,217)\"},\"mode\":\"lines\",\"x\":[85.0,85.0,100.0,100.0],\"xaxis\":\"x\",\"y\":[0.0,0.4573857687652164,0.4573857687652164,0.07319361257252492],\"yaxis\":\"y\",\"type\":\"scatter\"},{\"hoverinfo\":\"text\",\"marker\":{\"color\":\"rgb(0,116,217)\"},\"mode\":\"lines\",\"x\":[62.5,62.5,92.5,92.5],\"xaxis\":\"x\",\"y\":[0.383743695395854,0.7092374678608775,0.7092374678608775,0.4573857687652164],\"yaxis\":\"y\",\"type\":\"scatter\"},{\"hoverinfo\":\"text\",\"marker\":{\"color\":\"rgb(0,116,217)\"},\"mode\":\"lines\",\"x\":[45.0,45.0,77.5,77.5],\"xaxis\":\"x\",\"y\":[0.0,1.2353990195988573,1.2353990195988573,0.7092374678608775],\"yaxis\":\"y\",\"type\":\"scatter\"},{\"hoverinfo\":\"text\",\"marker\":{\"color\":\"rgb(0,116,217)\"},\"mode\":\"lines\",\"x\":[13.75,13.75,61.25,61.25],\"xaxis\":\"x\",\"y\":[0.5727707745592823,1.7623115910084433,1.7623115910084433,1.2353990195988573],\"yaxis\":\"y\",\"type\":\"scatter\"},{\"hoverinfo\":\"text\",\"marker\":{\"color\":\"rgb(0,116,217)\"},\"mode\":\"lines\",\"x\":[125.0,125.0,135.0,135.0],\"xaxis\":\"x\",\"y\":[0.0,0.1397597201570759,0.1397597201570759,0.0],\"yaxis\":\"y\",\"type\":\"scatter\"},{\"hoverinfo\":\"text\",\"marker\":{\"color\":\"rgb(0,116,217)\"},\"mode\":\"lines\",\"x\":[115.0,115.0,130.0,130.0],\"xaxis\":\"x\",\"y\":[0.0,0.706409692119992,0.706409692119992,0.1397597201570759],\"yaxis\":\"y\",\"type\":\"scatter\"},{\"hoverinfo\":\"text\",\"marker\":{\"color\":\"rgb(0,116,217)\"},\"mode\":\"lines\",\"x\":[155.0,155.0,165.0,165.0],\"xaxis\":\"x\",\"y\":[0.0,0.1469261044767661,0.1469261044767661,0.0],\"yaxis\":\"y\",\"type\":\"scatter\"},{\"hoverinfo\":\"text\",\"marker\":{\"color\":\"rgb(0,116,217)\"},\"mode\":\"lines\",\"x\":[145.0,145.0,160.0,160.0],\"xaxis\":\"x\",\"y\":[0.0,0.31179555833794215,0.31179555833794215,0.1469261044767661],\"yaxis\":\"y\",\"type\":\"scatter\"},{\"hoverinfo\":\"text\",\"marker\":{\"color\":\"rgb(0,116,217)\"},\"mode\":\"lines\",\"x\":[195.0,195.0,205.0,205.0],\"xaxis\":\"x\",\"y\":[0.0,0.1371099266116884,0.1371099266116884,0.0],\"yaxis\":\"y\",\"type\":\"scatter\"},{\"hoverinfo\":\"text\",\"marker\":{\"color\":\"rgb(0,116,217)\"},\"mode\":\"lines\",\"x\":[185.0,185.0,200.0,200.0],\"xaxis\":\"x\",\"y\":[0.0,0.3278569901228321,0.3278569901228321,0.1371099266116884],\"yaxis\":\"y\",\"type\":\"scatter\"},{\"hoverinfo\":\"text\",\"marker\":{\"color\":\"rgb(0,116,217)\"},\"mode\":\"lines\",\"x\":[175.0,175.0,192.5,192.5],\"xaxis\":\"x\",\"y\":[0.0,0.401929689613317,0.401929689613317,0.3278569901228321],\"yaxis\":\"y\",\"type\":\"scatter\"},{\"hoverinfo\":\"text\",\"marker\":{\"color\":\"rgb(0,116,217)\"},\"mode\":\"lines\",\"x\":[152.5,152.5,183.75,183.75],\"xaxis\":\"x\",\"y\":[0.31179555833794215,0.6189575064916495,0.6189575064916495,0.401929689613317],\"yaxis\":\"y\",\"type\":\"scatter\"},{\"hoverinfo\":\"text\",\"marker\":{\"color\":\"rgb(0,116,217)\"},\"mode\":\"lines\",\"x\":[225.0,225.0,235.0,235.0],\"xaxis\":\"x\",\"y\":[0.0,0.04280635802071525,0.04280635802071525,0.0],\"yaxis\":\"y\",\"type\":\"scatter\"},{\"hoverinfo\":\"text\",\"marker\":{\"color\":\"rgb(0,116,217)\"},\"mode\":\"lines\",\"x\":[245.0,245.0,255.0,255.0],\"xaxis\":\"x\",\"y\":[0.0,0.06306517628686342,0.06306517628686342,0.0],\"yaxis\":\"y\",\"type\":\"scatter\"},{\"hoverinfo\":\"text\",\"marker\":{\"color\":\"rgb(0,116,217)\"},\"mode\":\"lines\",\"x\":[230.0,230.0,250.0,250.0],\"xaxis\":\"x\",\"y\":[0.04280635802071525,0.18851634764369546,0.18851634764369546,0.06306517628686342],\"yaxis\":\"y\",\"type\":\"scatter\"},{\"hoverinfo\":\"text\",\"marker\":{\"color\":\"rgb(0,116,217)\"},\"mode\":\"lines\",\"x\":[215.0,215.0,240.0,240.0],\"xaxis\":\"x\",\"y\":[0.0,0.2345181844528478,0.2345181844528478,0.18851634764369546],\"yaxis\":\"y\",\"type\":\"scatter\"},{\"hoverinfo\":\"text\",\"marker\":{\"color\":\"rgb(0,116,217)\"},\"mode\":\"lines\",\"x\":[275.0,275.0,285.0,285.0],\"xaxis\":\"x\",\"y\":[0.0,0.0343721547425274,0.0343721547425274,0.0],\"yaxis\":\"y\",\"type\":\"scatter\"},{\"hoverinfo\":\"text\",\"marker\":{\"color\":\"rgb(0,116,217)\"},\"mode\":\"lines\",\"x\":[265.0,265.0,280.0,280.0],\"xaxis\":\"x\",\"y\":[0.0,0.12422212395013325,0.12422212395013325,0.0343721547425274],\"yaxis\":\"y\",\"type\":\"scatter\"},{\"hoverinfo\":\"text\",\"marker\":{\"color\":\"rgb(0,116,217)\"},\"mode\":\"lines\",\"x\":[315.0,315.0,325.0,325.0],\"xaxis\":\"x\",\"y\":[0.0,0.05139741229310803,0.05139741229310803,0.0],\"yaxis\":\"y\",\"type\":\"scatter\"},{\"hoverinfo\":\"text\",\"marker\":{\"color\":\"rgb(0,116,217)\"},\"mode\":\"lines\",\"x\":[305.0,305.0,320.0,320.0],\"xaxis\":\"x\",\"y\":[0.0,0.13615265946754612,0.13615265946754612,0.05139741229310803],\"yaxis\":\"y\",\"type\":\"scatter\"},{\"hoverinfo\":\"text\",\"marker\":{\"color\":\"rgb(0,116,217)\"},\"mode\":\"lines\",\"x\":[295.0,295.0,312.5,312.5],\"xaxis\":\"x\",\"y\":[0.0,0.17403345329248487,0.17403345329248487,0.13615265946754612],\"yaxis\":\"y\",\"type\":\"scatter\"},{\"hoverinfo\":\"text\",\"marker\":{\"color\":\"rgb(0,116,217)\"},\"mode\":\"lines\",\"x\":[272.5,272.5,303.75,303.75],\"xaxis\":\"x\",\"y\":[0.12422212395013325,0.3964003204597168,0.3964003204597168,0.17403345329248487],\"yaxis\":\"y\",\"type\":\"scatter\"},{\"hoverinfo\":\"text\",\"marker\":{\"color\":\"rgb(0,116,217)\"},\"mode\":\"lines\",\"x\":[227.5,227.5,288.125,288.125],\"xaxis\":\"x\",\"y\":[0.2345181844528478,0.7690855005091024,0.7690855005091024,0.3964003204597168],\"yaxis\":\"y\",\"type\":\"scatter\"},{\"hoverinfo\":\"text\",\"marker\":{\"color\":\"rgb(0,116,217)\"},\"mode\":\"lines\",\"x\":[168.125,168.125,257.8125,257.8125],\"xaxis\":\"x\",\"y\":[0.6189575064916495,0.9542697637012872,0.9542697637012872,0.7690855005091024],\"yaxis\":\"y\",\"type\":\"scatter\"},{\"hoverinfo\":\"text\",\"marker\":{\"color\":\"rgb(0,116,217)\"},\"mode\":\"lines\",\"x\":[335.0,335.0,345.0,345.0],\"xaxis\":\"x\",\"y\":[0.0,0.3260194072991155,0.3260194072991155,0.0],\"yaxis\":\"y\",\"type\":\"scatter\"},{\"hoverinfo\":\"text\",\"marker\":{\"color\":\"rgb(0,116,217)\"},\"mode\":\"lines\",\"x\":[355.0,355.0,365.0,365.0],\"xaxis\":\"x\",\"y\":[0.0,0.18732341299624378,0.18732341299624378,0.0],\"yaxis\":\"y\",\"type\":\"scatter\"},{\"hoverinfo\":\"text\",\"marker\":{\"color\":\"rgb(0,116,217)\"},\"mode\":\"lines\",\"x\":[375.0,375.0,385.0,385.0],\"xaxis\":\"x\",\"y\":[0.0,0.051397412293108055,0.051397412293108055,0.0],\"yaxis\":\"y\",\"type\":\"scatter\"},{\"hoverinfo\":\"text\",\"marker\":{\"color\":\"rgb(0,116,217)\"},\"mode\":\"lines\",\"x\":[395.0,395.0,405.0,405.0],\"xaxis\":\"x\",\"y\":[0.0,0.09410402468181746,0.09410402468181746,0.0],\"yaxis\":\"y\",\"type\":\"scatter\"},{\"hoverinfo\":\"text\",\"marker\":{\"color\":\"rgb(0,116,217)\"},\"mode\":\"lines\",\"x\":[380.0,380.0,400.0,400.0],\"xaxis\":\"x\",\"y\":[0.051397412293108055,0.23318427572456538,0.23318427572456538,0.09410402468181746],\"yaxis\":\"y\",\"type\":\"scatter\"},{\"hoverinfo\":\"text\",\"marker\":{\"color\":\"rgb(0,116,217)\"},\"mode\":\"lines\",\"x\":[360.0,360.0,390.0,390.0],\"xaxis\":\"x\",\"y\":[0.18732341299624378,0.513337909002522,0.513337909002522,0.23318427572456538],\"yaxis\":\"y\",\"type\":\"scatter\"},{\"hoverinfo\":\"text\",\"marker\":{\"color\":\"rgb(0,116,217)\"},\"mode\":\"lines\",\"x\":[415.0,415.0,425.0,425.0],\"xaxis\":\"x\",\"y\":[0.0,0.2359526302506209,0.2359526302506209,0.0],\"yaxis\":\"y\",\"type\":\"scatter\"},{\"hoverinfo\":\"text\",\"marker\":{\"color\":\"rgb(0,116,217)\"},\"mode\":\"lines\",\"x\":[455.0,455.0,465.0,465.0],\"xaxis\":\"x\",\"y\":[0.0,0.1685905140421089,0.1685905140421089,0.0],\"yaxis\":\"y\",\"type\":\"scatter\"},{\"hoverinfo\":\"text\",\"marker\":{\"color\":\"rgb(0,116,217)\"},\"mode\":\"lines\",\"x\":[445.0,445.0,460.0,460.0],\"xaxis\":\"x\",\"y\":[0.0,0.19625016991683633,0.19625016991683633,0.1685905140421089],\"yaxis\":\"y\",\"type\":\"scatter\"},{\"hoverinfo\":\"text\",\"marker\":{\"color\":\"rgb(0,116,217)\"},\"mode\":\"lines\",\"x\":[435.0,435.0,452.5,452.5],\"xaxis\":\"x\",\"y\":[0.0,0.33339670250867187,0.33339670250867187,0.19625016991683633],\"yaxis\":\"y\",\"type\":\"scatter\"},{\"hoverinfo\":\"text\",\"marker\":{\"color\":\"rgb(0,116,217)\"},\"mode\":\"lines\",\"x\":[420.0,420.0,443.75,443.75],\"xaxis\":\"x\",\"y\":[0.2359526302506209,0.6055813724162808,0.6055813724162808,0.33339670250867187],\"yaxis\":\"y\",\"type\":\"scatter\"},{\"hoverinfo\":\"text\",\"marker\":{\"color\":\"rgb(0,116,217)\"},\"mode\":\"lines\",\"x\":[375.0,375.0,431.875,431.875],\"xaxis\":\"x\",\"y\":[0.513337909002522,0.9588877899651141,0.9588877899651141,0.6055813724162808],\"yaxis\":\"y\",\"type\":\"scatter\"},{\"hoverinfo\":\"text\",\"marker\":{\"color\":\"rgb(0,116,217)\"},\"mode\":\"lines\",\"x\":[340.0,340.0,403.4375,403.4375],\"xaxis\":\"x\",\"y\":[0.3260194072991155,1.3539364891861472,1.3539364891861472,0.9588877899651141],\"yaxis\":\"y\",\"type\":\"scatter\"},{\"hoverinfo\":\"text\",\"marker\":{\"color\":\"rgb(0,116,217)\"},\"mode\":\"lines\",\"x\":[212.96875,212.96875,371.71875,371.71875],\"xaxis\":\"x\",\"y\":[0.9542697637012872,1.6115535631620224,1.6115535631620224,1.3539364891861472],\"yaxis\":\"y\",\"type\":\"scatter\"},{\"hoverinfo\":\"text\",\"marker\":{\"color\":\"rgb(0,116,217)\"},\"mode\":\"lines\",\"x\":[122.5,122.5,292.34375,292.34375],\"xaxis\":\"x\",\"y\":[0.706409692119992,2.909495844893769,2.909495844893769,1.6115535631620224],\"yaxis\":\"y\",\"type\":\"scatter\"},{\"hoverinfo\":\"text\",\"marker\":{\"color\":\"rgb(0,116,217)\"},\"mode\":\"lines\",\"x\":[37.5,37.5,207.421875,207.421875],\"xaxis\":\"x\",\"y\":[1.7623115910084433,3.3647650645415395,3.3647650645415395,2.909495844893769],\"yaxis\":\"y\",\"type\":\"scatter\"},{\"hoverinfo\":\"text\",\"marker\":{\"color\":\"rgb(0,116,217)\"},\"mode\":\"lines\",\"x\":[495.0,495.0,505.0,505.0],\"xaxis\":\"x\",\"y\":[0.0,0.384210122388074,0.384210122388074,0.0],\"yaxis\":\"y\",\"type\":\"scatter\"},{\"hoverinfo\":\"text\",\"marker\":{\"color\":\"rgb(0,116,217)\"},\"mode\":\"lines\",\"x\":[485.0,485.0,500.0,500.0],\"xaxis\":\"x\",\"y\":[0.0,0.42043420056182357,0.42043420056182357,0.384210122388074],\"yaxis\":\"y\",\"type\":\"scatter\"},{\"hoverinfo\":\"text\",\"marker\":{\"color\":\"rgb(0,116,217)\"},\"mode\":\"lines\",\"x\":[475.0,475.0,492.5,492.5],\"xaxis\":\"x\",\"y\":[0.0,0.9624508321318379,0.9624508321318379,0.42043420056182357],\"yaxis\":\"y\",\"type\":\"scatter\"},{\"hoverinfo\":\"text\",\"marker\":{\"color\":\"rgb(0,116,217)\"},\"mode\":\"lines\",\"x\":[515.0,515.0,525.0,525.0],\"xaxis\":\"x\",\"y\":[0.0,0.041966867284866385,0.041966867284866385,0.0],\"yaxis\":\"y\",\"type\":\"scatter\"},{\"hoverinfo\":\"text\",\"marker\":{\"color\":\"rgb(0,116,217)\"},\"mode\":\"lines\",\"x\":[535.0,535.0,545.0,545.0],\"xaxis\":\"x\",\"y\":[0.0,0.07630648304882554,0.07630648304882554,0.0],\"yaxis\":\"y\",\"type\":\"scatter\"},{\"hoverinfo\":\"text\",\"marker\":{\"color\":\"rgb(0,116,217)\"},\"mode\":\"lines\",\"x\":[555.0,555.0,565.0,565.0],\"xaxis\":\"x\",\"y\":[0.0,0.1052370812647474,0.1052370812647474,0.0],\"yaxis\":\"y\",\"type\":\"scatter\"},{\"hoverinfo\":\"text\",\"marker\":{\"color\":\"rgb(0,116,217)\"},\"mode\":\"lines\",\"x\":[540.0,540.0,560.0,560.0],\"xaxis\":\"x\",\"y\":[0.07630648304882554,0.23028186877490817,0.23028186877490817,0.1052370812647474],\"yaxis\":\"y\",\"type\":\"scatter\"},{\"hoverinfo\":\"text\",\"marker\":{\"color\":\"rgb(0,116,217)\"},\"mode\":\"lines\",\"x\":[520.0,520.0,550.0,550.0],\"xaxis\":\"x\",\"y\":[0.041966867284866385,0.2654534380697449,0.2654534380697449,0.23028186877490817],\"yaxis\":\"y\",\"type\":\"scatter\"},{\"hoverinfo\":\"text\",\"marker\":{\"color\":\"rgb(0,116,217)\"},\"mode\":\"lines\",\"x\":[585.0,585.0,595.0,595.0],\"xaxis\":\"x\",\"y\":[0.0,0.13230071340336028,0.13230071340336028,0.0],\"yaxis\":\"y\",\"type\":\"scatter\"},{\"hoverinfo\":\"text\",\"marker\":{\"color\":\"rgb(0,116,217)\"},\"mode\":\"lines\",\"x\":[575.0,575.0,590.0,590.0],\"xaxis\":\"x\",\"y\":[0.0,0.31954700422920623,0.31954700422920623,0.13230071340336028],\"yaxis\":\"y\",\"type\":\"scatter\"},{\"hoverinfo\":\"text\",\"marker\":{\"color\":\"rgb(0,116,217)\"},\"mode\":\"lines\",\"x\":[535.0,535.0,582.5,582.5],\"xaxis\":\"x\",\"y\":[0.2654534380697449,0.5817597519203276,0.5817597519203276,0.31954700422920623],\"yaxis\":\"y\",\"type\":\"scatter\"},{\"hoverinfo\":\"text\",\"marker\":{\"color\":\"rgb(0,116,217)\"},\"mode\":\"lines\",\"x\":[625.0,625.0,635.0,635.0],\"xaxis\":\"x\",\"y\":[0.0,0.043652854725121884,0.043652854725121884,0.0],\"yaxis\":\"y\",\"type\":\"scatter\"},{\"hoverinfo\":\"text\",\"marker\":{\"color\":\"rgb(0,116,217)\"},\"mode\":\"lines\",\"x\":[645.0,645.0,655.0,655.0],\"xaxis\":\"x\",\"y\":[0.0,0.04365285472512263,0.04365285472512263,0.0],\"yaxis\":\"y\",\"type\":\"scatter\"},{\"hoverinfo\":\"text\",\"marker\":{\"color\":\"rgb(0,116,217)\"},\"mode\":\"lines\",\"x\":[630.0,630.0,650.0,650.0],\"xaxis\":\"x\",\"y\":[0.043652854725121884,0.14513097895344748,0.14513097895344748,0.04365285472512263],\"yaxis\":\"y\",\"type\":\"scatter\"},{\"hoverinfo\":\"text\",\"marker\":{\"color\":\"rgb(0,116,217)\"},\"mode\":\"lines\",\"x\":[615.0,615.0,640.0,640.0],\"xaxis\":\"x\",\"y\":[0.0,0.2553227356318863,0.2553227356318863,0.14513097895344748],\"yaxis\":\"y\",\"type\":\"scatter\"},{\"hoverinfo\":\"text\",\"marker\":{\"color\":\"rgb(0,116,217)\"},\"mode\":\"lines\",\"x\":[685.0,685.0,695.0,695.0],\"xaxis\":\"x\",\"y\":[0.0,0.083375773550108,0.083375773550108,0.0],\"yaxis\":\"y\",\"type\":\"scatter\"},{\"hoverinfo\":\"text\",\"marker\":{\"color\":\"rgb(0,116,217)\"},\"mode\":\"lines\",\"x\":[675.0,675.0,690.0,690.0],\"xaxis\":\"x\",\"y\":[0.0,0.14223637132454733,0.14223637132454733,0.083375773550108],\"yaxis\":\"y\",\"type\":\"scatter\"},{\"hoverinfo\":\"text\",\"marker\":{\"color\":\"rgb(0,116,217)\"},\"mode\":\"lines\",\"x\":[665.0,665.0,682.5,682.5],\"xaxis\":\"x\",\"y\":[0.0,0.3203095029423256,0.3203095029423256,0.14223637132454733],\"yaxis\":\"y\",\"type\":\"scatter\"},{\"hoverinfo\":\"text\",\"marker\":{\"color\":\"rgb(0,116,217)\"},\"mode\":\"lines\",\"x\":[627.5,627.5,673.75,673.75],\"xaxis\":\"x\",\"y\":[0.2553227356318863,0.6022795159216782,0.6022795159216782,0.3203095029423256],\"yaxis\":\"y\",\"type\":\"scatter\"},{\"hoverinfo\":\"text\",\"marker\":{\"color\":\"rgb(0,116,217)\"},\"mode\":\"lines\",\"x\":[725.0,725.0,735.0,735.0],\"xaxis\":\"x\",\"y\":[0.0,0.05331907673260617,0.05331907673260617,0.0],\"yaxis\":\"y\",\"type\":\"scatter\"},{\"hoverinfo\":\"text\",\"marker\":{\"color\":\"rgb(0,116,217)\"},\"mode\":\"lines\",\"x\":[715.0,715.0,730.0,730.0],\"xaxis\":\"x\",\"y\":[0.0,0.12145780184386114,0.12145780184386114,0.05331907673260617],\"yaxis\":\"y\",\"type\":\"scatter\"},{\"hoverinfo\":\"text\",\"marker\":{\"color\":\"rgb(0,116,217)\"},\"mode\":\"lines\",\"x\":[705.0,705.0,722.5,722.5],\"xaxis\":\"x\",\"y\":[0.0,0.39646197580820486,0.39646197580820486,0.12145780184386114],\"yaxis\":\"y\",\"type\":\"scatter\"},{\"hoverinfo\":\"text\",\"marker\":{\"color\":\"rgb(0,116,217)\"},\"mode\":\"lines\",\"x\":[745.0,745.0,755.0,755.0],\"xaxis\":\"x\",\"y\":[0.0,0.21663725311855747,0.21663725311855747,0.0],\"yaxis\":\"y\",\"type\":\"scatter\"},{\"hoverinfo\":\"text\",\"marker\":{\"color\":\"rgb(0,116,217)\"},\"mode\":\"lines\",\"x\":[785.0,785.0,795.0,795.0],\"xaxis\":\"x\",\"y\":[0.0,0.08561271604142998,0.08561271604142998,0.0],\"yaxis\":\"y\",\"type\":\"scatter\"},{\"hoverinfo\":\"text\",\"marker\":{\"color\":\"rgb(0,116,217)\"},\"mode\":\"lines\",\"x\":[775.0,775.0,790.0,790.0],\"xaxis\":\"x\",\"y\":[0.0,0.12913046641490053,0.12913046641490053,0.08561271604142998],\"yaxis\":\"y\",\"type\":\"scatter\"},{\"hoverinfo\":\"text\",\"marker\":{\"color\":\"rgb(0,116,217)\"},\"mode\":\"lines\",\"x\":[765.0,765.0,782.5,782.5],\"xaxis\":\"x\",\"y\":[0.0,0.2735606229099886,0.2735606229099886,0.12913046641490053],\"yaxis\":\"y\",\"type\":\"scatter\"},{\"hoverinfo\":\"text\",\"marker\":{\"color\":\"rgb(0,116,217)\"},\"mode\":\"lines\",\"x\":[750.0,750.0,773.75,773.75],\"xaxis\":\"x\",\"y\":[0.21663725311855747,0.43254895124367804,0.43254895124367804,0.2735606229099886],\"yaxis\":\"y\",\"type\":\"scatter\"},{\"hoverinfo\":\"text\",\"marker\":{\"color\":\"rgb(0,116,217)\"},\"mode\":\"lines\",\"x\":[713.75,713.75,761.875,761.875],\"xaxis\":\"x\",\"y\":[0.39646197580820486,0.6261276907800091,0.6261276907800091,0.43254895124367804],\"yaxis\":\"y\",\"type\":\"scatter\"},{\"hoverinfo\":\"text\",\"marker\":{\"color\":\"rgb(0,116,217)\"},\"mode\":\"lines\",\"x\":[650.625,650.625,737.8125,737.8125],\"xaxis\":\"x\",\"y\":[0.6022795159216782,0.885134162860279,0.885134162860279,0.6261276907800091],\"yaxis\":\"y\",\"type\":\"scatter\"},{\"hoverinfo\":\"text\",\"marker\":{\"color\":\"rgb(0,116,217)\"},\"mode\":\"lines\",\"x\":[605.0,605.0,694.21875,694.21875],\"xaxis\":\"x\",\"y\":[0.0,1.0276987650236054,1.0276987650236054,0.885134162860279],\"yaxis\":\"y\",\"type\":\"scatter\"},{\"hoverinfo\":\"text\",\"marker\":{\"color\":\"rgb(0,116,217)\"},\"mode\":\"lines\",\"x\":[558.75,558.75,649.609375,649.609375],\"xaxis\":\"x\",\"y\":[0.5817597519203276,1.7086794888692804,1.7086794888692804,1.0276987650236054],\"yaxis\":\"y\",\"type\":\"scatter\"},{\"hoverinfo\":\"text\",\"marker\":{\"color\":\"rgb(0,116,217)\"},\"mode\":\"lines\",\"x\":[483.75,483.75,604.1796875,604.1796875],\"xaxis\":\"x\",\"y\":[0.9624508321318379,2.9069888715125742,2.9069888715125742,1.7086794888692804],\"yaxis\":\"y\",\"type\":\"scatter\"},{\"hoverinfo\":\"text\",\"marker\":{\"color\":\"rgb(0,116,217)\"},\"mode\":\"lines\",\"x\":[825.0,825.0,835.0,835.0],\"xaxis\":\"x\",\"y\":[0.0,0.2113490276669661,0.2113490276669661,0.0],\"yaxis\":\"y\",\"type\":\"scatter\"},{\"hoverinfo\":\"text\",\"marker\":{\"color\":\"rgb(0,116,217)\"},\"mode\":\"lines\",\"x\":[815.0,815.0,830.0,830.0],\"xaxis\":\"x\",\"y\":[0.0,0.33655104878654113,0.33655104878654113,0.2113490276669661],\"yaxis\":\"y\",\"type\":\"scatter\"},{\"hoverinfo\":\"text\",\"marker\":{\"color\":\"rgb(0,116,217)\"},\"mode\":\"lines\",\"x\":[865.0,865.0,875.0,875.0],\"xaxis\":\"x\",\"y\":[0.0,0.05331907673260732,0.05331907673260732,0.0],\"yaxis\":\"y\",\"type\":\"scatter\"},{\"hoverinfo\":\"text\",\"marker\":{\"color\":\"rgb(0,116,217)\"},\"mode\":\"lines\",\"x\":[855.0,855.0,870.0,870.0],\"xaxis\":\"x\",\"y\":[0.0,0.13784829338354526,0.13784829338354526,0.05331907673260732],\"yaxis\":\"y\",\"type\":\"scatter\"},{\"hoverinfo\":\"text\",\"marker\":{\"color\":\"rgb(0,116,217)\"},\"mode\":\"lines\",\"x\":[845.0,845.0,862.5,862.5],\"xaxis\":\"x\",\"y\":[0.0,0.32070277540188197,0.32070277540188197,0.13784829338354526],\"yaxis\":\"y\",\"type\":\"scatter\"},{\"hoverinfo\":\"text\",\"marker\":{\"color\":\"rgb(0,116,217)\"},\"mode\":\"lines\",\"x\":[895.0,895.0,905.0,905.0],\"xaxis\":\"x\",\"y\":[0.0,0.038153241524412095,0.038153241524412095,0.0],\"yaxis\":\"y\",\"type\":\"scatter\"},{\"hoverinfo\":\"text\",\"marker\":{\"color\":\"rgb(0,116,217)\"},\"mode\":\"lines\",\"x\":[885.0,885.0,900.0,900.0],\"xaxis\":\"x\",\"y\":[0.0,0.1451309789534474,0.1451309789534474,0.038153241524412095],\"yaxis\":\"y\",\"type\":\"scatter\"},{\"hoverinfo\":\"text\",\"marker\":{\"color\":\"rgb(0,116,217)\"},\"mode\":\"lines\",\"x\":[935.0,935.0,945.0,945.0],\"xaxis\":\"x\",\"y\":[0.0,0.0,0.0,0.0],\"yaxis\":\"y\",\"type\":\"scatter\"},{\"hoverinfo\":\"text\",\"marker\":{\"color\":\"rgb(0,116,217)\"},\"mode\":\"lines\",\"x\":[925.0,925.0,940.0,940.0],\"xaxis\":\"x\",\"y\":[0.0,0.0,0.0,0.0],\"yaxis\":\"y\",\"type\":\"scatter\"},{\"hoverinfo\":\"text\",\"marker\":{\"color\":\"rgb(0,116,217)\"},\"mode\":\"lines\",\"x\":[915.0,915.0,932.5,932.5],\"xaxis\":\"x\",\"y\":[0.0,0.05651285515586177,0.05651285515586177,0.0],\"yaxis\":\"y\",\"type\":\"scatter\"},{\"hoverinfo\":\"text\",\"marker\":{\"color\":\"rgb(0,116,217)\"},\"mode\":\"lines\",\"x\":[955.0,955.0,965.0,965.0],\"xaxis\":\"x\",\"y\":[0.0,0.15590864319878017,0.15590864319878017,0.0],\"yaxis\":\"y\",\"type\":\"scatter\"},{\"hoverinfo\":\"text\",\"marker\":{\"color\":\"rgb(0,116,217)\"},\"mode\":\"lines\",\"x\":[923.75,923.75,960.0,960.0],\"xaxis\":\"x\",\"y\":[0.05651285515586177,0.26288444146414364,0.26288444146414364,0.15590864319878017],\"yaxis\":\"y\",\"type\":\"scatter\"},{\"hoverinfo\":\"text\",\"marker\":{\"color\":\"rgb(0,116,217)\"},\"mode\":\"lines\",\"x\":[892.5,892.5,941.875,941.875],\"xaxis\":\"x\",\"y\":[0.1451309789534474,0.34869336804184453,0.34869336804184453,0.26288444146414364],\"yaxis\":\"y\",\"type\":\"scatter\"},{\"hoverinfo\":\"text\",\"marker\":{\"color\":\"rgb(0,116,217)\"},\"mode\":\"lines\",\"x\":[853.75,853.75,917.1875,917.1875],\"xaxis\":\"x\",\"y\":[0.32070277540188197,0.6202520639239186,0.6202520639239186,0.34869336804184453],\"yaxis\":\"y\",\"type\":\"scatter\"},{\"hoverinfo\":\"text\",\"marker\":{\"color\":\"rgb(0,116,217)\"},\"mode\":\"lines\",\"x\":[822.5,822.5,885.46875,885.46875],\"xaxis\":\"x\",\"y\":[0.33655104878654113,0.7836907919106653,0.7836907919106653,0.6202520639239186],\"yaxis\":\"y\",\"type\":\"scatter\"},{\"hoverinfo\":\"text\",\"marker\":{\"color\":\"rgb(0,116,217)\"},\"mode\":\"lines\",\"x\":[805.0,805.0,853.984375,853.984375],\"xaxis\":\"x\",\"y\":[0.0,2.0695891918900107,2.0695891918900107,0.7836907919106653],\"yaxis\":\"y\",\"type\":\"scatter\"},{\"hoverinfo\":\"text\",\"marker\":{\"color\":\"rgb(0,116,217)\"},\"mode\":\"lines\",\"x\":[995.0,995.0,1005.0,1005.0],\"xaxis\":\"x\",\"y\":[0.0,0.20980226479244993,0.20980226479244993,0.0],\"yaxis\":\"y\",\"type\":\"scatter\"},{\"hoverinfo\":\"text\",\"marker\":{\"color\":\"rgb(0,116,217)\"},\"mode\":\"lines\",\"x\":[985.0,985.0,1000.0,1000.0],\"xaxis\":\"x\",\"y\":[0.0,0.4856794131982549,0.4856794131982549,0.20980226479244993],\"yaxis\":\"y\",\"type\":\"scatter\"},{\"hoverinfo\":\"text\",\"marker\":{\"color\":\"rgb(0,116,217)\"},\"mode\":\"lines\",\"x\":[1025.0,1025.0,1035.0,1035.0],\"xaxis\":\"x\",\"y\":[0.0,0.15499823689709497,0.15499823689709497,0.0],\"yaxis\":\"y\",\"type\":\"scatter\"},{\"hoverinfo\":\"text\",\"marker\":{\"color\":\"rgb(0,116,217)\"},\"mode\":\"lines\",\"x\":[1015.0,1015.0,1030.0,1030.0],\"xaxis\":\"x\",\"y\":[0.0,0.2872280521239653,0.2872280521239653,0.15499823689709497],\"yaxis\":\"y\",\"type\":\"scatter\"},{\"hoverinfo\":\"text\",\"marker\":{\"color\":\"rgb(0,116,217)\"},\"mode\":\"lines\",\"x\":[1045.0,1045.0,1055.0,1055.0],\"xaxis\":\"x\",\"y\":[0.0,0.10786210118850593,0.10786210118850593,0.0],\"yaxis\":\"y\",\"type\":\"scatter\"},{\"hoverinfo\":\"text\",\"marker\":{\"color\":\"rgb(0,116,217)\"},\"mode\":\"lines\",\"x\":[1065.0,1065.0,1075.0,1075.0],\"xaxis\":\"x\",\"y\":[0.0,0.12145780184386124,0.12145780184386124,0.0],\"yaxis\":\"y\",\"type\":\"scatter\"},{\"hoverinfo\":\"text\",\"marker\":{\"color\":\"rgb(0,116,217)\"},\"mode\":\"lines\",\"x\":[1050.0,1050.0,1070.0,1070.0],\"xaxis\":\"x\",\"y\":[0.10786210118850593,0.357226465403457,0.357226465403457,0.12145780184386124],\"yaxis\":\"y\",\"type\":\"scatter\"},{\"hoverinfo\":\"text\",\"marker\":{\"color\":\"rgb(0,116,217)\"},\"mode\":\"lines\",\"x\":[1022.5,1022.5,1060.0,1060.0],\"xaxis\":\"x\",\"y\":[0.2872280521239653,0.6133451557743755,0.6133451557743755,0.357226465403457],\"yaxis\":\"y\",\"type\":\"scatter\"},{\"hoverinfo\":\"text\",\"marker\":{\"color\":\"rgb(0,116,217)\"},\"mode\":\"lines\",\"x\":[992.5,992.5,1041.25,1041.25],\"xaxis\":\"x\",\"y\":[0.4856794131982549,1.0522663473970162,1.0522663473970162,0.6133451557743755],\"yaxis\":\"y\",\"type\":\"scatter\"},{\"hoverinfo\":\"text\",\"marker\":{\"color\":\"rgb(0,116,217)\"},\"mode\":\"lines\",\"x\":[975.0,975.0,1016.875,1016.875],\"xaxis\":\"x\",\"y\":[0.0,1.3872049254999175,1.3872049254999175,1.0522663473970162],\"yaxis\":\"y\",\"type\":\"scatter\"},{\"hoverinfo\":\"text\",\"marker\":{\"color\":\"rgb(0,116,217)\"},\"mode\":\"lines\",\"x\":[1095.0,1095.0,1105.0,1105.0],\"xaxis\":\"x\",\"y\":[0.0,0.09268419554363233,0.09268419554363233,0.0],\"yaxis\":\"y\",\"type\":\"scatter\"},{\"hoverinfo\":\"text\",\"marker\":{\"color\":\"rgb(0,116,217)\"},\"mode\":\"lines\",\"x\":[1085.0,1085.0,1100.0,1100.0],\"xaxis\":\"x\",\"y\":[0.0,0.3914972780920594,0.3914972780920594,0.09268419554363233],\"yaxis\":\"y\",\"type\":\"scatter\"},{\"hoverinfo\":\"text\",\"marker\":{\"color\":\"rgb(0,116,217)\"},\"mode\":\"lines\",\"x\":[1125.0,1125.0,1135.0,1135.0],\"xaxis\":\"x\",\"y\":[0.0,0.22786300506616386,0.22786300506616386,0.0],\"yaxis\":\"y\",\"type\":\"scatter\"},{\"hoverinfo\":\"text\",\"marker\":{\"color\":\"rgb(0,116,217)\"},\"mode\":\"lines\",\"x\":[1115.0,1115.0,1130.0,1130.0],\"xaxis\":\"x\",\"y\":[0.0,0.40243904193663255,0.40243904193663255,0.22786300506616386],\"yaxis\":\"y\",\"type\":\"scatter\"},{\"hoverinfo\":\"text\",\"marker\":{\"color\":\"rgb(0,116,217)\"},\"mode\":\"lines\",\"x\":[1145.0,1145.0,1155.0,1155.0],\"xaxis\":\"x\",\"y\":[0.0,0.14143973075520208,0.14143973075520208,0.0],\"yaxis\":\"y\",\"type\":\"scatter\"},{\"hoverinfo\":\"text\",\"marker\":{\"color\":\"rgb(0,116,217)\"},\"mode\":\"lines\",\"x\":[1165.0,1165.0,1175.0,1175.0],\"xaxis\":\"x\",\"y\":[0.0,0.1056974193310929,0.1056974193310929,0.0],\"yaxis\":\"y\",\"type\":\"scatter\"},{\"hoverinfo\":\"text\",\"marker\":{\"color\":\"rgb(0,116,217)\"},\"mode\":\"lines\",\"x\":[1195.0,1195.0,1205.0,1205.0],\"xaxis\":\"x\",\"y\":[0.0,0.0,0.0,0.0],\"yaxis\":\"y\",\"type\":\"scatter\"},{\"hoverinfo\":\"text\",\"marker\":{\"color\":\"rgb(0,116,217)\"},\"mode\":\"lines\",\"x\":[1185.0,1185.0,1200.0,1200.0],\"xaxis\":\"x\",\"y\":[0.0,0.12401589958459804,0.12401589958459804,0.0],\"yaxis\":\"y\",\"type\":\"scatter\"},{\"hoverinfo\":\"text\",\"marker\":{\"color\":\"rgb(0,116,217)\"},\"mode\":\"lines\",\"x\":[1170.0,1170.0,1192.5,1192.5],\"xaxis\":\"x\",\"y\":[0.1056974193310929,0.33239907488313597,0.33239907488313597,0.12401589958459804],\"yaxis\":\"y\",\"type\":\"scatter\"},{\"hoverinfo\":\"text\",\"marker\":{\"color\":\"rgb(0,116,217)\"},\"mode\":\"lines\",\"x\":[1150.0,1150.0,1181.25,1181.25],\"xaxis\":\"x\",\"y\":[0.14143973075520208,0.506339126918158,0.506339126918158,0.33239907488313597],\"yaxis\":\"y\",\"type\":\"scatter\"},{\"hoverinfo\":\"text\",\"marker\":{\"color\":\"rgb(0,116,217)\"},\"mode\":\"lines\",\"x\":[1122.5,1122.5,1165.625,1165.625],\"xaxis\":\"x\",\"y\":[0.40243904193663255,0.7533870180569348,0.7533870180569348,0.506339126918158],\"yaxis\":\"y\",\"type\":\"scatter\"},{\"hoverinfo\":\"text\",\"marker\":{\"color\":\"rgb(0,116,217)\"},\"mode\":\"lines\",\"x\":[1092.5,1092.5,1144.0625,1144.0625],\"xaxis\":\"x\",\"y\":[0.3914972780920594,1.290648587987076,1.290648587987076,0.7533870180569348],\"yaxis\":\"y\",\"type\":\"scatter\"},{\"hoverinfo\":\"text\",\"marker\":{\"color\":\"rgb(0,116,217)\"},\"mode\":\"lines\",\"x\":[1215.0,1215.0,1225.0,1225.0],\"xaxis\":\"x\",\"y\":[0.0,0.13230071340336036,0.13230071340336036,0.0],\"yaxis\":\"y\",\"type\":\"scatter\"},{\"hoverinfo\":\"text\",\"marker\":{\"color\":\"rgb(0,116,217)\"},\"mode\":\"lines\",\"x\":[1245.0,1245.0,1255.0,1255.0],\"xaxis\":\"x\",\"y\":[0.0,0.08393373456973267,0.08393373456973267,0.0],\"yaxis\":\"y\",\"type\":\"scatter\"},{\"hoverinfo\":\"text\",\"marker\":{\"color\":\"rgb(0,116,217)\"},\"mode\":\"lines\",\"x\":[1235.0,1235.0,1250.0,1250.0],\"xaxis\":\"x\",\"y\":[0.0,0.14415651931954462,0.14415651931954462,0.08393373456973267],\"yaxis\":\"y\",\"type\":\"scatter\"},{\"hoverinfo\":\"text\",\"marker\":{\"color\":\"rgb(0,116,217)\"},\"mode\":\"lines\",\"x\":[1220.0,1220.0,1242.5,1242.5],\"xaxis\":\"x\",\"y\":[0.13230071340336036,0.30537947027423745,0.30537947027423745,0.14415651931954462],\"yaxis\":\"y\",\"type\":\"scatter\"},{\"hoverinfo\":\"text\",\"marker\":{\"color\":\"rgb(0,116,217)\"},\"mode\":\"lines\",\"x\":[1265.0,1265.0,1275.0,1275.0],\"xaxis\":\"x\",\"y\":[0.0,0.05919022499216734,0.05919022499216734,0.0],\"yaxis\":\"y\",\"type\":\"scatter\"},{\"hoverinfo\":\"text\",\"marker\":{\"color\":\"rgb(0,116,217)\"},\"mode\":\"lines\",\"x\":[1285.0,1285.0,1295.0,1295.0],\"xaxis\":\"x\",\"y\":[0.0,0.14271216373112103,0.14271216373112103,0.0],\"yaxis\":\"y\",\"type\":\"scatter\"},{\"hoverinfo\":\"text\",\"marker\":{\"color\":\"rgb(0,116,217)\"},\"mode\":\"lines\",\"x\":[1270.0,1270.0,1290.0,1290.0],\"xaxis\":\"x\",\"y\":[0.05919022499216734,0.38342127406646537,0.38342127406646537,0.14271216373112103],\"yaxis\":\"y\",\"type\":\"scatter\"},{\"hoverinfo\":\"text\",\"marker\":{\"color\":\"rgb(0,116,217)\"},\"mode\":\"lines\",\"x\":[1231.25,1231.25,1280.0,1280.0],\"xaxis\":\"x\",\"y\":[0.30537947027423745,0.6353698952974254,0.6353698952974254,0.38342127406646537],\"yaxis\":\"y\",\"type\":\"scatter\"},{\"hoverinfo\":\"text\",\"marker\":{\"color\":\"rgb(0,116,217)\"},\"mode\":\"lines\",\"x\":[1315.0,1315.0,1325.0,1325.0],\"xaxis\":\"x\",\"y\":[0.0,0.011445559135701245,0.011445559135701245,0.0],\"yaxis\":\"y\",\"type\":\"scatter\"},{\"hoverinfo\":\"text\",\"marker\":{\"color\":\"rgb(0,116,217)\"},\"mode\":\"lines\",\"x\":[1305.0,1305.0,1320.0,1320.0],\"xaxis\":\"x\",\"y\":[0.0,0.06214780539363288,0.06214780539363288,0.011445559135701245],\"yaxis\":\"y\",\"type\":\"scatter\"},{\"hoverinfo\":\"text\",\"marker\":{\"color\":\"rgb(0,116,217)\"},\"mode\":\"lines\",\"x\":[1345.0,1345.0,1355.0,1355.0],\"xaxis\":\"x\",\"y\":[0.0,0.06481686495779476,0.06481686495779476,0.0],\"yaxis\":\"y\",\"type\":\"scatter\"},{\"hoverinfo\":\"text\",\"marker\":{\"color\":\"rgb(0,116,217)\"},\"mode\":\"lines\",\"x\":[1335.0,1335.0,1350.0,1350.0],\"xaxis\":\"x\",\"y\":[0.0,0.1460865889046133,0.1460865889046133,0.06481686495779476],\"yaxis\":\"y\",\"type\":\"scatter\"},{\"hoverinfo\":\"text\",\"marker\":{\"color\":\"rgb(0,116,217)\"},\"mode\":\"lines\",\"x\":[1312.5,1312.5,1342.5,1342.5],\"xaxis\":\"x\",\"y\":[0.06214780539363288,0.4269889013157483,0.4269889013157483,0.1460865889046133],\"yaxis\":\"y\",\"type\":\"scatter\"},{\"hoverinfo\":\"text\",\"marker\":{\"color\":\"rgb(0,116,217)\"},\"mode\":\"lines\",\"x\":[1375.0,1375.0,1385.0,1385.0],\"xaxis\":\"x\",\"y\":[0.0,0.0436528547251229,0.0436528547251229,0.0],\"yaxis\":\"y\",\"type\":\"scatter\"},{\"hoverinfo\":\"text\",\"marker\":{\"color\":\"rgb(0,116,217)\"},\"mode\":\"lines\",\"x\":[1395.0,1395.0,1405.0,1405.0],\"xaxis\":\"x\",\"y\":[0.0,0.09968032343222563,0.09968032343222563,0.0],\"yaxis\":\"y\",\"type\":\"scatter\"},{\"hoverinfo\":\"text\",\"marker\":{\"color\":\"rgb(0,116,217)\"},\"mode\":\"lines\",\"x\":[1380.0,1380.0,1400.0,1400.0],\"xaxis\":\"x\",\"y\":[0.0436528547251229,0.24610693122596572,0.24610693122596572,0.09968032343222563],\"yaxis\":\"y\",\"type\":\"scatter\"},{\"hoverinfo\":\"text\",\"marker\":{\"color\":\"rgb(0,116,217)\"},\"mode\":\"lines\",\"x\":[1365.0,1365.0,1390.0,1390.0],\"xaxis\":\"x\",\"y\":[0.0,0.300001689207577,0.300001689207577,0.24610693122596572],\"yaxis\":\"y\",\"type\":\"scatter\"},{\"hoverinfo\":\"text\",\"marker\":{\"color\":\"rgb(0,116,217)\"},\"mode\":\"lines\",\"x\":[1415.0,1415.0,1425.0,1425.0],\"xaxis\":\"x\",\"y\":[0.0,0.15701149474334042,0.15701149474334042,0.0],\"yaxis\":\"y\",\"type\":\"scatter\"},{\"hoverinfo\":\"text\",\"marker\":{\"color\":\"rgb(0,116,217)\"},\"mode\":\"lines\",\"x\":[1435.0,1435.0,1445.0,1445.0],\"xaxis\":\"x\",\"y\":[0.0,0.15995723019781896,0.15995723019781896,0.0],\"yaxis\":\"y\",\"type\":\"scatter\"},{\"hoverinfo\":\"text\",\"marker\":{\"color\":\"rgb(0,116,217)\"},\"mode\":\"lines\",\"x\":[1455.0,1455.0,1465.0,1465.0],\"xaxis\":\"x\",\"y\":[0.0,0.11942903646680654,0.11942903646680654,0.0],\"yaxis\":\"y\",\"type\":\"scatter\"},{\"hoverinfo\":\"text\",\"marker\":{\"color\":\"rgb(0,116,217)\"},\"mode\":\"lines\",\"x\":[1485.0,1485.0,1495.0,1495.0],\"xaxis\":\"x\",\"y\":[0.0,0.06740481035033681,0.06740481035033681,0.0],\"yaxis\":\"y\",\"type\":\"scatter\"},{\"hoverinfo\":\"text\",\"marker\":{\"color\":\"rgb(0,116,217)\"},\"mode\":\"lines\",\"x\":[1475.0,1475.0,1490.0,1490.0],\"xaxis\":\"x\",\"y\":[0.0,0.14674948296429483,0.14674948296429483,0.06740481035033681],\"yaxis\":\"y\",\"type\":\"scatter\"},{\"hoverinfo\":\"text\",\"marker\":{\"color\":\"rgb(0,116,217)\"},\"mode\":\"lines\",\"x\":[1460.0,1460.0,1482.5,1482.5],\"xaxis\":\"x\",\"y\":[0.11942903646680654,0.2548832241040139,0.2548832241040139,0.14674948296429483],\"yaxis\":\"y\",\"type\":\"scatter\"},{\"hoverinfo\":\"text\",\"marker\":{\"color\":\"rgb(0,116,217)\"},\"mode\":\"lines\",\"x\":[1440.0,1440.0,1471.25,1471.25],\"xaxis\":\"x\",\"y\":[0.15995723019781896,0.37469189758336496,0.37469189758336496,0.2548832241040139],\"yaxis\":\"y\",\"type\":\"scatter\"},{\"hoverinfo\":\"text\",\"marker\":{\"color\":\"rgb(0,116,217)\"},\"mode\":\"lines\",\"x\":[1420.0,1420.0,1455.625,1455.625],\"xaxis\":\"x\",\"y\":[0.15701149474334042,0.46905317528730167,0.46905317528730167,0.37469189758336496],\"yaxis\":\"y\",\"type\":\"scatter\"},{\"hoverinfo\":\"text\",\"marker\":{\"color\":\"rgb(0,116,217)\"},\"mode\":\"lines\",\"x\":[1377.5,1377.5,1437.8125,1437.8125],\"xaxis\":\"x\",\"y\":[0.300001689207577,0.8250034255081449,0.8250034255081449,0.46905317528730167],\"yaxis\":\"y\",\"type\":\"scatter\"},{\"hoverinfo\":\"text\",\"marker\":{\"color\":\"rgb(0,116,217)\"},\"mode\":\"lines\",\"x\":[1327.5,1327.5,1407.65625,1407.65625],\"xaxis\":\"x\",\"y\":[0.4269889013157483,1.2145154428516787,1.2145154428516787,0.8250034255081449],\"yaxis\":\"y\",\"type\":\"scatter\"},{\"hoverinfo\":\"text\",\"marker\":{\"color\":\"rgb(0,116,217)\"},\"mode\":\"lines\",\"x\":[1255.625,1255.625,1367.578125,1367.578125],\"xaxis\":\"x\",\"y\":[0.6353698952974254,1.4596095723087135,1.4596095723087135,1.2145154428516787],\"yaxis\":\"y\",\"type\":\"scatter\"},{\"hoverinfo\":\"text\",\"marker\":{\"color\":\"rgb(0,116,217)\"},\"mode\":\"lines\",\"x\":[1118.28125,1118.28125,1311.6015625,1311.6015625],\"xaxis\":\"x\",\"y\":[1.290648587987076,1.9331073502273846,1.9331073502273846,1.4596095723087135],\"yaxis\":\"y\",\"type\":\"scatter\"},{\"hoverinfo\":\"text\",\"marker\":{\"color\":\"rgb(0,116,217)\"},\"mode\":\"lines\",\"x\":[995.9375,995.9375,1214.94140625,1214.94140625],\"xaxis\":\"x\",\"y\":[1.3872049254999175,2.886501710229768,2.886501710229768,1.9331073502273846],\"yaxis\":\"y\",\"type\":\"scatter\"},{\"hoverinfo\":\"text\",\"marker\":{\"color\":\"rgb(0,116,217)\"},\"mode\":\"lines\",\"x\":[829.4921875,829.4921875,1105.439453125,1105.439453125],\"xaxis\":\"x\",\"y\":[2.0695891918900107,4.315789452466481,4.315789452466481,2.886501710229768],\"yaxis\":\"y\",\"type\":\"scatter\"},{\"hoverinfo\":\"text\",\"marker\":{\"color\":\"rgb(0,116,217)\"},\"mode\":\"lines\",\"x\":[543.96484375,543.96484375,967.4658203125,967.4658203125],\"xaxis\":\"x\",\"y\":[2.9069888715125742,5.871303812869839,5.871303812869839,4.315789452466481],\"yaxis\":\"y\",\"type\":\"scatter\"},{\"hoverinfo\":\"text\",\"marker\":{\"color\":\"rgb(0,116,217)\"},\"mode\":\"lines\",\"x\":[122.4609375,122.4609375,755.71533203125,755.71533203125],\"xaxis\":\"x\",\"y\":[3.3647650645415395,6.813667231464725,6.813667231464725,5.871303812869839],\"yaxis\":\"y\",\"type\":\"scatter\"}],                        {\"autosize\":false,\"height\":500,\"hovermode\":\"closest\",\"showlegend\":false,\"width\":800,\"xaxis\":{\"mirror\":\"allticks\",\"rangemode\":\"tozero\",\"showgrid\":false,\"showline\":true,\"showticklabels\":true,\"tickmode\":\"array\",\"ticks\":\"outside\",\"ticktext\":[\"108\",\"111\",\"128\",\"132\",\"118\",\"130\",\"102\",\"107\",\"122\",\"105\",\"135\",\"109\",\"117\",\"131\",\"50\",\"52\",\"110\",\"115\",\"148\",\"124\",\"136\",\"100\",\"120\",\"143\",\"125\",\"144\",\"104\",\"112\",\"145\",\"140\",\"129\",\"139\",\"141\",\"56\",\"85\",\"76\",\"103\",\"116\",\"147\",\"77\",\"137\",\"75\",\"127\",\"86\",\"70\",\"51\",\"65\",\"15\",\"32\",\"14\",\"33\",\"19\",\"46\",\"21\",\"48\",\"10\",\"44\",\"18\",\"5\",\"16\",\"22\",\"4\",\"0\",\"40\",\"17\",\"27\",\"36\",\"31\",\"20\",\"43\",\"23\",\"26\",\"28\",\"39\",\"35\",\"49\",\"6\",\"11\",\"7\",\"24\",\"41\",\"8\",\"13\",\"38\",\"42\",\"29\",\"2\",\"47\",\"25\",\"1\",\"45\",\"30\",\"37\",\"9\",\"34\",\"3\",\"12\",\"60\",\"98\",\"57\",\"93\",\"106\",\"53\",\"62\",\"80\",\"81\",\"69\",\"89\",\"87\",\"68\",\"119\",\"146\",\"72\",\"113\",\"114\",\"123\",\"83\",\"121\",\"134\",\"101\",\"142\",\"55\",\"99\",\"94\",\"67\",\"82\",\"59\",\"79\",\"90\",\"92\",\"149\",\"58\",\"138\",\"54\",\"126\",\"133\",\"64\",\"88\",\"95\",\"84\",\"96\",\"71\",\"73\",\"61\",\"66\",\"74\",\"91\",\"97\",\"63\",\"78\"],\"tickvals\":[5,15,25,35,45,55,65,75,85,95,105,115,125,135,145,155,165,175,185,195,205,215,225,235,245,255,265,275,285,295,305,315,325,335,345,355,365,375,385,395,405,415,425,435,445,455,465,475,485,495,505,515,525,535,545,555,565,575,585,595,605,615,625,635,645,655,665,675,685,695,705,715,725,735,745,755,765,775,785,795,805,815,825,835,845,855,865,875,885,895,905,915,925,935,945,955,965,975,985,995,1005,1015,1025,1035,1045,1055,1065,1075,1085,1095,1105,1115,1125,1135,1145,1155,1165,1175,1185,1195,1205,1215,1225,1235,1245,1255,1265,1275,1285,1295,1305,1315,1325,1335,1345,1355,1365,1375,1385,1395,1405,1415,1425,1435,1445,1455,1465,1475,1485,1495],\"type\":\"linear\",\"zeroline\":false},\"yaxis\":{\"mirror\":\"allticks\",\"rangemode\":\"tozero\",\"showgrid\":false,\"showline\":true,\"showticklabels\":true,\"ticks\":\"outside\",\"type\":\"linear\",\"zeroline\":false},\"template\":{\"data\":{\"bar\":[{\"error_x\":{\"color\":\"#2a3f5f\"},\"error_y\":{\"color\":\"#2a3f5f\"},\"marker\":{\"line\":{\"color\":\"#E5ECF6\",\"width\":0.5},\"pattern\":{\"fillmode\":\"overlay\",\"size\":10,\"solidity\":0.2}},\"type\":\"bar\"}],\"barpolar\":[{\"marker\":{\"line\":{\"color\":\"#E5ECF6\",\"width\":0.5},\"pattern\":{\"fillmode\":\"overlay\",\"size\":10,\"solidity\":0.2}},\"type\":\"barpolar\"}],\"carpet\":[{\"aaxis\":{\"endlinecolor\":\"#2a3f5f\",\"gridcolor\":\"white\",\"linecolor\":\"white\",\"minorgridcolor\":\"white\",\"startlinecolor\":\"#2a3f5f\"},\"baxis\":{\"endlinecolor\":\"#2a3f5f\",\"gridcolor\":\"white\",\"linecolor\":\"white\",\"minorgridcolor\":\"white\",\"startlinecolor\":\"#2a3f5f\"},\"type\":\"carpet\"}],\"choropleth\":[{\"colorbar\":{\"outlinewidth\":0,\"ticks\":\"\"},\"type\":\"choropleth\"}],\"contour\":[{\"colorbar\":{\"outlinewidth\":0,\"ticks\":\"\"},\"colorscale\":[[0.0,\"#0d0887\"],[0.1111111111111111,\"#46039f\"],[0.2222222222222222,\"#7201a8\"],[0.3333333333333333,\"#9c179e\"],[0.4444444444444444,\"#bd3786\"],[0.5555555555555556,\"#d8576b\"],[0.6666666666666666,\"#ed7953\"],[0.7777777777777778,\"#fb9f3a\"],[0.8888888888888888,\"#fdca26\"],[1.0,\"#f0f921\"]],\"type\":\"contour\"}],\"contourcarpet\":[{\"colorbar\":{\"outlinewidth\":0,\"ticks\":\"\"},\"type\":\"contourcarpet\"}],\"heatmap\":[{\"colorbar\":{\"outlinewidth\":0,\"ticks\":\"\"},\"colorscale\":[[0.0,\"#0d0887\"],[0.1111111111111111,\"#46039f\"],[0.2222222222222222,\"#7201a8\"],[0.3333333333333333,\"#9c179e\"],[0.4444444444444444,\"#bd3786\"],[0.5555555555555556,\"#d8576b\"],[0.6666666666666666,\"#ed7953\"],[0.7777777777777778,\"#fb9f3a\"],[0.8888888888888888,\"#fdca26\"],[1.0,\"#f0f921\"]],\"type\":\"heatmap\"}],\"heatmapgl\":[{\"colorbar\":{\"outlinewidth\":0,\"ticks\":\"\"},\"colorscale\":[[0.0,\"#0d0887\"],[0.1111111111111111,\"#46039f\"],[0.2222222222222222,\"#7201a8\"],[0.3333333333333333,\"#9c179e\"],[0.4444444444444444,\"#bd3786\"],[0.5555555555555556,\"#d8576b\"],[0.6666666666666666,\"#ed7953\"],[0.7777777777777778,\"#fb9f3a\"],[0.8888888888888888,\"#fdca26\"],[1.0,\"#f0f921\"]],\"type\":\"heatmapgl\"}],\"histogram\":[{\"marker\":{\"pattern\":{\"fillmode\":\"overlay\",\"size\":10,\"solidity\":0.2}},\"type\":\"histogram\"}],\"histogram2d\":[{\"colorbar\":{\"outlinewidth\":0,\"ticks\":\"\"},\"colorscale\":[[0.0,\"#0d0887\"],[0.1111111111111111,\"#46039f\"],[0.2222222222222222,\"#7201a8\"],[0.3333333333333333,\"#9c179e\"],[0.4444444444444444,\"#bd3786\"],[0.5555555555555556,\"#d8576b\"],[0.6666666666666666,\"#ed7953\"],[0.7777777777777778,\"#fb9f3a\"],[0.8888888888888888,\"#fdca26\"],[1.0,\"#f0f921\"]],\"type\":\"histogram2d\"}],\"histogram2dcontour\":[{\"colorbar\":{\"outlinewidth\":0,\"ticks\":\"\"},\"colorscale\":[[0.0,\"#0d0887\"],[0.1111111111111111,\"#46039f\"],[0.2222222222222222,\"#7201a8\"],[0.3333333333333333,\"#9c179e\"],[0.4444444444444444,\"#bd3786\"],[0.5555555555555556,\"#d8576b\"],[0.6666666666666666,\"#ed7953\"],[0.7777777777777778,\"#fb9f3a\"],[0.8888888888888888,\"#fdca26\"],[1.0,\"#f0f921\"]],\"type\":\"histogram2dcontour\"}],\"mesh3d\":[{\"colorbar\":{\"outlinewidth\":0,\"ticks\":\"\"},\"type\":\"mesh3d\"}],\"parcoords\":[{\"line\":{\"colorbar\":{\"outlinewidth\":0,\"ticks\":\"\"}},\"type\":\"parcoords\"}],\"pie\":[{\"automargin\":true,\"type\":\"pie\"}],\"scatter\":[{\"marker\":{\"colorbar\":{\"outlinewidth\":0,\"ticks\":\"\"}},\"type\":\"scatter\"}],\"scatter3d\":[{\"line\":{\"colorbar\":{\"outlinewidth\":0,\"ticks\":\"\"}},\"marker\":{\"colorbar\":{\"outlinewidth\":0,\"ticks\":\"\"}},\"type\":\"scatter3d\"}],\"scattercarpet\":[{\"marker\":{\"colorbar\":{\"outlinewidth\":0,\"ticks\":\"\"}},\"type\":\"scattercarpet\"}],\"scattergeo\":[{\"marker\":{\"colorbar\":{\"outlinewidth\":0,\"ticks\":\"\"}},\"type\":\"scattergeo\"}],\"scattergl\":[{\"marker\":{\"colorbar\":{\"outlinewidth\":0,\"ticks\":\"\"}},\"type\":\"scattergl\"}],\"scattermapbox\":[{\"marker\":{\"colorbar\":{\"outlinewidth\":0,\"ticks\":\"\"}},\"type\":\"scattermapbox\"}],\"scatterpolar\":[{\"marker\":{\"colorbar\":{\"outlinewidth\":0,\"ticks\":\"\"}},\"type\":\"scatterpolar\"}],\"scatterpolargl\":[{\"marker\":{\"colorbar\":{\"outlinewidth\":0,\"ticks\":\"\"}},\"type\":\"scatterpolargl\"}],\"scatterternary\":[{\"marker\":{\"colorbar\":{\"outlinewidth\":0,\"ticks\":\"\"}},\"type\":\"scatterternary\"}],\"surface\":[{\"colorbar\":{\"outlinewidth\":0,\"ticks\":\"\"},\"colorscale\":[[0.0,\"#0d0887\"],[0.1111111111111111,\"#46039f\"],[0.2222222222222222,\"#7201a8\"],[0.3333333333333333,\"#9c179e\"],[0.4444444444444444,\"#bd3786\"],[0.5555555555555556,\"#d8576b\"],[0.6666666666666666,\"#ed7953\"],[0.7777777777777778,\"#fb9f3a\"],[0.8888888888888888,\"#fdca26\"],[1.0,\"#f0f921\"]],\"type\":\"surface\"}],\"table\":[{\"cells\":{\"fill\":{\"color\":\"#EBF0F8\"},\"line\":{\"color\":\"white\"}},\"header\":{\"fill\":{\"color\":\"#C8D4E3\"},\"line\":{\"color\":\"white\"}},\"type\":\"table\"}]},\"layout\":{\"annotationdefaults\":{\"arrowcolor\":\"#2a3f5f\",\"arrowhead\":0,\"arrowwidth\":1},\"autotypenumbers\":\"strict\",\"coloraxis\":{\"colorbar\":{\"outlinewidth\":0,\"ticks\":\"\"}},\"colorscale\":{\"diverging\":[[0,\"#8e0152\"],[0.1,\"#c51b7d\"],[0.2,\"#de77ae\"],[0.3,\"#f1b6da\"],[0.4,\"#fde0ef\"],[0.5,\"#f7f7f7\"],[0.6,\"#e6f5d0\"],[0.7,\"#b8e186\"],[0.8,\"#7fbc41\"],[0.9,\"#4d9221\"],[1,\"#276419\"]],\"sequential\":[[0.0,\"#0d0887\"],[0.1111111111111111,\"#46039f\"],[0.2222222222222222,\"#7201a8\"],[0.3333333333333333,\"#9c179e\"],[0.4444444444444444,\"#bd3786\"],[0.5555555555555556,\"#d8576b\"],[0.6666666666666666,\"#ed7953\"],[0.7777777777777778,\"#fb9f3a\"],[0.8888888888888888,\"#fdca26\"],[1.0,\"#f0f921\"]],\"sequentialminus\":[[0.0,\"#0d0887\"],[0.1111111111111111,\"#46039f\"],[0.2222222222222222,\"#7201a8\"],[0.3333333333333333,\"#9c179e\"],[0.4444444444444444,\"#bd3786\"],[0.5555555555555556,\"#d8576b\"],[0.6666666666666666,\"#ed7953\"],[0.7777777777777778,\"#fb9f3a\"],[0.8888888888888888,\"#fdca26\"],[1.0,\"#f0f921\"]]},\"colorway\":[\"#636efa\",\"#EF553B\",\"#00cc96\",\"#ab63fa\",\"#FFA15A\",\"#19d3f3\",\"#FF6692\",\"#B6E880\",\"#FF97FF\",\"#FECB52\"],\"font\":{\"color\":\"#2a3f5f\"},\"geo\":{\"bgcolor\":\"white\",\"lakecolor\":\"white\",\"landcolor\":\"#E5ECF6\",\"showlakes\":true,\"showland\":true,\"subunitcolor\":\"white\"},\"hoverlabel\":{\"align\":\"left\"},\"hovermode\":\"closest\",\"mapbox\":{\"style\":\"light\"},\"paper_bgcolor\":\"white\",\"plot_bgcolor\":\"#E5ECF6\",\"polar\":{\"angularaxis\":{\"gridcolor\":\"white\",\"linecolor\":\"white\",\"ticks\":\"\"},\"bgcolor\":\"#E5ECF6\",\"radialaxis\":{\"gridcolor\":\"white\",\"linecolor\":\"white\",\"ticks\":\"\"}},\"scene\":{\"xaxis\":{\"backgroundcolor\":\"#E5ECF6\",\"gridcolor\":\"white\",\"gridwidth\":2,\"linecolor\":\"white\",\"showbackground\":true,\"ticks\":\"\",\"zerolinecolor\":\"white\"},\"yaxis\":{\"backgroundcolor\":\"#E5ECF6\",\"gridcolor\":\"white\",\"gridwidth\":2,\"linecolor\":\"white\",\"showbackground\":true,\"ticks\":\"\",\"zerolinecolor\":\"white\"},\"zaxis\":{\"backgroundcolor\":\"#E5ECF6\",\"gridcolor\":\"white\",\"gridwidth\":2,\"linecolor\":\"white\",\"showbackground\":true,\"ticks\":\"\",\"zerolinecolor\":\"white\"}},\"shapedefaults\":{\"line\":{\"color\":\"#2a3f5f\"}},\"ternary\":{\"aaxis\":{\"gridcolor\":\"white\",\"linecolor\":\"white\",\"ticks\":\"\"},\"baxis\":{\"gridcolor\":\"white\",\"linecolor\":\"white\",\"ticks\":\"\"},\"bgcolor\":\"#E5ECF6\",\"caxis\":{\"gridcolor\":\"white\",\"linecolor\":\"white\",\"ticks\":\"\"}},\"title\":{\"x\":0.05},\"xaxis\":{\"automargin\":true,\"gridcolor\":\"white\",\"linecolor\":\"white\",\"ticks\":\"\",\"title\":{\"standoff\":15},\"zerolinecolor\":\"white\",\"zerolinewidth\":2},\"yaxis\":{\"automargin\":true,\"gridcolor\":\"white\",\"linecolor\":\"white\",\"ticks\":\"\",\"title\":{\"standoff\":15},\"zerolinecolor\":\"white\",\"zerolinewidth\":2}}}},                        {\"responsive\": true}                    ).then(function(){\n",
       "                            \n",
       "var gd = document.getElementById('8a3407db-3b1e-493a-82ae-67b7d496a3b1');\n",
       "var x = new MutationObserver(function (mutations, observer) {{\n",
       "        var display = window.getComputedStyle(gd).display;\n",
       "        if (!display || display === 'none') {{\n",
       "            console.log([gd, 'removed!']);\n",
       "            Plotly.purge(gd);\n",
       "            observer.disconnect();\n",
       "        }}\n",
       "}});\n",
       "\n",
       "// Listen for the removal of the full notebook cells\n",
       "var notebookContainer = gd.closest('#notebook-container');\n",
       "if (notebookContainer) {{\n",
       "    x.observe(notebookContainer, {childList: true});\n",
       "}}\n",
       "\n",
       "// Listen for the clearing of the current output cell\n",
       "var outputEl = gd.closest('.output');\n",
       "if (outputEl) {{\n",
       "    x.observe(outputEl, {childList: true});\n",
       "}}\n",
       "\n",
       "                        })                };                });            </script>        </div>"
      ]
     },
     "metadata": {},
     "output_type": "display_data"
    }
   ],
   "source": [
    "# Create the dendrogram\n",
    "fig = ff.create_dendrogram(df_iris_pca, color_threshold=0)\n",
    "fig.update_layout(width=800, height=500)\n",
    "fig.show()"
   ]
  },
  {
   "cell_type": "code",
   "execution_count": 26,
   "id": "2187e351-da22-4385-beaf-3b8126ad2068",
   "metadata": {},
   "outputs": [],
   "source": [
    "agg = AgglomerativeClustering(n_clusters=3)\n",
    "model = agg.fit(df_iris_pca)"
   ]
  },
  {
   "cell_type": "code",
   "execution_count": 27,
   "id": "49e997ba-cda3-4647-b40a-28931a411c36",
   "metadata": {},
   "outputs": [
    {
     "data": {
      "text/html": [
       "<div>\n",
       "<style scoped>\n",
       "    .dataframe tbody tr th:only-of-type {\n",
       "        vertical-align: middle;\n",
       "    }\n",
       "\n",
       "    .dataframe tbody tr th {\n",
       "        vertical-align: top;\n",
       "    }\n",
       "\n",
       "    .dataframe thead th {\n",
       "        text-align: right;\n",
       "    }\n",
       "</style>\n",
       "<table border=\"1\" class=\"dataframe\">\n",
       "  <thead>\n",
       "    <tr style=\"text-align: right;\">\n",
       "      <th></th>\n",
       "      <th>principal component 1</th>\n",
       "      <th>principal component 2</th>\n",
       "      <th>class</th>\n",
       "    </tr>\n",
       "  </thead>\n",
       "  <tbody>\n",
       "    <tr>\n",
       "      <th>0</th>\n",
       "      <td>-2.264542</td>\n",
       "      <td>0.505704</td>\n",
       "      <td>0</td>\n",
       "    </tr>\n",
       "    <tr>\n",
       "      <th>1</th>\n",
       "      <td>-2.086426</td>\n",
       "      <td>-0.655405</td>\n",
       "      <td>0</td>\n",
       "    </tr>\n",
       "    <tr>\n",
       "      <th>2</th>\n",
       "      <td>-2.367950</td>\n",
       "      <td>-0.318477</td>\n",
       "      <td>0</td>\n",
       "    </tr>\n",
       "    <tr>\n",
       "      <th>3</th>\n",
       "      <td>-2.304197</td>\n",
       "      <td>-0.575368</td>\n",
       "      <td>0</td>\n",
       "    </tr>\n",
       "    <tr>\n",
       "      <th>4</th>\n",
       "      <td>-2.388777</td>\n",
       "      <td>0.674767</td>\n",
       "      <td>0</td>\n",
       "    </tr>\n",
       "  </tbody>\n",
       "</table>\n",
       "</div>"
      ],
      "text/plain": [
       "   principal component 1  principal component 2  class\n",
       "0              -2.264542               0.505704      0\n",
       "1              -2.086426              -0.655405      0\n",
       "2              -2.367950              -0.318477      0\n",
       "3              -2.304197              -0.575368      0\n",
       "4              -2.388777               0.674767      0"
      ]
     },
     "execution_count": 27,
     "metadata": {},
     "output_type": "execute_result"
    }
   ],
   "source": [
    "df_iris_pca[\"class\"] = model.labels_\n",
    "df_iris_pca.head()"
   ]
  },
  {
   "cell_type": "code",
   "execution_count": 28,
   "id": "6d932bc2-dbc7-486d-bcf2-62abf3edcde9",
   "metadata": {},
   "outputs": [
    {
     "data": {},
     "metadata": {},
     "output_type": "display_data"
    },
    {
     "data": {
      "application/vnd.holoviews_exec.v0+json": "",
      "text/html": [
       "<div id='1854'>\n",
       "\n",
       "\n",
       "\n",
       "\n",
       "\n",
       "  <div class=\"bk-root\" id=\"859f9bd7-84c5-4a30-a805-271df5e88634\" data-root-id=\"1854\"></div>\n",
       "</div>\n",
       "<script type=\"application/javascript\">(function(root) {\n",
       "  function embed_document(root) {\n",
       "    var docs_json = {\"6e5c2607-ad12-4c2b-9981-f696e6024f50\":{\"defs\":[{\"extends\":null,\"module\":null,\"name\":\"ReactiveHTML1\",\"overrides\":[],\"properties\":[]},{\"extends\":null,\"module\":null,\"name\":\"FlexBox1\",\"overrides\":[],\"properties\":[{\"default\":\"flex-start\",\"kind\":null,\"name\":\"align_content\"},{\"default\":\"flex-start\",\"kind\":null,\"name\":\"align_items\"},{\"default\":\"row\",\"kind\":null,\"name\":\"flex_direction\"},{\"default\":\"wrap\",\"kind\":null,\"name\":\"flex_wrap\"},{\"default\":\"flex-start\",\"kind\":null,\"name\":\"justify_content\"}]},{\"extends\":null,\"module\":null,\"name\":\"GridStack1\",\"overrides\":[],\"properties\":[{\"default\":\"warn\",\"kind\":null,\"name\":\"mode\"},{\"default\":null,\"kind\":null,\"name\":\"ncols\"},{\"default\":null,\"kind\":null,\"name\":\"nrows\"},{\"default\":true,\"kind\":null,\"name\":\"allow_resize\"},{\"default\":true,\"kind\":null,\"name\":\"allow_drag\"},{\"default\":[],\"kind\":null,\"name\":\"state\"}]},{\"extends\":null,\"module\":null,\"name\":\"click1\",\"overrides\":[],\"properties\":[{\"default\":\"\",\"kind\":null,\"name\":\"terminal_output\"},{\"default\":\"\",\"kind\":null,\"name\":\"debug_name\"},{\"default\":0,\"kind\":null,\"name\":\"clears\"}]},{\"extends\":null,\"module\":null,\"name\":\"TemplateActions1\",\"overrides\":[],\"properties\":[{\"default\":0,\"kind\":null,\"name\":\"open_modal\"},{\"default\":0,\"kind\":null,\"name\":\"close_modal\"}]},{\"extends\":null,\"module\":null,\"name\":\"MaterialTemplateActions1\",\"overrides\":[],\"properties\":[{\"default\":0,\"kind\":null,\"name\":\"open_modal\"},{\"default\":0,\"kind\":null,\"name\":\"close_modal\"}]}],\"roots\":{\"references\":[{\"attributes\":{\"fill_alpha\":{\"value\":0.1},\"fill_color\":{\"value\":\"#e5ae38\"},\"hatch_alpha\":{\"value\":0.1},\"hatch_color\":{\"value\":\"#e5ae38\"},\"line_alpha\":{\"value\":0.1},\"line_color\":{\"value\":\"#e5ae38\"},\"size\":{\"value\":5.477225575051661},\"x\":{\"field\":\"principal component 1\"},\"y\":{\"field\":\"principal component 2\"}},\"id\":\"1944\",\"type\":\"Scatter\"},{\"attributes\":{\"margin\":[5,5,5,5],\"name\":\"HSpacer03295\",\"sizing_mode\":\"stretch_width\"},\"id\":\"2090\",\"type\":\"Spacer\"},{\"attributes\":{\"tools\":[{\"id\":\"1858\"},{\"id\":\"1878\"},{\"id\":\"1879\"},{\"id\":\"1880\"},{\"id\":\"1881\"},{\"id\":\"1882\"}]},\"id\":\"1884\",\"type\":\"Toolbar\"},{\"attributes\":{\"fill_alpha\":{\"value\":0.2},\"fill_color\":{\"value\":\"#fc4f30\"},\"hatch_alpha\":{\"value\":0.2},\"hatch_color\":{\"value\":\"#fc4f30\"},\"line_alpha\":{\"value\":0.2},\"line_color\":{\"value\":\"#fc4f30\"},\"size\":{\"value\":5.477225575051661},\"x\":{\"field\":\"principal component 1\"},\"y\":{\"field\":\"principal component 2\"}},\"id\":\"1923\",\"type\":\"Scatter\"},{\"attributes\":{\"callback\":null,\"renderers\":[{\"id\":\"1903\"},{\"id\":\"1924\"},{\"id\":\"1946\"}],\"tags\":[\"hv_created\"],\"tooltips\":[[\"class\",\"@{class}\"],[\"principal component 1\",\"@{principal_component_1}\"],[\"principal component 2\",\"@{principal_component_2}\"]]},\"id\":\"1858\",\"type\":\"HoverTool\"},{\"attributes\":{\"fill_color\":{\"value\":\"#30a2da\"},\"hatch_color\":{\"value\":\"#30a2da\"},\"line_color\":{\"value\":\"#30a2da\"},\"size\":{\"value\":5.477225575051661},\"x\":{\"field\":\"principal component 1\"},\"y\":{\"field\":\"principal component 2\"}},\"id\":\"1900\",\"type\":\"Scatter\"},{\"attributes\":{\"bottom_units\":\"screen\",\"coordinates\":null,\"fill_alpha\":0.5,\"fill_color\":\"lightgrey\",\"group\":null,\"left_units\":\"screen\",\"level\":\"overlay\",\"line_alpha\":1.0,\"line_color\":\"black\",\"line_dash\":[4,4],\"line_width\":2,\"right_units\":\"screen\",\"syncable\":false,\"top_units\":\"screen\"},\"id\":\"1883\",\"type\":\"BoxAnnotation\"},{\"attributes\":{},\"id\":\"1878\",\"type\":\"SaveTool\"},{\"attributes\":{},\"id\":\"1879\",\"type\":\"PanTool\"},{\"attributes\":{},\"id\":\"1882\",\"type\":\"ResetTool\"},{\"attributes\":{\"fill_alpha\":{\"value\":0.2},\"fill_color\":{\"value\":\"#30a2da\"},\"hatch_alpha\":{\"value\":0.2},\"hatch_color\":{\"value\":\"#30a2da\"},\"line_alpha\":{\"value\":0.2},\"line_color\":{\"value\":\"#30a2da\"},\"size\":{\"value\":5.477225575051661},\"x\":{\"field\":\"principal component 1\"},\"y\":{\"field\":\"principal component 2\"}},\"id\":\"1902\",\"type\":\"Scatter\"},{\"attributes\":{\"data\":{\"class\":[1,1,1,1,1,1,1,1,1,1,1,1,1,1,1,1,1,1,1,1,1,1,1,1,1,1,1,1,1,1,1,1,1,1,1,1,1,1,1,1,1,1,1,1,1,1,1,1,1,1,1,1,1],\"principal component 1\":{\"__ndarray__\":\"fRWMhntt2T9HnJZFWCnxP2eBHlf2mtg/6f4dZv7c379qGywXnaPtP4bBkDZaWXQ/6N2FPizsv7+sz+h8JxTcP1ZNsk78puE/N0UqJwTz5j+1z63ghxOjv5lu06S8RdY/4rIv7V2iwz9k6iTH4XHzPzDYZACmFsQ/Va1SDE473j8OyjX41qXzP4kxy7fjI+Q/GdCK7kVq5j8bhVUnIzDlP8Ab1FJINai/Tz98rN0cvz9mkFg5BOqMPx3f6GWaNc4/DM1ZRTXo8D+hsJMoZVfMP8+bvwf1kvA/tV4TnFcrsT90NwN1kKDRP8d9yQ7wbdE/oo3+VwPx4z+13kvRzh7VP8LEFNWD6de/1iTllsIb0j8wX21EL8y2PwQkQhu5t8w/7wRG5kBd4j/XjFDrsj/dv96A0gDGJNA/3F8IKHdz8j/4oUp+m+/WP1n35HGkDPQ/GOKIxsts9z/7RPpdThD0P4titwdQKu8/8oqkmmBE9T9ffP3wHsDyP932a9zEx/E/JzazatUo8z+UvvFQw4ztP9xfCCh3c/I/R9VbMZXv+D802SvtkrLuPw==\",\"dtype\":\"float64\",\"order\":\"little\",\"shape\":[53]},\"principal component 2\":{\"__ndarray__\":\"j80hw3Uh/L99AFcJ4hrLv/IVlNb76eK/ZJSza/eU/b95jGFUCw+fP+nLA01tePC/8oKEXbZDBcDJ9gYTsCWuv0bNqHx+XPy/2nstxk+8x78wLLY26rLbvxu+JkVKZsi/k4nUeJ9N6b9h5T6HOSL6v71Ai9CC2fS/sQipiLWp2r9Cr8dW+Rvuv+bFU70Krdq/9DbCViNBsL9nGdg+X7fMv2YFEZBX6vC/asJ8cXkE+b9r1i92nSz5v0GekB1e1Oi/EC0SzX5h5L+Hbj2aaPnRv7iLs++KR/a/l8do/yc3y789ZwsN7Ub1vycJ/oM76fG/ucUd1SI0nD9n68QlE6Xvv87C5Ku5JADApUs7dJBT67+0jkY+Z2PGv1L2R1TcWdi/eDq1mhitw7+0+86JpaH4v6Z6HI5KEeO/UQhbdkNx5r9Clg29Jfb4v5MxaImirfK/tK9g7els3L9QKnQyOXv7v0nNWXwPR+K/QWwdsBUn37/F2YlbzWjUv/6TgLFv8dK/Ta/b9jwm6r/t/1pSILGTP1EIW3ZDcea/vlrVOlT47L/4Ciw2mtGWvw==\",\"dtype\":\"float64\",\"order\":\"little\",\"shape\":[53]},\"principal_component_1\":{\"__ndarray__\":\"fRWMhntt2T9HnJZFWCnxP2eBHlf2mtg/6f4dZv7c379qGywXnaPtP4bBkDZaWXQ/6N2FPizsv7+sz+h8JxTcP1ZNsk78puE/N0UqJwTz5j+1z63ghxOjv5lu06S8RdY/4rIv7V2iwz9k6iTH4XHzPzDYZACmFsQ/Va1SDE473j8OyjX41qXzP4kxy7fjI+Q/GdCK7kVq5j8bhVUnIzDlP8Ab1FJINai/Tz98rN0cvz9mkFg5BOqMPx3f6GWaNc4/DM1ZRTXo8D+hsJMoZVfMP8+bvwf1kvA/tV4TnFcrsT90NwN1kKDRP8d9yQ7wbdE/oo3+VwPx4z+13kvRzh7VP8LEFNWD6de/1iTllsIb0j8wX21EL8y2PwQkQhu5t8w/7wRG5kBd4j/XjFDrsj/dv96A0gDGJNA/3F8IKHdz8j/4oUp+m+/WP1n35HGkDPQ/GOKIxsts9z/7RPpdThD0P4titwdQKu8/8oqkmmBE9T9ffP3wHsDyP932a9zEx/E/JzazatUo8z+UvvFQw4ztP9xfCCh3c/I/R9VbMZXv+D802SvtkrLuPw==\",\"dtype\":\"float64\",\"order\":\"little\",\"shape\":[53]},\"principal_component_2\":{\"__ndarray__\":\"j80hw3Uh/L99AFcJ4hrLv/IVlNb76eK/ZJSza/eU/b95jGFUCw+fP+nLA01tePC/8oKEXbZDBcDJ9gYTsCWuv0bNqHx+XPy/2nstxk+8x78wLLY26rLbvxu+JkVKZsi/k4nUeJ9N6b9h5T6HOSL6v71Ai9CC2fS/sQipiLWp2r9Cr8dW+Rvuv+bFU70Krdq/9DbCViNBsL9nGdg+X7fMv2YFEZBX6vC/asJ8cXkE+b9r1i92nSz5v0GekB1e1Oi/EC0SzX5h5L+Hbj2aaPnRv7iLs++KR/a/l8do/yc3y789ZwsN7Ub1vycJ/oM76fG/ucUd1SI0nD9n68QlE6Xvv87C5Ku5JADApUs7dJBT67+0jkY+Z2PGv1L2R1TcWdi/eDq1mhitw7+0+86JpaH4v6Z6HI5KEeO/UQhbdkNx5r9Clg29Jfb4v5MxaImirfK/tK9g7els3L9QKnQyOXv7v0nNWXwPR+K/QWwdsBUn37/F2YlbzWjUv/6TgLFv8dK/Ta/b9jwm6r/t/1pSILGTP1EIW3ZDcea/vlrVOlT47L/4Ciw2mtGWvw==\",\"dtype\":\"float64\",\"order\":\"little\",\"shape\":[53]}},\"selected\":{\"id\":\"1919\"},\"selection_policy\":{\"id\":\"1935\"}},\"id\":\"1918\",\"type\":\"ColumnDataSource\"},{\"attributes\":{},\"id\":\"1880\",\"type\":\"WheelZoomTool\"},{\"attributes\":{},\"id\":\"1866\",\"type\":\"LinearScale\"},{\"attributes\":{\"angle\":{\"value\":0.0},\"fill_alpha\":{\"value\":1.0},\"fill_color\":{\"value\":\"#e5ae38\"},\"hatch_alpha\":{\"value\":1.0},\"hatch_color\":{\"value\":\"#e5ae38\"},\"hatch_scale\":{\"value\":12.0},\"hatch_weight\":{\"value\":1.0},\"line_alpha\":{\"value\":1.0},\"line_cap\":{\"value\":\"butt\"},\"line_color\":{\"value\":\"#e5ae38\"},\"line_dash\":{\"value\":[]},\"line_dash_offset\":{\"value\":0},\"line_join\":{\"value\":\"bevel\"},\"line_width\":{\"value\":1},\"marker\":{\"value\":\"circle\"},\"size\":{\"value\":5.477225575051661},\"x\":{\"field\":\"principal component 1\"},\"y\":{\"field\":\"principal component 2\"}},\"id\":\"1963\",\"type\":\"Scatter\"},{\"attributes\":{\"fill_alpha\":{\"value\":0.2},\"fill_color\":{\"value\":\"#e5ae38\"},\"hatch_alpha\":{\"value\":0.2},\"hatch_color\":{\"value\":\"#e5ae38\"},\"line_alpha\":{\"value\":0.2},\"line_color\":{\"value\":\"#e5ae38\"},\"size\":{\"value\":5.477225575051661},\"x\":{\"field\":\"principal component 1\"},\"y\":{\"field\":\"principal component 2\"}},\"id\":\"1945\",\"type\":\"Scatter\"},{\"attributes\":{},\"id\":\"1959\",\"type\":\"UnionRenderers\"},{\"attributes\":{\"overlay\":{\"id\":\"1883\"}},\"id\":\"1881\",\"type\":\"BoxZoomTool\"},{\"attributes\":{\"label\":{\"value\":\"2\"},\"renderers\":[{\"id\":\"1946\"}]},\"id\":\"1962\",\"type\":\"LegendItem\"},{\"attributes\":{\"data\":{\"class\":[2,2,2,2,2,2,2,2,2,2,2,2,2,2,2,2,2,2,2,2,2,2,2,2,2,2,2,2,2,2,2,2,2,2,2,2,2,2,2,2,2,2,2,2,2,2,2],\"principal component 1\":{\"__ndarray__\":\"cJicP/Wp8T/ldLjqfHDnP0VUdjeu3/M/jH2nUXn15z95t9eWSwfsPwHqCkTLn+c/YokX1wP06z/oYaNJSxH0PxJwyrRZu/U/WyqW1lWi2z+iboqoZcrwP19oZCMRkP0/WqOtkJqmAUCrkwP82gT3P8Cof1zh4v0/cUK5SJgIBkDiZzhbjmwCQPMm68uNAwBAHk9oqvMjAkBqi3vYw9r1P6gQOb/Elfk/Na6UReUl/j8V0QQIDXj5P3cdkBhdivc/PvYnSsB/A0AuhisDH3kKQJTn9rPvUgBANS4taDwvB0A8qLnnkUT7P6IJnj3aUv8/HNLu7wVR8D+c2hYHfpP8P3obVl0h1v0/hvhsDuZ7A0AutjE3VocCQGctB9QUxP0/jE42KVhoBkCu+a/eUEj5P+3OTXR+jfU/OAUQICao/T8MDMQGFyEAQLRqwqkqc/4/Nw5TGLJYAEC2eb2NdgMAQOvgNY2o7f0/84JComFV+D8J9OTEsgX2Pw==\",\"dtype\":\"float64\",\"order\":\"little\",\"shape\":[47]},\"principal component 2\":{\"__ndarray__\":\"23b2/Z2e6z8bPDfKBSjjP9nNPSGgrOM/r1+rWRnr6D9kOXqk51HgP4hBqiETwtk/Yp7yIJwL0D/vh7BClya1v0MteShkC9U/CQg+Gkhd6z/Bk6QJ17XgP3osy2Xw5Os/CMTpFji+4T/FlDOr+pqpv+lEGSLnotI/ngetLdY66T9QO0mDhTXaP7CQnq/nKee/vI2XATu+/j8yoQKF0jTmP2p9L85taNu/a6dDi22E2j8ufGgVRqrlPy83rDJONNA/fzlsMT10BEAHi6QTDFhjvz90hSJpCe0/a5KR42l12T+PWt+y8znwP5yAK36oDfA/V6j7cmzHsD/vvEvBKb3Iv5HkXX2vxeE/1V7ipF+Szz8j4TWwbAIFQJmBO1NYo8e/Sys1XS0I6z+hj2oE2yjxPxb8A+M9Bts/u6TAq3yE5T/X+zteX4jjP952Ilnq8+U/tiJfoH+r6z86eOdp3MbwP/lDMiongNg/d9tvjSkT0T8bLdG5BEPwPw==\",\"dtype\":\"float64\",\"order\":\"little\",\"shape\":[47]},\"principal_component_1\":{\"__ndarray__\":\"cJicP/Wp8T/ldLjqfHDnP0VUdjeu3/M/jH2nUXn15z95t9eWSwfsPwHqCkTLn+c/YokX1wP06z/oYaNJSxH0PxJwyrRZu/U/WyqW1lWi2z+iboqoZcrwP19oZCMRkP0/WqOtkJqmAUCrkwP82gT3P8Cof1zh4v0/cUK5SJgIBkDiZzhbjmwCQPMm68uNAwBAHk9oqvMjAkBqi3vYw9r1P6gQOb/Elfk/Na6UReUl/j8V0QQIDXj5P3cdkBhdivc/PvYnSsB/A0AuhisDH3kKQJTn9rPvUgBANS4taDwvB0A8qLnnkUT7P6IJnj3aUv8/HNLu7wVR8D+c2hYHfpP8P3obVl0h1v0/hvhsDuZ7A0AutjE3VocCQGctB9QUxP0/jE42KVhoBkCu+a/eUEj5P+3OTXR+jfU/OAUQICao/T8MDMQGFyEAQLRqwqkqc/4/Nw5TGLJYAEC2eb2NdgMAQOvgNY2o7f0/84JComFV+D8J9OTEsgX2Pw==\",\"dtype\":\"float64\",\"order\":\"little\",\"shape\":[47]},\"principal_component_2\":{\"__ndarray__\":\"23b2/Z2e6z8bPDfKBSjjP9nNPSGgrOM/r1+rWRnr6D9kOXqk51HgP4hBqiETwtk/Yp7yIJwL0D/vh7BClya1v0MteShkC9U/CQg+Gkhd6z/Bk6QJ17XgP3osy2Xw5Os/CMTpFji+4T/FlDOr+pqpv+lEGSLnotI/ngetLdY66T9QO0mDhTXaP7CQnq/nKee/vI2XATu+/j8yoQKF0jTmP2p9L85taNu/a6dDi22E2j8ufGgVRqrlPy83rDJONNA/fzlsMT10BEAHi6QTDFhjvz90hSJpCe0/a5KR42l12T+PWt+y8znwP5yAK36oDfA/V6j7cmzHsD/vvEvBKb3Iv5HkXX2vxeE/1V7ipF+Szz8j4TWwbAIFQJmBO1NYo8e/Sys1XS0I6z+hj2oE2yjxPxb8A+M9Bts/u6TAq3yE5T/X+zteX4jjP952Ilnq8+U/tiJfoH+r6z86eOdp3MbwP/lDMiongNg/d9tvjSkT0T8bLdG5BEPwPw==\",\"dtype\":\"float64\",\"order\":\"little\",\"shape\":[47]}},\"selected\":{\"id\":\"1941\"},\"selection_policy\":{\"id\":\"1959\"}},\"id\":\"1940\",\"type\":\"ColumnDataSource\"},{\"attributes\":{\"fill_color\":{\"value\":\"#e5ae38\"},\"hatch_color\":{\"value\":\"#e5ae38\"},\"line_color\":{\"value\":\"#e5ae38\"},\"size\":{\"value\":5.477225575051661},\"x\":{\"field\":\"principal component 1\"},\"y\":{\"field\":\"principal component 2\"}},\"id\":\"1943\",\"type\":\"Scatter\"},{\"attributes\":{\"coordinates\":null,\"data_source\":{\"id\":\"1918\"},\"glyph\":{\"id\":\"1921\"},\"group\":null,\"hover_glyph\":null,\"muted_glyph\":{\"id\":\"1923\"},\"nonselection_glyph\":{\"id\":\"1922\"},\"selection_glyph\":{\"id\":\"1939\"},\"view\":{\"id\":\"1925\"}},\"id\":\"1924\",\"type\":\"GlyphRenderer\"},{\"attributes\":{\"source\":{\"id\":\"1897\"}},\"id\":\"1904\",\"type\":\"CDSView\"},{\"attributes\":{\"axis\":{\"id\":\"1870\"},\"coordinates\":null,\"grid_line_color\":null,\"group\":null,\"ticker\":null},\"id\":\"1873\",\"type\":\"Grid\"},{\"attributes\":{\"below\":[{\"id\":\"1870\"}],\"center\":[{\"id\":\"1873\"},{\"id\":\"1877\"}],\"height\":300,\"left\":[{\"id\":\"1874\"}],\"margin\":[5,5,5,5],\"min_border_bottom\":10,\"min_border_left\":10,\"min_border_right\":10,\"min_border_top\":10,\"renderers\":[{\"id\":\"1903\"},{\"id\":\"1924\"},{\"id\":\"1946\"}],\"right\":[{\"id\":\"1915\"}],\"sizing_mode\":\"fixed\",\"title\":{\"id\":\"1862\"},\"toolbar\":{\"id\":\"1884\"},\"width\":700,\"x_range\":{\"id\":\"1856\"},\"x_scale\":{\"id\":\"1866\"},\"y_range\":{\"id\":\"1857\"},\"y_scale\":{\"id\":\"1868\"}},\"id\":\"1861\",\"subtype\":\"Figure\",\"type\":\"Plot\"},{\"attributes\":{\"coordinates\":null,\"group\":null,\"text_color\":\"black\",\"text_font_size\":\"12pt\"},\"id\":\"1862\",\"type\":\"Title\"},{\"attributes\":{\"coordinates\":null,\"data_source\":{\"id\":\"1940\"},\"glyph\":{\"id\":\"1943\"},\"group\":null,\"hover_glyph\":null,\"muted_glyph\":{\"id\":\"1945\"},\"nonselection_glyph\":{\"id\":\"1944\"},\"selection_glyph\":{\"id\":\"1963\"},\"view\":{\"id\":\"1947\"}},\"id\":\"1946\",\"type\":\"GlyphRenderer\"},{\"attributes\":{\"data\":{\"class\":[0,0,0,0,0,0,0,0,0,0,0,0,0,0,0,0,0,0,0,0,0,0,0,0,0,0,0,0,0,0,0,0,0,0,0,0,0,0,0,0,0,0,0,0,0,0,0,0,0,0],\"principal component 1\":{\"__ndarray__\":\"OxG/DcgdAsCeflXa/7AAwCstSgGQ8QLAqnjV6/5uAsB8OOBfNxwDwLEJAJp1kADA6lhZG9GQA8C3vPx66N4BwLbvZ05UvALA4dUzb2iCAcDFACQK0k4BwH2PWzp4ngLAakHW4evKAcBtYBiPIx4FwOBkYiHQiQHA7MLFMQADAsDCicmkO58BwNHnRqd8hQHADrKL2CBO/r9tMd43N7gCwDUu6+IFov6/J3pNIB2jAcAhHszufzEGwHCyHOBnIP2/cW9EsmPTAcBkStBn+E//v+cJWiugagDAzhcE6nVYAcDy6Z27WB8BwCENM3l7JgLA3eURJwwoAcCuCNRTnk/9v3SUD3eZ3QTAxoxIYeyAA8Dh1TNvaIIBwATB4qBfsAHApwtPDPdaAMDh1TNvaIIBwJvdMoLUfAPAUiP02UddAcA64QHLzkoCwFxzDEaD8v2/XPlj5HF2BMD2iQQfsG3/v/eHnMYlEQHAnu7lFFWaAMDP+qMb0QwDwI9moB9/LwPAKposq3LQAcDbjpZMy6UBwA==\",\"dtype\":\"float64\",\"order\":\"little\",\"shape\":[50]},\"principal component 2\":{\"__ndarray__\":\"Y+9787ku4D/xF8lWE/nkv2bYpqjuYdS/DCSQjGlp4r/T0afLsZflP7m+IZP5S/g/OySoGooWsz98eXQ10LHPP80IOjG4hfG/gk6pnFa23L9oMKXTKCHxPy2/qP2XTMQ/oao3kBix5r+FiXLvZwbuv9qryBtaPf4/krWrfGrHBUBhjF03Ujj4Pzf+/04udeA/9Ek0V9Tl9j8mpZIPTofyP3HAlsG9jNs/2/KSxId67j8/u+o4P1TfPybWDBwFVLs/R+1BJITCxD+yYRod23Pjv2+qjuRgBtE/b4xIfx6q4T/hGaA2hIvVP1tBWpX4JtS/PwayRej43r8Ulx54QH/cP7ZxJTRvQf0/w7Jwma57AUCCTqmcVrbcvwrn16FhmMe/s+VDvSnr5T+CTqmcVrbcv3PEP1q7Ouy/eUSP1gm80j9TwmaGk/PdP3x/28YcnwLAo+8l3FML3b9jssu+Q9XfP+reGJkvvvI/9owv2S8k5r9SqsG4/WjyP9GttwhpMde/d+6vZGBo8D8A7kmWeoGgPw==\",\"dtype\":\"float64\",\"order\":\"little\",\"shape\":[50]},\"principal_component_1\":{\"__ndarray__\":\"OxG/DcgdAsCeflXa/7AAwCstSgGQ8QLAqnjV6/5uAsB8OOBfNxwDwLEJAJp1kADA6lhZG9GQA8C3vPx66N4BwLbvZ05UvALA4dUzb2iCAcDFACQK0k4BwH2PWzp4ngLAakHW4evKAcBtYBiPIx4FwOBkYiHQiQHA7MLFMQADAsDCicmkO58BwNHnRqd8hQHADrKL2CBO/r9tMd43N7gCwDUu6+IFov6/J3pNIB2jAcAhHszufzEGwHCyHOBnIP2/cW9EsmPTAcBkStBn+E//v+cJWiugagDAzhcE6nVYAcDy6Z27WB8BwCENM3l7JgLA3eURJwwoAcCuCNRTnk/9v3SUD3eZ3QTAxoxIYeyAA8Dh1TNvaIIBwATB4qBfsAHApwtPDPdaAMDh1TNvaIIBwJvdMoLUfAPAUiP02UddAcA64QHLzkoCwFxzDEaD8v2/XPlj5HF2BMD2iQQfsG3/v/eHnMYlEQHAnu7lFFWaAMDP+qMb0QwDwI9moB9/LwPAKposq3LQAcDbjpZMy6UBwA==\",\"dtype\":\"float64\",\"order\":\"little\",\"shape\":[50]},\"principal_component_2\":{\"__ndarray__\":\"Y+9787ku4D/xF8lWE/nkv2bYpqjuYdS/DCSQjGlp4r/T0afLsZflP7m+IZP5S/g/OySoGooWsz98eXQ10LHPP80IOjG4hfG/gk6pnFa23L9oMKXTKCHxPy2/qP2XTMQ/oao3kBix5r+FiXLvZwbuv9qryBtaPf4/krWrfGrHBUBhjF03Ujj4Pzf+/04udeA/9Ek0V9Tl9j8mpZIPTofyP3HAlsG9jNs/2/KSxId67j8/u+o4P1TfPybWDBwFVLs/R+1BJITCxD+yYRod23Pjv2+qjuRgBtE/b4xIfx6q4T/hGaA2hIvVP1tBWpX4JtS/PwayRej43r8Ulx54QH/cP7ZxJTRvQf0/w7Jwma57AUCCTqmcVrbcvwrn16FhmMe/s+VDvSnr5T+CTqmcVrbcv3PEP1q7Ouy/eUSP1gm80j9TwmaGk/PdP3x/28YcnwLAo+8l3FML3b9jssu+Q9XfP+reGJkvvvI/9owv2S8k5r9SqsG4/WjyP9GttwhpMde/d+6vZGBo8D8A7kmWeoGgPw==\",\"dtype\":\"float64\",\"order\":\"little\",\"shape\":[50]}},\"selected\":{\"id\":\"1898\"},\"selection_policy\":{\"id\":\"1912\"}},\"id\":\"1897\",\"type\":\"ColumnDataSource\"},{\"attributes\":{\"fill_color\":{\"value\":\"#fc4f30\"},\"hatch_color\":{\"value\":\"#fc4f30\"},\"line_color\":{\"value\":\"#fc4f30\"},\"size\":{\"value\":5.477225575051661},\"x\":{\"field\":\"principal component 1\"},\"y\":{\"field\":\"principal component 2\"}},\"id\":\"1921\",\"type\":\"Scatter\"},{\"attributes\":{},\"id\":\"1875\",\"type\":\"BasicTicker\"},{\"attributes\":{\"label\":{\"value\":\"0\"},\"renderers\":[{\"id\":\"1903\"}]},\"id\":\"1916\",\"type\":\"LegendItem\"},{\"attributes\":{},\"id\":\"1912\",\"type\":\"UnionRenderers\"},{\"attributes\":{},\"id\":\"1871\",\"type\":\"BasicTicker\"},{\"attributes\":{},\"id\":\"1898\",\"type\":\"Selection\"},{\"attributes\":{},\"id\":\"1919\",\"type\":\"Selection\"},{\"attributes\":{\"fill_alpha\":{\"value\":0.1},\"fill_color\":{\"value\":\"#fc4f30\"},\"hatch_alpha\":{\"value\":0.1},\"hatch_color\":{\"value\":\"#fc4f30\"},\"line_alpha\":{\"value\":0.1},\"line_color\":{\"value\":\"#fc4f30\"},\"size\":{\"value\":5.477225575051661},\"x\":{\"field\":\"principal component 1\"},\"y\":{\"field\":\"principal component 2\"}},\"id\":\"1922\",\"type\":\"Scatter\"},{\"attributes\":{\"source\":{\"id\":\"1940\"}},\"id\":\"1947\",\"type\":\"CDSView\"},{\"attributes\":{},\"id\":\"1868\",\"type\":\"LinearScale\"},{\"attributes\":{\"angle\":{\"value\":0.0},\"fill_alpha\":{\"value\":1.0},\"fill_color\":{\"value\":\"#30a2da\"},\"hatch_alpha\":{\"value\":1.0},\"hatch_color\":{\"value\":\"#30a2da\"},\"hatch_scale\":{\"value\":12.0},\"hatch_weight\":{\"value\":1.0},\"line_alpha\":{\"value\":1.0},\"line_cap\":{\"value\":\"butt\"},\"line_color\":{\"value\":\"#30a2da\"},\"line_dash\":{\"value\":[]},\"line_dash_offset\":{\"value\":0},\"line_join\":{\"value\":\"bevel\"},\"line_width\":{\"value\":1},\"marker\":{\"value\":\"circle\"},\"size\":{\"value\":5.477225575051661},\"x\":{\"field\":\"principal component 1\"},\"y\":{\"field\":\"principal component 2\"}},\"id\":\"1917\",\"type\":\"Scatter\"},{\"attributes\":{\"axis_label\":\"principal component 2\",\"coordinates\":null,\"formatter\":{\"id\":\"1895\"},\"group\":null,\"major_label_policy\":{\"id\":\"1896\"},\"ticker\":{\"id\":\"1875\"}},\"id\":\"1874\",\"type\":\"LinearAxis\"},{\"attributes\":{\"axis_label\":\"principal component 1\",\"coordinates\":null,\"formatter\":{\"id\":\"1892\"},\"group\":null,\"major_label_policy\":{\"id\":\"1893\"},\"ticker\":{\"id\":\"1871\"}},\"id\":\"1870\",\"type\":\"LinearAxis\"},{\"attributes\":{\"source\":{\"id\":\"1918\"}},\"id\":\"1925\",\"type\":\"CDSView\"},{\"attributes\":{\"coordinates\":null,\"data_source\":{\"id\":\"1897\"},\"glyph\":{\"id\":\"1900\"},\"group\":null,\"hover_glyph\":null,\"muted_glyph\":{\"id\":\"1902\"},\"nonselection_glyph\":{\"id\":\"1901\"},\"selection_glyph\":{\"id\":\"1917\"},\"view\":{\"id\":\"1904\"}},\"id\":\"1903\",\"type\":\"GlyphRenderer\"},{\"attributes\":{\"angle\":{\"value\":0.0},\"fill_alpha\":{\"value\":1.0},\"fill_color\":{\"value\":\"#fc4f30\"},\"hatch_alpha\":{\"value\":1.0},\"hatch_color\":{\"value\":\"#fc4f30\"},\"hatch_scale\":{\"value\":12.0},\"hatch_weight\":{\"value\":1.0},\"line_alpha\":{\"value\":1.0},\"line_cap\":{\"value\":\"butt\"},\"line_color\":{\"value\":\"#fc4f30\"},\"line_dash\":{\"value\":[]},\"line_dash_offset\":{\"value\":0},\"line_join\":{\"value\":\"bevel\"},\"line_width\":{\"value\":1},\"marker\":{\"value\":\"circle\"},\"size\":{\"value\":5.477225575051661},\"x\":{\"field\":\"principal component 1\"},\"y\":{\"field\":\"principal component 2\"}},\"id\":\"1939\",\"type\":\"Scatter\"},{\"attributes\":{},\"id\":\"1941\",\"type\":\"Selection\"},{\"attributes\":{\"axis\":{\"id\":\"1874\"},\"coordinates\":null,\"dimension\":1,\"grid_line_color\":null,\"group\":null,\"ticker\":null},\"id\":\"1877\",\"type\":\"Grid\"},{\"attributes\":{\"end\":3.569854510235274,\"reset_end\":3.569854510235274,\"reset_start\":-3.0348831212643517,\"start\":-3.0348831212643517,\"tags\":[[[\"principal component 1\",\"principal component 1\",null]]]},\"id\":\"1856\",\"type\":\"Range1d\"},{\"attributes\":{\"click_policy\":\"mute\",\"coordinates\":null,\"group\":null,\"items\":[{\"id\":\"1916\"},{\"id\":\"1938\"},{\"id\":\"1962\"}],\"location\":[0,0],\"title\":\"class\"},\"id\":\"1915\",\"type\":\"Legend\"},{\"attributes\":{},\"id\":\"1896\",\"type\":\"AllLabels\"},{\"attributes\":{\"children\":[{\"id\":\"1855\"},{\"id\":\"1861\"},{\"id\":\"2090\"}],\"margin\":[0,0,0,0],\"name\":\"Row03290\",\"tags\":[\"embedded\"]},\"id\":\"1854\",\"type\":\"Row\"},{\"attributes\":{\"label\":{\"value\":\"1\"},\"renderers\":[{\"id\":\"1924\"}]},\"id\":\"1938\",\"type\":\"LegendItem\"},{\"attributes\":{},\"id\":\"1893\",\"type\":\"AllLabels\"},{\"attributes\":{\"margin\":[5,5,5,5],\"name\":\"HSpacer03294\",\"sizing_mode\":\"stretch_width\"},\"id\":\"1855\",\"type\":\"Spacer\"},{\"attributes\":{\"end\":3.260414452028092,\"reset_end\":3.260414452028092,\"reset_start\":-3.1961060534153827,\"start\":-3.1961060534153827,\"tags\":[[[\"principal component 2\",\"principal component 2\",null]]]},\"id\":\"1857\",\"type\":\"Range1d\"},{\"attributes\":{},\"id\":\"1895\",\"type\":\"BasicTickFormatter\"},{\"attributes\":{},\"id\":\"1892\",\"type\":\"BasicTickFormatter\"},{\"attributes\":{\"fill_alpha\":{\"value\":0.1},\"fill_color\":{\"value\":\"#30a2da\"},\"hatch_alpha\":{\"value\":0.1},\"hatch_color\":{\"value\":\"#30a2da\"},\"line_alpha\":{\"value\":0.1},\"line_color\":{\"value\":\"#30a2da\"},\"size\":{\"value\":5.477225575051661},\"x\":{\"field\":\"principal component 1\"},\"y\":{\"field\":\"principal component 2\"}},\"id\":\"1901\",\"type\":\"Scatter\"},{\"attributes\":{},\"id\":\"1935\",\"type\":\"UnionRenderers\"}],\"root_ids\":[\"1854\"]},\"title\":\"Bokeh Application\",\"version\":\"2.4.2\"}};\n",
       "    var render_items = [{\"docid\":\"6e5c2607-ad12-4c2b-9981-f696e6024f50\",\"root_ids\":[\"1854\"],\"roots\":{\"1854\":\"859f9bd7-84c5-4a30-a805-271df5e88634\"}}];\n",
       "    root.Bokeh.embed.embed_items_notebook(docs_json, render_items);\n",
       "  }\n",
       "  if (root.Bokeh !== undefined && root.Bokeh.Panel !== undefined) {\n",
       "    embed_document(root);\n",
       "  } else {\n",
       "    var attempts = 0;\n",
       "    var timer = setInterval(function(root) {\n",
       "      if (root.Bokeh !== undefined && root.Bokeh.Panel !== undefined) {\n",
       "        clearInterval(timer);\n",
       "        embed_document(root);\n",
       "      } else if (document.readyState == \"complete\") {\n",
       "        attempts++;\n",
       "        if (attempts > 200) {\n",
       "          clearInterval(timer);\n",
       "          console.log(\"Bokeh: ERROR: Unable to run BokehJS code because BokehJS library is missing\");\n",
       "        }\n",
       "      }\n",
       "    }, 25, root)\n",
       "  }\n",
       "})(window);</script>"
      ],
      "text/plain": [
       ":NdOverlay   [class]\n",
       "   :Scatter   [principal component 1]   (principal component 2,class)"
      ]
     },
     "execution_count": 28,
     "metadata": {
      "application/vnd.holoviews_exec.v0+json": {
       "id": "1854"
      }
     },
     "output_type": "execute_result"
    }
   ],
   "source": [
    "df_iris_pca.hvplot.scatter(\n",
    "    x=\"principal component 1\",\n",
    "    y=\"principal component 2\",\n",
    "    hover_cols=[\"class\"],\n",
    "    by=\"class\",\n",
    ")"
   ]
  },
  {
   "cell_type": "code",
   "execution_count": null,
   "id": "13055a06-5b14-43dc-8808-e3623840aa73",
   "metadata": {},
   "outputs": [],
   "source": []
  }
 ],
 "metadata": {
  "kernelspec": {
   "display_name": "mlenv",
   "language": "python",
   "name": "mlenv"
  },
  "language_info": {
   "codemirror_mode": {
    "name": "ipython",
    "version": 3
   },
   "file_extension": ".py",
   "mimetype": "text/x-python",
   "name": "python",
   "nbconvert_exporter": "python",
   "pygments_lexer": "ipython3",
   "version": "3.7.13"
  }
 },
 "nbformat": 4,
 "nbformat_minor": 5
}
